{
 "cells": [
  {
   "cell_type": "markdown",
   "id": "31f34818-9c0d-4fb3-8975-5bbb918ab6db",
   "metadata": {},
   "source": [
    "## Python Operator's"
   ]
  },
  {
   "cell_type": "markdown",
   "id": "131cbcbb-59a1-4c0f-b3c4-15473fd51505",
   "metadata": {},
   "source": [
    "- Operator's are special symbols or keywords used to perform operations on variables and values.\n",
    "- They form the backbone of Python expressions and statements, allowing you to manipulate data effectively.\n",
    "- Python divide the operator's in the following groups.\n",
    " 1. Arithmetic Operator\n",
    " 2. Assigment Operator\n",
    " 3. Comparision Operator\n",
    " 4. Logical Operator\n",
    " 5. Identity Operator\n",
    " 6. Membership Operator\n",
    " 7. Bitwise Operator"
   ]
  },
  {
   "cell_type": "markdown",
   "id": "c35f9d6b-6231-407a-8fc0-d9c399dbbe2c",
   "metadata": {},
   "source": [
    "### Arithmetic Operator"
   ]
  },
  {
   "cell_type": "markdown",
   "id": "34efa1a1-b3e3-4898-8550-1b73f4e98dae",
   "metadata": {},
   "source": [
    "- These operators are used to perform basic mathematical operations.\t"
   ]
  },
  {
   "cell_type": "markdown",
   "id": "e82c0dd0-9890-4b73-8197-ef344e8e2c43",
   "metadata": {},
   "source": [
    "|  Operator    |  Description   |   Example  |\n",
    "|--------------|-------------   |------------|\n",
    "|    +         |   Addition\t    |   x + y    |\n",
    "|    -\t       |  Subtraction   |   x - y    |\n",
    "|    *\t       |  Multiplication|\tx * y    |\n",
    "|    /\t       | Division (quo)\t|   x / y    |\n",
    "|    %\t       |   Modulus(Rem)\t|   x % y    |\n",
    "|   //\t       | Floor division |\tx // y   |\n",
    "|   **\t       | Exponentiation\t|   x ** y   |"
   ]
  },
  {
   "cell_type": "markdown",
   "id": "5d2e9d6b-9ef1-48fe-92a8-aa831bd5d68e",
   "metadata": {},
   "source": [
    "### 5 Examples on each Arithmetic Operator's"
   ]
  },
  {
   "cell_type": "code",
   "execution_count": 239,
   "id": "cb2a2f1d-4ef1-4b8f-80e6-c896c73f72c2",
   "metadata": {},
   "outputs": [
    {
     "name": "stdout",
     "output_type": "stream",
     "text": [
      "25\n",
      "30\n",
      "150\n",
      "1525\n",
      "8\n"
     ]
    }
   ],
   "source": [
    "# 5 examples on Add(+) - operator\n",
    "# Eaxmple - 1\n",
    "a = 10\n",
    "b = 15\n",
    "c = a + b \n",
    "print(c)\n",
    "\n",
    "# Example - 2\n",
    "d = 25\n",
    "d += 5\n",
    "print(d)\n",
    "\n",
    "# Example - 3\n",
    "print(100 + 50)\n",
    "\n",
    "# Example - 4\n",
    "drlg = 1000\n",
    "deva = 525\n",
    "gopal = deva + drlg\n",
    "print(gopal)\n",
    "\n",
    "# Example - 5\n",
    "x = 5\n",
    "y = 3\n",
    "print(x + y)\n"
   ]
  },
  {
   "cell_type": "code",
   "execution_count": 241,
   "id": "711668df-a9cf-4ba6-844b-46188cfd883a",
   "metadata": {},
   "outputs": [
    {
     "name": "stdout",
     "output_type": "stream",
     "text": [
      "-5\n",
      "20\n",
      "50\n",
      "-475\n",
      "2\n"
     ]
    }
   ],
   "source": [
    "# 5 examples on Sub(-) - operator\n",
    "# Eaxmple - 1\n",
    "a = 10\n",
    "b = 15\n",
    "c = a - b \n",
    "print(c)\n",
    "\n",
    "# Example - 2\n",
    "d = 25\n",
    "d -= 5\n",
    "print(d)\n",
    "\n",
    "# Example - 3\n",
    "print(100 - 50)\n",
    "\n",
    "# Example - 4\n",
    "drlg = 1000\n",
    "deva = 525\n",
    "gopal = deva - drlg\n",
    "print(gopal)\n",
    "\n",
    "# Example - 5\n",
    "x = 5\n",
    "y = 3\n",
    "print(x - y)"
   ]
  },
  {
   "cell_type": "code",
   "execution_count": 243,
   "id": "0b74dceb-351d-43d1-936b-6408534443dd",
   "metadata": {},
   "outputs": [
    {
     "name": "stdout",
     "output_type": "stream",
     "text": [
      "15\n",
      "50\n",
      "SakkuSakkuSakku\n",
      "125\n",
      "300\n"
     ]
    }
   ],
   "source": [
    "# 5 examples on Mul(*) - operator\n",
    "# Eaxmple - 1\n",
    "num1 = 5\n",
    "num2 = 3\n",
    "result = num1 * num2\n",
    "print(result)\n",
    "\n",
    "# Eaxmple - 2\n",
    "length = 10\n",
    "width = 5\n",
    "area = length * width\n",
    "print(area)\n",
    "\n",
    "# Example - 3\n",
    "name = \"Sakku\"\n",
    "repeate = name * 3\n",
    "print(repeate)\n",
    "\n",
    "# Example - 4\n",
    "print(25*5)\n",
    "\n",
    "# Example - 5\n",
    "num = 100\n",
    "mul = 3\n",
    "print(num * mul)\n"
   ]
  },
  {
   "cell_type": "code",
   "execution_count": 245,
   "id": "cf2cefcd-5330-40b1-a9ad-e5190933ae50",
   "metadata": {},
   "outputs": [
    {
     "name": "stdout",
     "output_type": "stream",
     "text": [
      "3.0\n",
      "2.25\n",
      "-5.0\n",
      "5.0\n",
      "33.333333333333336\n"
     ]
    }
   ],
   "source": [
    "# 5 examples on Div(/) - operator\n",
    "# Eaxmple - 1\n",
    "num1 = 7.5\n",
    "num2 = 2.5\n",
    "result = num1 / num2\n",
    "print(result)\n",
    "\n",
    "# Eaxmple - 2\n",
    "length = 9\n",
    "width = 4\n",
    "area = length / width\n",
    "print(area)\n",
    "\n",
    "# Example - 3\n",
    "x = -15\n",
    "y = 3\n",
    "result = x / y\n",
    "print(result) \n",
    "\n",
    "# Example - 4\n",
    "print(25/5)\n",
    "\n",
    "# Example - 5\n",
    "num = 100\n",
    "mul = 3\n",
    "print(num / mul)\n"
   ]
  },
  {
   "cell_type": "code",
   "execution_count": 247,
   "id": "f467d6ac-6ba9-4a33-bbf3-67bb388f345e",
   "metadata": {},
   "outputs": [
    {
     "name": "stdout",
     "output_type": "stream",
     "text": [
      "1\n",
      "5\n",
      "0\n",
      "0\n",
      "1\n"
     ]
    }
   ],
   "source": [
    "# 5 examples on Modulus(%) - operator\n",
    "# Eaxmple - 1\n",
    "num1 = 10\n",
    "num2 = 3\n",
    "modulus = num1 % num2\n",
    "print(modulus)\n",
    "\n",
    "# Eaxmple - 2\n",
    "length = 12345\n",
    "area =  length % 10\n",
    "print(area)\n",
    "\n",
    "# Example - 3\n",
    "x = -15\n",
    "y = 3\n",
    "result = x % y\n",
    "print(result) \n",
    "\n",
    "# Example - 4\n",
    "print(255 % 5)\n",
    "\n",
    "# Example - 5\n",
    "num = 100\n",
    "mul = 3\n",
    "print(num % mul)"
   ]
  },
  {
   "cell_type": "code",
   "execution_count": 249,
   "id": "17de8c10-88b1-4b95-85bd-5c637cf832a9",
   "metadata": {},
   "outputs": [
    {
     "name": "stdout",
     "output_type": "stream",
     "text": [
      "2\n",
      "2\n",
      "-5\n",
      "5\n",
      "33\n"
     ]
    }
   ],
   "source": [
    "# 5 examples on Floor - Divison(//) - operator\n",
    "# Eaxmple - 1\n",
    "num1 = 10\n",
    "num2 = 4\n",
    "result = num1 // num2\n",
    "print(result)\n",
    "\n",
    "# Eaxmple - 2\n",
    "length = 9\n",
    "width = 4\n",
    "area = length // width\n",
    "print(area)\n",
    "\n",
    "# Example - 3\n",
    "x = -15\n",
    "y = 3\n",
    "result = x // y\n",
    "print(result) \n",
    "\n",
    "# Example - 4\n",
    "print(25 // 5)\n",
    "\n",
    "# Example - 5\n",
    "num = 100\n",
    "mul = 3\n",
    "print(num // mul)"
   ]
  },
  {
   "cell_type": "code",
   "execution_count": 251,
   "id": "b311fe9e-1d45-4d66-8519-1f567754b22b",
   "metadata": {},
   "outputs": [
    {
     "name": "stdout",
     "output_type": "stream",
     "text": [
      "125\n",
      "100000\n",
      "1000\n",
      "9765625\n",
      "343\n"
     ]
    }
   ],
   "source": [
    "# 5 examples on Exponentiation(**) - operator\n",
    "# Eaxmple - 1\n",
    "num1 = 5\n",
    "num2 = 3\n",
    "result = num1 ** num2\n",
    "print(result)\n",
    "\n",
    "# Eaxmple - 2\n",
    "length = 10\n",
    "width = 5\n",
    "area = length ** width\n",
    "print(area)\n",
    "\n",
    "# Example - 3\n",
    "num = 10\n",
    "exp = num ** 3\n",
    "print(exp)\n",
    "\n",
    "# Example - 4\n",
    "print(25 ** 5)\n",
    "\n",
    "# Example - 5\n",
    "num = 7\n",
    "mul = 3\n",
    "print(num ** mul)\n"
   ]
  },
  {
   "cell_type": "markdown",
   "id": "67a637a9-473a-469f-90bf-74ace6124392",
   "metadata": {},
   "source": [
    "## Assigment Operator"
   ]
  },
  {
   "cell_type": "markdown",
   "id": "5dc73100-2dca-40c7-8394-4888e3fa4ea8",
   "metadata": {},
   "source": [
    "- It was used to optimize the code.\n",
    "- Assigment operator are used to assgin the values to variables."
   ]
  },
  {
   "cell_type": "markdown",
   "id": "153b1a00-9745-44a8-99dd-7fd46b455830",
   "metadata": {},
   "source": [
    "|  Operator     |  Example  |\n",
    "|-------------- |-----------|\n",
    "|    =          |   x = y   |\n",
    "|    +=         |   x += y  |\n",
    "|    -=\t        |   x -= y  |\n",
    "|    *=\t        |   x *= y  |\n",
    "|    /=         |   x /= y  |\n",
    "|    %=\t        |   x %= y  |\n",
    "|   //=\t        |   x //= y |\n",
    "|   **=\t        |   x **= y |"
   ]
  },
  {
   "cell_type": "markdown",
   "id": "91b0928a-57c8-4031-97c4-a0a4c6ee8983",
   "metadata": {},
   "source": [
    "### 5 Examples on each Assigment Operator's"
   ]
  },
  {
   "cell_type": "code",
   "execution_count": 257,
   "id": "beab501f-4736-4b1d-8880-86b54c279067",
   "metadata": {},
   "outputs": [],
   "source": [
    "# 5 examples on Equal(=) - operator\n",
    "# Eaxmple - 1\n",
    "a = 10\n",
    "\n",
    "# Example - 2\n",
    "b = 100\n",
    "\n",
    "# Example - 3\n",
    "print_100 = 100\n",
    "\n",
    "# Example - 4\n",
    "drlg = 1000\n",
    "\n",
    "# Example - 5\n",
    "x = 5\n"
   ]
  },
  {
   "cell_type": "code",
   "execution_count": 259,
   "id": "a420ce62-e87e-4db5-9b02-2ef9f16ecaed",
   "metadata": {},
   "outputs": [
    {
     "name": "stdout",
     "output_type": "stream",
     "text": [
      "8\n",
      "1\n",
      "13\n",
      "6000000\n",
      "10\n"
     ]
    }
   ],
   "source": [
    "# 5 examples on Add-equal-to (+=) - operator\n",
    "# Eaxmple - 1\n",
    "x = 5\n",
    "x += 3  \n",
    "print(x)\n",
    "\n",
    "# Eaxmple - 2\n",
    "count = 0\n",
    "count += 1\n",
    "print(count)\n",
    "\n",
    "# Example - 3\n",
    "num = 10\n",
    "num += 3\n",
    "print(num)\n",
    "\n",
    "# Example - 4\n",
    "deva = 5000000\n",
    "drlg = 1000000\n",
    "drlg += deva\n",
    "print(drlg)\n",
    "\n",
    "# Example - 5\n",
    "num = 7\n",
    "mul = 3\n",
    "num += mul\n",
    "print(num)\n"
   ]
  },
  {
   "cell_type": "code",
   "execution_count": 261,
   "id": "a197cd88-4bdf-46d1-bddb-f6663856da3b",
   "metadata": {},
   "outputs": [
    {
     "name": "stdout",
     "output_type": "stream",
     "text": [
      "-5\n",
      "20\n",
      "-1\n",
      "-475\n",
      "2\n"
     ]
    }
   ],
   "source": [
    "# 5 examples on Sub-equal-to (-=) - operator\n",
    "# Eaxmple - 1\n",
    "a = 10\n",
    "b = 15\n",
    "a -= b \n",
    "print(a)\n",
    "\n",
    "# Example - 2\n",
    "d = 25\n",
    "d -= 5\n",
    "print(d)\n",
    "\n",
    "# Example - 3\n",
    "count = 0\n",
    "count -= 1\n",
    "print(count)\n",
    "\n",
    "# Example - 4\n",
    "drlg = 1000\n",
    "deva = 525\n",
    "deva -= drlg\n",
    "print(deva)\n",
    "\n",
    "# Example - 5\n",
    "x = 5\n",
    "x -= 3\n",
    "print(x)"
   ]
  },
  {
   "cell_type": "code",
   "execution_count": 263,
   "id": "ab322dc7-6826-440b-8d3e-b444bc38f9e3",
   "metadata": {},
   "outputs": [
    {
     "name": "stdout",
     "output_type": "stream",
     "text": [
      "15\n",
      "50\n",
      "SakkuSakkuSakku\n",
      "138888875\n",
      "300\n"
     ]
    }
   ],
   "source": [
    "# 5 examples on Mul-equal-to (*=) - operator\n",
    "# Eaxmple - 1\n",
    "num1 = 5\n",
    "num2 = 3\n",
    "num1 *= num2\n",
    "print(num1)\n",
    "\n",
    "# Eaxmple - 2\n",
    "length = 10\n",
    "width = 5\n",
    "width *= length\n",
    "print(width)\n",
    "\n",
    "# Example - 3\n",
    "name = \"Sakku\"\n",
    "name *= 3\n",
    "print(name)\n",
    "\n",
    "# Example - 4\n",
    "print_1 = 25 \n",
    "print_2 = 5555555\n",
    "print_2 *= print_1\n",
    "print(print_2)\n",
    "\n",
    "# Example - 5\n",
    "num = 100\n",
    "ans = 3\n",
    "ans *= num\n",
    "print(ans)\n"
   ]
  },
  {
   "cell_type": "code",
   "execution_count": 265,
   "id": "98bc0104-9cd4-45f2-8e77-4f95a14b44c4",
   "metadata": {},
   "outputs": [
    {
     "name": "stdout",
     "output_type": "stream",
     "text": [
      "3.0\n",
      "2.25\n",
      "-5.0\n",
      "222222.2\n",
      "300\n"
     ]
    }
   ],
   "source": [
    "# 5 examples on Div-eual-to(/=) - operator\n",
    "# Eaxmple - 1\n",
    "num1 = 7.5\n",
    "num2 = 2.5\n",
    "num1 /= num2\n",
    "print(num1)\n",
    "\n",
    "# Eaxmple - 2\n",
    "length = 9\n",
    "width = 4\n",
    "length /= width\n",
    "print(length)\n",
    "\n",
    "# Example - 3\n",
    "x = -15\n",
    "y = 3\n",
    "x /= y\n",
    "print(x) \n",
    "\n",
    "# Example - 4\n",
    "print_1 = 25 \n",
    "print_2 = 5555555\n",
    "print_2 /= print_1\n",
    "print(print_2)\n",
    "\n",
    "# Example - 5\n",
    "num = 100\n",
    "mul = 3\n",
    "num *= mul\n",
    "print(num)\n"
   ]
  },
  {
   "cell_type": "code",
   "execution_count": 267,
   "id": "ed728835-0f95-4687-93c2-b274a8a8df3b",
   "metadata": {},
   "outputs": [
    {
     "name": "stdout",
     "output_type": "stream",
     "text": [
      "1\n",
      "5\n",
      "3\n",
      "1000000\n",
      "3\n"
     ]
    }
   ],
   "source": [
    "# 5 examples on Modulus-equal-to (%=) - operator\n",
    "# Eaxmple - 1\n",
    "mod = 10\n",
    "lus = 3\n",
    "mod %= lus\n",
    "print(mod)\n",
    "\n",
    "# Eaxmple - 2\n",
    "length = 12345\n",
    "length %= 10\n",
    "print(length)\n",
    "\n",
    "# Example - 3\n",
    "x = 15\n",
    "y = 3\n",
    "y %= x\n",
    "print(y) \n",
    "\n",
    "# Example - 4\n",
    "gopal = 5000000\n",
    "sakku = 1000000\n",
    "sakku %= gopal\n",
    "print(sakku)\n",
    "\n",
    "\n",
    "# Example - 5\n",
    "num = 100\n",
    "mul = 3\n",
    "mul %= num\n",
    "print(mul)\n"
   ]
  },
  {
   "cell_type": "code",
   "execution_count": 269,
   "id": "0dc078fa-b701-4532-b605-7c38c52af43d",
   "metadata": {},
   "outputs": [
    {
     "name": "stdout",
     "output_type": "stream",
     "text": [
      "3\n",
      "1234\n",
      "0\n",
      "50\n",
      "33\n"
     ]
    }
   ],
   "source": [
    "# 5 examples on Floor-equal-to (//=) - operator\n",
    "# Eaxmple - 1\n",
    "mod = 10\n",
    "lus = 3\n",
    "mod //= lus\n",
    "print(mod)\n",
    "\n",
    "# Eaxmple - 2\n",
    "length = 12345\n",
    "length //= 10\n",
    "print(length)\n",
    "\n",
    "# Example - 3\n",
    "x = 15\n",
    "y = 3\n",
    "y //= x\n",
    "print(y) \n",
    "\n",
    "# Example - 4\n",
    "gopal = 500\n",
    "sakku = 10\n",
    "gopal //= sakku\n",
    "print(gopal)\n",
    "\n",
    "\n",
    "# Example - 5\n",
    "num = 100\n",
    "mul = 3\n",
    "num //= mul\n",
    "print(num)"
   ]
  },
  {
   "cell_type": "code",
   "execution_count": 271,
   "id": "f12d0deb-3d55-4e00-9352-5105d952b13f",
   "metadata": {},
   "outputs": [
    {
     "name": "stdout",
     "output_type": "stream",
     "text": [
      "125\n",
      "100000\n",
      "14348907\n",
      "82207405646327461794954634291560556640625\n",
      "1000000\n"
     ]
    }
   ],
   "source": [
    "# 5 examples on Exponetation-equal-to (**=) - operator\n",
    "# Eaxmple - 1\n",
    "num1 = 5\n",
    "num2 = 3\n",
    "num1 **= num2\n",
    "print(num1)\n",
    "\n",
    "# Eaxmple - 2\n",
    "length = 10\n",
    "width = 5\n",
    "length **= width\n",
    "print(length)\n",
    "\n",
    "# Example - 3\n",
    "x = 15\n",
    "y = 3\n",
    "y **= x\n",
    "print(y) \n",
    "\n",
    "\n",
    "# Example - 4\n",
    "length = 12345\n",
    "length **= 10\n",
    "print(length)\n",
    "\n",
    "# Example - 5\n",
    "num = 100\n",
    "mul = 3\n",
    "num **= mul\n",
    "print(num)"
   ]
  },
  {
   "cell_type": "markdown",
   "id": "74ff7b4b-db90-4cfd-ad1e-c7347542a9fa",
   "metadata": {},
   "source": [
    "### Comparision Operator"
   ]
  },
  {
   "cell_type": "markdown",
   "id": "97d13852-e059-4509-b210-ffcd7cf8d2a7",
   "metadata": {},
   "source": [
    "- It compare two variables, two values and return an Boolean results, True (or) False\n",
    "- By simply we can say that the comparision operator are used to compare two values."
   ]
  },
  {
   "cell_type": "markdown",
   "id": "7a47e370-2bc1-417f-98a1-102ba5b13e0e",
   "metadata": {},
   "source": [
    "|  Operator |  Description   |   Example  |\n",
    "|--------------|-------------   |------------|\n",
    "|   ==         |    Equal\t    |  x == y    |\n",
    "|   !=\t       |   Not equal     |  x != y    |\n",
    "|   >\t       |   Greater than  |  x > y     |\n",
    "|   <\t       |   Less than   \t|  x < y     |\n",
    "|   >=\t       | Greater than or equal| x >=y     |\n",
    "|   <=\t       | Less than or equal to |  x <= y    |"
   ]
  },
  {
   "cell_type": "markdown",
   "id": "e5df1588-c63b-4bed-ae89-767d5b63944c",
   "metadata": {},
   "source": [
    "### 5 Examples on each Comparision Operator's"
   ]
  },
  {
   "cell_type": "code",
   "execution_count": 277,
   "id": "e6e4a0ca-4d77-4a4f-aeda-96bce47f126e",
   "metadata": {},
   "outputs": [
    {
     "name": "stdout",
     "output_type": "stream",
     "text": [
      "True\n",
      "False\n",
      "False\n",
      "True\n",
      "False\n"
     ]
    }
   ],
   "source": [
    "# 5 examples on Equal-to (==) - operator\n",
    "# Eaxmple - 1\n",
    "num1 = 5\n",
    "num2 = 5\n",
    "print(num1 == num2)\n",
    "\n",
    "# Example - 2\n",
    "x = 10\n",
    "y = 5\n",
    "print(x == y)\n",
    "\n",
    "# Example - 3\n",
    "name1 = \"Alice\"\n",
    "name2 = \"Bob\"\n",
    "print(name1 == name2)\n",
    "\n",
    "# Example - 4\n",
    "bool_1 = True\n",
    "bool_2 = True\n",
    "print(bool_1 == bool_2)\n",
    "\n",
    "# Example - 5\n",
    "sakku = \"alekhya\"\n",
    "ali   = \"sakhlain\" \n",
    "print(sakku == ali)"
   ]
  },
  {
   "cell_type": "code",
   "execution_count": 279,
   "id": "063f4e57-fb91-410d-b903-1469f72b72e9",
   "metadata": {},
   "outputs": [
    {
     "name": "stdout",
     "output_type": "stream",
     "text": [
      "False\n",
      "True\n",
      "True\n",
      "False\n",
      "True\n"
     ]
    }
   ],
   "source": [
    "# 5 examples on Not-equal-to (!=) - operator\n",
    "# Eaxmple - 1\n",
    "num1 = 5\n",
    "num2 = 5\n",
    "print(num1 != num2)\n",
    "\n",
    "# Example - 2\n",
    "x = 10\n",
    "y = 5\n",
    "print(x != y)\n",
    "\n",
    "# Example - 3\n",
    "name1 = \"Alice\"\n",
    "name2 = \"Bob\"\n",
    "print(name1 != name2)\n",
    "\n",
    "# Example - 4\n",
    "bool_1 = True\n",
    "bool_2 = True\n",
    "print(bool_1 != bool_2)\n",
    "\n",
    "# Example - 5\n",
    "sakku = \"alekhya\"\n",
    "ali   = \"sakhlain\" \n",
    "print(sakku != ali)\n"
   ]
  },
  {
   "cell_type": "code",
   "execution_count": 281,
   "id": "9ab21ce6-79f6-4467-8cf8-f8e15f966e6d",
   "metadata": {},
   "outputs": [
    {
     "name": "stdout",
     "output_type": "stream",
     "text": [
      "False\n",
      "True\n",
      "False\n",
      "False\n",
      "True\n"
     ]
    }
   ],
   "source": [
    "# 5 examples on Greater than (>) - operator\n",
    "# Eaxmple - 1\n",
    "num1 = 5\n",
    "num2 = 5\n",
    "print(num1 > num2)\n",
    "\n",
    "# Example - 2\n",
    "x = 10\n",
    "y = 5\n",
    "print(x > y)\n",
    "\n",
    "# Example - 3\n",
    "name1 = \"Alice\"\n",
    "name2 = \"Bob\"\n",
    "print(name1 > name2)\n",
    "\n",
    "# Example - 4\n",
    "bool_1 = True\n",
    "bool_2 = True\n",
    "print(bool_1 > bool_2)\n",
    "\n",
    "# Example - 5\n",
    "x = 10\n",
    "y = 5\n",
    "print(x > y)"
   ]
  },
  {
   "cell_type": "code",
   "execution_count": 283,
   "id": "abc32e13-fdae-436f-a0a4-ebc80af359ea",
   "metadata": {},
   "outputs": [
    {
     "name": "stdout",
     "output_type": "stream",
     "text": [
      "True\n",
      "True\n",
      "False\n",
      "False\n",
      "True\n"
     ]
    }
   ],
   "source": [
    "# 5 examples on Less than (<) - operator\n",
    "# Eaxmple - 1\n",
    "num1 = 5\n",
    "num2 = 10\n",
    "print(num1 < num2)\n",
    "\n",
    "# Example - 2\n",
    "x = 10\n",
    "y = 5\n",
    "print(x > y)\n",
    "\n",
    "# Example - 3\n",
    "name1 = \"Alice\"\n",
    "name2 = \"Bob\"\n",
    "print(name1 > name2)\n",
    "\n",
    "# Example - 4\n",
    "bool_1 = True\n",
    "bool_2 = True\n",
    "print(bool_1 > bool_2)\n",
    "\n",
    "# Example - 5\n",
    "x = 10\n",
    "y = 5\n",
    "print(x > y)"
   ]
  },
  {
   "cell_type": "code",
   "execution_count": 285,
   "id": "debec747-3e1a-4128-a024-20a28765705f",
   "metadata": {},
   "outputs": [
    {
     "name": "stdout",
     "output_type": "stream",
     "text": [
      "True\n",
      "True\n",
      "False\n",
      "True\n",
      "False\n"
     ]
    }
   ],
   "source": [
    "# 5 examples on Greaterthan or equal to (>=) - operator\n",
    "# Eaxmple - 1\n",
    "num1 = 5\n",
    "num2 = 5\n",
    "print(num1 >= num2)\n",
    "\n",
    "# Example - 2\n",
    "x = 10\n",
    "y = 5\n",
    "print(x >= y)\n",
    "\n",
    "# Example - 3\n",
    "name1 = \"Alice\"\n",
    "name2 = \"Bob\"\n",
    "print(name1 >= name2)\n",
    "\n",
    "# Example - 4\n",
    "bool_1 = True\n",
    "bool_2 = True\n",
    "print(bool_1 >= bool_2)\n",
    "\n",
    "# Example - 5\n",
    "x = 10\n",
    "y = 50\n",
    "print(x >= y)"
   ]
  },
  {
   "cell_type": "code",
   "execution_count": 287,
   "id": "eff0a0d4-e1df-4855-9b7c-56cde0c2d7b3",
   "metadata": {},
   "outputs": [
    {
     "name": "stdout",
     "output_type": "stream",
     "text": [
      "False\n",
      "False\n",
      "True\n",
      "True\n",
      "True\n"
     ]
    }
   ],
   "source": [
    "# 5 examples on Lessthan-equal-to (<=) - operator\n",
    "# Eaxmple - 1\n",
    "num1 = 5\n",
    "num2 = 3\n",
    "print(num1 <= num2)\n",
    "\n",
    "# Eaxmple - 2\n",
    "length = 10\n",
    "width = 5\n",
    "print(length <= width)\n",
    "\n",
    "# Example - 3\n",
    "x = 15\n",
    "y = 3\n",
    "print(y <= x )\n",
    "\n",
    "# Example - 4\n",
    "length = 10\n",
    "print(length <= 10 )\n",
    "\n",
    "# Example - 5\n",
    "num = 100\n",
    "mul = 3\n",
    "print(mul <= num)"
   ]
  },
  {
   "cell_type": "markdown",
   "id": "c2c250c9-f9dd-4008-b58d-825e0272e4ad",
   "metadata": {},
   "source": [
    "## Logical Operator"
   ]
  },
  {
   "cell_type": "markdown",
   "id": "d2f243c7-fad4-43e2-8468-bb929d3ab407",
   "metadata": {},
   "source": [
    "- Logical operators are symbols or words used to connect two or more expressions, resulting in a Boolean value (true or false).\n",
    "- They are fundamental to decision-making and control flow in programming.\n",
    "- Used to check whether an expression is True (or) False."
   ]
  },
  {
   "cell_type": "markdown",
   "id": "78de3b7d-77fd-484a-97ea-d103e656e43f",
   "metadata": {},
   "source": [
    "|  Operator |  Description   |   Example  |\n",
    "|--------------|-------------   |------------|\n",
    "|   and         | Returns True if both statements are ture\t    |  x < 5 and x < 10    |\n",
    "|   or\t       | Returns True if one of the statements is true     |  x < 5 or x < 4    |\n",
    "|   not\t       | Reverse the result, returns False if the result is true  |  not(x < 5 and x < 10)     |\n"
   ]
  },
  {
   "cell_type": "markdown",
   "id": "917176dc-2d5c-4bd4-8274-a1b987a451dc",
   "metadata": {},
   "source": [
    "### 5 Examples on each Logical Operator's"
   ]
  },
  {
   "cell_type": "code",
   "execution_count": 293,
   "id": "867b644b-e81e-4898-83fd-f28b569d4756",
   "metadata": {},
   "outputs": [
    {
     "name": "stdout",
     "output_type": "stream",
     "text": [
      "False\n",
      "True\n",
      "True\n",
      "False\n",
      "False\n"
     ]
    }
   ],
   "source": [
    "# 5 Examples on and - operator\n",
    "# Example - 1\n",
    "print(5 < 10 and 10 < 5)\n",
    "\n",
    "#Example - 2\n",
    "x = 10 \n",
    "y = 20\n",
    "print(x < y and y > x)\n",
    "\n",
    "# Eaxmple - 3\n",
    "x = 5\n",
    "print(x > 3 and x < 10)\n",
    "\n",
    "# Eample - 4\n",
    "x = 15.5\n",
    "y = 20.5\n",
    "print(x == y and y > x)\n",
    "\n",
    "# Example - 5\n",
    "drlg = \"sakku\"\n",
    "deva = \"drlg\"\n",
    "print(drlg == deva and deva > drlg)"
   ]
  },
  {
   "cell_type": "code",
   "execution_count": 295,
   "id": "13410139-a490-4878-8fdd-11bf50549a43",
   "metadata": {},
   "outputs": [
    {
     "name": "stdout",
     "output_type": "stream",
     "text": [
      "True\n",
      "True\n",
      "True\n",
      "False\n",
      "True\n"
     ]
    }
   ],
   "source": [
    "# 5 Examples on or - operator\n",
    "# Example - 1\n",
    "print(5 < 10 or 10 < 5)\n",
    "\n",
    "#Example - 2\n",
    "x = 10 \n",
    "y = 20\n",
    "print(x < y or y > x)\n",
    "\n",
    "# Eaxmple - 3\n",
    "x = 5\n",
    "print(x < 3 or x < 10)\n",
    "\n",
    "# Eample - 4\n",
    "x = 15.5\n",
    "y = 20.5\n",
    "a = 83\n",
    "print(x == y or a > 100)\n",
    "\n",
    "# Example - 5\n",
    "ali = \"sakku\"\n",
    "sakku = \"sakku\"\n",
    "x = 10\n",
    "print(ali == sakku or x > 12)"
   ]
  },
  {
   "cell_type": "code",
   "execution_count": 297,
   "id": "13973b58-1a29-4ee2-ac78-8e9df716d492",
   "metadata": {},
   "outputs": [
    {
     "name": "stdout",
     "output_type": "stream",
     "text": [
      "True\n",
      "True\n",
      "False\n",
      "True\n",
      "False\n"
     ]
    }
   ],
   "source": [
    "# 5 Examples on not - operator\n",
    "# Example - 1\n",
    "print(not(5 == 10 and 10 == 25))\n",
    "\n",
    "#Example - 2\n",
    "x = 10 \n",
    "y = 20\n",
    "print(not(x < y and x > x))\n",
    "\n",
    "# Eaxmple - 3\n",
    "x = 5\n",
    "print(not(x < 3 or x < 10))\n",
    "\n",
    "# Eample - 4\n",
    "x = 15.5\n",
    "y = 20.5\n",
    "a = 83\n",
    "print(not(x == y and a > 100))\n",
    "\n",
    "# Example - 5\n",
    "ali = \"sakku\"\n",
    "sakku = \"sakku\"\n",
    "x = 10\n",
    "print(not(ali == sakku or x > 5))"
   ]
  },
  {
   "cell_type": "markdown",
   "id": "7b38bc38-b1d1-46cf-b044-c2e32a334b90",
   "metadata": {},
   "source": [
    "## Identity Operator"
   ]
  },
  {
   "cell_type": "markdown",
   "id": "d5ae6196-2c5f-4b26-93a2-5d8b997aaf71",
   "metadata": {},
   "source": [
    "- Identity operators are used to compare the objects, not if they are equal, but if they are actually the same object, with the same memory location.\n",
    "- Simply we can say that whether the value is present (or) not."
   ]
  },
  {
   "cell_type": "markdown",
   "id": "15d875c6-7aa8-438a-88d7-8fd73ca28214",
   "metadata": {},
   "source": [
    "|  Operator    |  Description   |   Example  |\n",
    "|--------------|-------------   |------------|\n",
    "|    is        | Retruns True if both variables are the same object |   x is y    |\n",
    "|    is not\t       |  Retruns True if both variables are not the same object  |   x is not y    |"
   ]
  },
  {
   "cell_type": "markdown",
   "id": "c90878bd-7488-478f-8ac8-5afe6bea3eb7",
   "metadata": {},
   "source": [
    "### 5 Examples on each Identity Operator's"
   ]
  },
  {
   "cell_type": "code",
   "execution_count": 303,
   "id": "1fc2820a-3d5e-4685-b2e2-94acefb0f4fc",
   "metadata": {},
   "outputs": [
    {
     "name": "stdout",
     "output_type": "stream",
     "text": [
      "True\n",
      "True\n",
      "True\n",
      "True\n",
      "False\n"
     ]
    }
   ],
   "source": [
    "# 5 Examples on is - operator\n",
    "# Example - 1\n",
    "x = [\"apple\", \"banana\"]\n",
    "y = [\"apple\", \"banana\"]\n",
    "z = x = y\n",
    "print(x is z)\n",
    "print(z is y)\n",
    "\n",
    "#Example - 2\n",
    "name1 = \"sakku\"\n",
    "name2 = \"sakku\"\n",
    "print(name1 is name2)\n",
    "\n",
    "# Eaxmple - 3\n",
    "x1 = 5\n",
    "x2 = 5\n",
    "print(x1 is x1)\n",
    "\n",
    "# Example - 4\n",
    "fruits = \"apple\"\n",
    "vegitables = \"tomato\"\n",
    "print(fruits is vegitables)\n",
    "\n"
   ]
  },
  {
   "cell_type": "code",
   "execution_count": 305,
   "id": "d12b3b24-2090-4820-a493-d1e2587efdae",
   "metadata": {},
   "outputs": [
    {
     "name": "stdout",
     "output_type": "stream",
     "text": [
      "False\n",
      "False\n",
      "False\n",
      "False\n",
      "True\n"
     ]
    }
   ],
   "source": [
    "# 5 Examples on is not - operator\n",
    "# Example - 1\n",
    "x = [\"apple\", \"banana\"]\n",
    "y = [\"apple\", \"banana\"]\n",
    "z = x = y\n",
    "print(x is not z)\n",
    "print(z is not y)\n",
    "\n",
    "#Example - 2\n",
    "name1 = \"sakku\"\n",
    "name2 = \"sakku\"\n",
    "print(name1 is not name2)\n",
    "\n",
    "# Eaxmple - 3\n",
    "x1 = 5\n",
    "x2 = 5\n",
    "print(x1 is not x1)\n",
    "\n",
    "# Example - 4\n",
    "fruits = \"apple\"\n",
    "vegitables = \"tomato\"\n",
    "print(fruits is not vegitables)"
   ]
  },
  {
   "cell_type": "markdown",
   "id": "cb9873a0-68bf-4cff-ae20-f47eb7ae0283",
   "metadata": {},
   "source": [
    "## Membership Operator"
   ]
  },
  {
   "cell_type": "markdown",
   "id": "62c634e7-a9c6-4927-9075-571ce9d121bb",
   "metadata": {},
   "source": [
    "- Membership operators are used to test if a sequence is presented in an object (or) not."
   ]
  },
  {
   "cell_type": "markdown",
   "id": "247cf1a5-95d8-45be-96c7-a414767d8e31",
   "metadata": {},
   "source": [
    "|  Operator    |  Description   |   Example  |\n",
    "|--------------|-------------   |------------|\n",
    "|    in        | Retruns True if a sequence with the specified value is present in the object |   x in y    |\n",
    "|   not\tin       |  Retruns True if a sequence with the specified value is not present in the object  |   x not in y    |"
   ]
  },
  {
   "cell_type": "code",
   "execution_count": 310,
   "id": "d584f3a6-b5ab-45a3-a1ce-cf34bd118b24",
   "metadata": {},
   "outputs": [
    {
     "name": "stdout",
     "output_type": "stream",
     "text": [
      "True\n",
      "False\n",
      "True\n",
      "True\n",
      "True\n",
      "True\n"
     ]
    }
   ],
   "source": [
    "# 5 Examples on in - operator\n",
    "# Example - 1\n",
    "x = [\"apple\", \"banana\"]\n",
    "print(\"banana\" in x)\n",
    "\n",
    "# Example - 2\n",
    "name = \"sakhlain\"\n",
    "print(\"S\" in name)\n",
    "\n",
    "# Example - 3\n",
    "course = \"Data Science\"\n",
    "print(\"ata\" in course)\n",
    "\n",
    "# Example - 4\n",
    "x = [1,2,3,45,88]\n",
    "print(3 in x)\n",
    "\n",
    "# Example - 5\n",
    "a = \" a is b\"\n",
    "b = \" b is not a\"\n",
    "print(\"is\" in a)\n",
    "print(\"is not\" in b)"
   ]
  },
  {
   "cell_type": "code",
   "execution_count": 312,
   "id": "bf08834f-0ab6-429a-b8ec-b8bb2069617a",
   "metadata": {},
   "outputs": [
    {
     "name": "stdout",
     "output_type": "stream",
     "text": [
      "False\n",
      "True\n",
      "False\n",
      "False\n",
      "False\n",
      "False\n"
     ]
    }
   ],
   "source": [
    "# 5 Examples on not in - operator\n",
    "# Example - 1\n",
    "x = [\"apple\", \"banana\"]\n",
    "print(\"banana\" not in x)\n",
    "\n",
    "# Example - 2\n",
    "name = \"sakhlain\"\n",
    "print(\"S\" not in name)\n",
    "\n",
    "# Example - 3\n",
    "course = \"Data Science\"\n",
    "print(\"ata\" not in course)\n",
    "\n",
    "# Example - 4\n",
    "x = [1,2,3,45,88]\n",
    "print(3 not in x)\n",
    "\n",
    "# Example - 5\n",
    "a = \" a is b\"\n",
    "b = \" b is not a\"\n",
    "print(\"is\" not in a)\n",
    "print(\"is not\" not in b)"
   ]
  },
  {
   "cell_type": "markdown",
   "id": "6c9041f7-ccae-4a07-bdfd-629e0db5073f",
   "metadata": {},
   "source": [
    "## Bitwise Operator"
   ]
  },
  {
   "cell_type": "markdown",
   "id": "bf162b6d-1c0d-4bf4-b695-36883236727d",
   "metadata": {},
   "source": [
    "- Bitwise Operators are used to compare binary numbers."
   ]
  },
  {
   "cell_type": "markdown",
   "id": "a5ff31e7-6a04-4cac-bf9d-f5ff683b6f93",
   "metadata": {},
   "source": [
    "|  Operator | Name   | Description   |   Example  |\n",
    "|-----------|------- |------------   |------------|\n",
    "|   &       |  AND   | Sets each bit to 1 if both bits are 1  \t    |  x & y    |\n",
    "|   I\t    |  OR    | Sets each bit to 1 if one of two bits is 1      |  x I y    |\n",
    "|   ^\t    |  XOR   | Sets each bit to 1 if only one of two bits is 1   |  x ^ y     |\n",
    "|   ~\t    |  NOT   | Inverts all the bits \t|  ~x     | \n",
    "|   <<\t    |  Zero fill left shift|  Shift left by pushing zeros in from the right and let the leftmost bits fall off   | x << 2|\n",
    "|   >>\t    |  Signed right shift | Shift right by pushing copies of the leftmost bit in from the left, and let the rightmost bits fall off\t  |x >> 2    |"
   ]
  },
  {
   "cell_type": "code",
   "execution_count": 317,
   "id": "851f312c-3491-439f-a2ec-ceeba070386d",
   "metadata": {},
   "outputs": [
    {
     "name": "stdout",
     "output_type": "stream",
     "text": [
      "2\n",
      "7\n",
      "7\n",
      "-4\n",
      "12\n",
      "2\n"
     ]
    }
   ],
   "source": [
    "# Examples on Bitwise Operator\n",
    "# Example  - 1 on AND \n",
    "print(6 & 3)\n",
    "\n",
    "# Example  - 2 on OR\n",
    "print(4 | 3)\n",
    "\n",
    "# Example  - 3 on XOR\n",
    "print(5 ^ 2)\n",
    "\n",
    "# Example - 4 on NOT\n",
    "print(~3)\n",
    "\n",
    "# Example - 5 on left shift\n",
    "print(3 << 2)\n",
    "\n",
    "# Example - 6 on Right shift\n",
    "print(8 >> 2)"
   ]
  },
  {
   "cell_type": "markdown",
   "id": "0492d912-14a4-4a73-a4fc-809d814a21c4",
   "metadata": {},
   "source": [
    "## Opertor Precedence"
   ]
  },
  {
   "cell_type": "markdown",
   "id": "a28edbb9-a832-4e88-bf5f-a14c737b48f4",
   "metadata": {},
   "source": [
    "- It was also called as BODMAS - Rule\n",
    "- Operator precedence describe the order in which operations are performed."
   ]
  },
  {
   "cell_type": "markdown",
   "id": "28c573c0-4f1e-4dc7-b403-2dd78d14cd84",
   "metadata": {},
   "source": [
    "|  Operator    |  Description   |\n",
    "|--------------|-------------   |\n",
    "|    ( )         |   Parentheses\t    |   \n",
    "|    **\t       | Exponentiation    |   \n",
    "|   +x   -x   ~x\t       | Unary plus, unary minus, and bitwise NOT|\t\n",
    "|  *   /   //   %\t       | Multiplication, division, floor division, and modulus\t|   \n",
    "|  +   -  \t       |  Addition and subtraction\t|   \n",
    "|  <<   >>\t       | \tBitwise left and right shifts |\t\n",
    "|  &\t       | Bitwise AND\t| \n",
    "| ^ | Bitwise OR|\n",
    "| I | Bitwise OR|\n",
    "| ==  !=  >  >=  <  <=  is  is not  in  not in | Comparisons, identity, and membership operators|\n",
    "| not | Logical NOT |\n",
    "| and | AND|\n",
    "|or|OR|"
   ]
  },
  {
   "cell_type": "markdown",
   "id": "5bae2256-fca0-4b58-b7f9-6e6f1940da6d",
   "metadata": {},
   "source": [
    "NOTE : If two operators have the same precendence, the expression is evaluated from left to right."
   ]
  },
  {
   "cell_type": "code",
   "execution_count": null,
   "id": "6cdd6153-9c2a-49a4-a981-5b5034722f6b",
   "metadata": {},
   "outputs": [],
   "source": []
  }
 ],
 "metadata": {
  "kernelspec": {
   "display_name": "Python 3 (ipykernel)",
   "language": "python",
   "name": "python3"
  },
  "language_info": {
   "codemirror_mode": {
    "name": "ipython",
    "version": 3
   },
   "file_extension": ".py",
   "mimetype": "text/x-python",
   "name": "python",
   "nbconvert_exporter": "python",
   "pygments_lexer": "ipython3",
   "version": "3.12.4"
  }
 },
 "nbformat": 4,
 "nbformat_minor": 5
}
