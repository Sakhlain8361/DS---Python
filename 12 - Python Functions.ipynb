{
 "cells": [
  {
   "cell_type": "markdown",
   "id": "5e34a760-5450-4ab9-a49d-297b0cc6729b",
   "metadata": {},
   "source": [
    "# Python Functions"
   ]
  },
  {
   "cell_type": "markdown",
   "id": "6a7c50ea-007c-4dd2-abe9-a8d07774b796",
   "metadata": {},
   "source": [
    "- Functions are reusable blocks of code that perform specific tasks.\n",
    "- They allow us to break down complex problems into smaller, 1  more manageable units.\n",
    "- By defining a function once, we can call it multiple times throughout your program, making our code more organized, efficient, and easier to maintain."
   ]
  },
  {
   "cell_type": "markdown",
   "id": "6d058936-ba90-494f-a96e-ecee2f145d46",
   "metadata": {},
   "source": [
    "## Key Characteristics of Functions in Python:"
   ]
  },
  {
   "cell_type": "markdown",
   "id": "f166511c-1249-465d-a96d-8d769cd2d94e",
   "metadata": {},
   "source": [
    "- `Modularity`: Functions help you divide your code into logical sections, making it easier to understand, debug, and modify.\n",
    "- `Reusability`: Once you've defined a function, you can use it repeatedly in your program, avoiding redundant code and reducing the risk of errors.\n",
    "- `Parameterization`: Functions can take input in the form of parameters, allowing them to work with different data.\n"
   ]
  },
  {
   "cell_type": "markdown",
   "id": "42d643d7-d7a9-4355-8927-f6e1f3cca1ab",
   "metadata": {},
   "source": [
    "## Types of Functions:"
   ]
  },
  {
   "cell_type": "markdown",
   "id": "86d39f83-1a33-4ecf-9892-c8724f0d8de0",
   "metadata": {},
   "source": [
    "### 1.`Built - in Functions`:\n"
   ]
  },
  {
   "cell_type": "markdown",
   "id": "1793b98e-35ac-4f57-88ec-e109fc3970ea",
   "metadata": {},
   "source": [
    "- Provided by Python: These functions are part of the core Python language and are directly accessible without needing to import any modules.\n",
    "- Common examples:\n",
    "  - `print()`: Prints values to the console.\n",
    "  - `len()`: Returns the length of a sequence (string, list, tuple, etc.).\n",
    "  - `input()`: Reads user input from the console.\n",
    "  - `int(), float(), str()`: Convert values to integer, float, or string, respectively.\n",
    "  - `max(), min()`: Find the maximum or minimum value in a sequence.\n",
    "  - `sum()`: Calculates the sum of a sequence of numbers.\n",
    "  - `sorted()`: Sorts a sequence.\n",
    "  - `abs()`: Returns the absolute value of a numbers.\n",
    "  - `round()`: Rounds a number to a specified precision.\n",
    "  - `pow()`: Calculates the power of a number.\n",
    "- No need for import: You can use these functions directly in your code without importing any modules."
   ]
  },
  {
   "cell_type": "markdown",
   "id": "34c83fa4-a97d-4a61-b74a-f5ecc087d55a",
   "metadata": {},
   "source": [
    "### 2`User - Defined Functions`:"
   ]
  },
  {
   "cell_type": "markdown",
   "id": "4802ab5b-b3e8-43c0-b912-2196096338d0",
   "metadata": {},
   "source": [
    "- Created by you: These functions are defined by us within our Python code.\n",
    "- Custom functionality: They allow us to encapsulate specific tasks or calculations that we need to perform repeatedly.\n",
    "- Flexibility: We can customize the parameters, return values, and logic of these functions to suit your specific requirements."
   ]
  },
  {
   "cell_type": "markdown",
   "id": "24c2a07a-3b7c-464d-bf32-726d71922a22",
   "metadata": {},
   "source": [
    "### Syntax"
   ]
  },
  {
   "cell_type": "code",
   "execution_count": null,
   "id": "2acafa9e-0cf7-43e4-8a69-cd9d124dfc39",
   "metadata": {},
   "outputs": [],
   "source": [
    "def function_name(parameters/args): -----> Function Header\n",
    "    # Function body (statements)   -------> Function Block\n",
    "    return value  # Optional\n",
    "\n",
    "# Note : The function_name -- should be in unique"
   ]
  },
  {
   "cell_type": "markdown",
   "id": "190b560a-0a06-4074-85bd-79b79f239130",
   "metadata": {},
   "source": [
    "- `def`: Keyword used to define a function.\n",
    "- `function_name`: The name you choose for the function.\n",
    "- `parameters`: Optional list of variables that the function accepts as input.\n",
    "- `function body`: The indented block of code that the function executes.\n",
    "- `return value`: Optional value that the function returns to the caller."
   ]
  },
  {
   "cell_type": "markdown",
   "id": "20b11b8f-d549-42a4-a7bc-91b318dd0040",
   "metadata": {},
   "source": [
    "## Defining a Function"
   ]
  },
  {
   "cell_type": "code",
   "execution_count": 15,
   "id": "2f22b7a3-2838-4576-bb9c-d420f7caa9f8",
   "metadata": {},
   "outputs": [],
   "source": [
    "def sakku():\n",
    "    print(\"I love You\")   "
   ]
  },
  {
   "cell_type": "markdown",
   "id": "aaa22dcd-86e0-4bf5-b247-40c48ad0b0f2",
   "metadata": {},
   "source": [
    "## Calling a Function"
   ]
  },
  {
   "cell_type": "markdown",
   "id": "c17c2390-bcf8-49b1-bee8-005f5653c77d",
   "metadata": {},
   "source": [
    "- In the above example, we have decleared a function named sakku().\n",
    "- Now, to use this function we need to call it.\n",
    "- `Note`: After defining a function then only we can call the function."
   ]
  },
  {
   "cell_type": "code",
   "execution_count": 28,
   "id": "ac9b22bd-6352-4ed5-94fd-6924587b0a1b",
   "metadata": {},
   "outputs": [
    {
     "name": "stdin",
     "output_type": "stream",
     "text": [
      "Enter the name :- SAKHLAIN\n"
     ]
    },
    {
     "name": "stdout",
     "output_type": "stream",
     "text": [
      "I love you SAKHLAIN\n"
     ]
    }
   ],
   "source": [
    "def sakku(): # ----> Function Header \n",
    "    print(\"I love you\",end = \" \") # ------> Function Block\n",
    "\n",
    "name = input(\"Enter the name :-\")\n",
    "sakku() #-------> Calling a Function\n",
    "print(name)"
   ]
  },
  {
   "cell_type": "markdown",
   "id": "d20f2301-e277-47fd-8316-f75b00011830",
   "metadata": {},
   "source": [
    "## Python Function Aruguments"
   ]
  },
  {
   "cell_type": "markdown",
   "id": "1ce7df9c-1761-4d4c-af5a-3898699f4d41",
   "metadata": {},
   "source": [
    "- Information can be passed into functions as arguments.\n",
    "- Arguments are specified after the function name, inside the () and we can add as many arguments as we can just seprate them with `Comma`.\n",
    "- A function can have arguments, An arugument is a value that is accepeted by a function.\n",
    "- Arguments are the values that are passed to a function when it is called.\n",
    "- They provide the data that the function needs to perform its task. Python offers two main types of arguments:\n",
    "\n"
   ]
  },
  {
   "cell_type": "code",
   "execution_count": 48,
   "id": "7b3ab92f-8aec-4a5a-a8e1-9a02cbb0303b",
   "metadata": {},
   "outputs": [
    {
     "name": "stdout",
     "output_type": "stream",
     "text": [
      " My name is `Sakhlain` and i am passionate about `Data Scientist`.\n"
     ]
    }
   ],
   "source": [
    "# Example Program - 1\n",
    "def myself(name, passion): # ---> 2 Arguments are passed       \n",
    "    print(f\" My name is {name} and i am passionate about {passion}\")\n",
    "\n",
    "myself(\"`Sakhlain`\", \"`Data Scientist`.\")"
   ]
  },
  {
   "cell_type": "code",
   "execution_count": 86,
   "id": "0cd67c80-e805-461b-bbd5-c4a5ac055480",
   "metadata": {},
   "outputs": [
    {
     "name": "stdout",
     "output_type": "stream",
     "text": [
      "MUL: 5063\n",
      "MUL: 3692\n",
      "MUL: SAKHLAIN SAKHLAIN SAKHLAIN \n"
     ]
    }
   ],
   "source": [
    "# Example Program - 2\n",
    "def mul_num(num1, num2):\n",
    "    mul = num1 * num2\n",
    "    print(\"MUL:\",mul)\n",
    "def mul_str(name,num):\n",
    "    str1 = name * num\n",
    "    print(\"MUL:\",str1)\n",
    "\n",
    "mul_num(83, 61)\n",
    "mul_num(52, 71)\n",
    "mul_str(f\"{name} \" *3, 1)\n"
   ]
  },
  {
   "cell_type": "markdown",
   "id": "a3be0b3e-3fd9-4c05-9567-bc8e556888b6",
   "metadata": {},
   "source": [
    "## Types Of Arguments"
   ]
  },
  {
   "cell_type": "markdown",
   "id": "d1ade81d-6db0-42ea-b039-20edb1502ae3",
   "metadata": {},
   "source": [
    "### 1. Required Arguments:"
   ]
  },
  {
   "cell_type": "markdown",
   "id": "b15ce3ca-917a-4de3-adbb-16ae799ffee4",
   "metadata": {},
   "source": [
    "- These arguments must be provided when the function is called.\n",
    "- The number and order of required arguments must match the definition of the function."
   ]
  },
  {
   "cell_type": "code",
   "execution_count": 145,
   "id": "b2e60c30-7380-4fd1-9111-45a5ce682a4c",
   "metadata": {},
   "outputs": [
    {
     "name": "stdout",
     "output_type": "stream",
     "text": [
      "Hello, Sakhlain!\n"
     ]
    }
   ],
   "source": [
    "# Example Program\n",
    "def arg(name):\n",
    "    print(\"Hello, \" + name + \"!\")\n",
    "\n",
    "arg('Sakhlain')  # Required argument: \"Sakku\""
   ]
  },
  {
   "cell_type": "markdown",
   "id": "e071e17b-ba39-4ce5-b099-cb6e8e08407c",
   "metadata": {},
   "source": [
    "### 2. Keyword Arguments:"
   ]
  },
  {
   "cell_type": "markdown",
   "id": "6524d263-0f8c-49fd-b3a8-fc3bd09c61bf",
   "metadata": {},
   "source": [
    "- Keyword arguments are passed by explicitly stating the parameter name and its corresponding value.\n",
    "- This allows you to pass arguments in any order.\n",
    "- These arguments are specified by name, along with their values, when calling the function.\n",
    "- The order of keyword arguments doesn't matter."
   ]
  },
  {
   "cell_type": "code",
   "execution_count": 127,
   "id": "b4788c3d-a56e-46af-942a-f5a45895eb02",
   "metadata": {},
   "outputs": [
    {
     "name": "stdout",
     "output_type": "stream",
     "text": [
      "Hello myself i am Sk Sakhlain! and i am 21 years old.\n"
     ]
    }
   ],
   "source": [
    "# Example Program\n",
    "def greet(name, age):\n",
    "    print(\"Hello myself i am \" + name +\"!\" +\" and i am \"+ str(age) + \" years old.\")\n",
    "\n",
    "greet(name = 'Sk Sakhlain' , age = 21)"
   ]
  },
  {
   "cell_type": "markdown",
   "id": "910a4e49-0a43-487e-88b5-7d28f2c4dedf",
   "metadata": {},
   "source": [
    "### 3. Default Arguments:"
   ]
  },
  {
   "cell_type": "markdown",
   "id": "1a1c4e96-9982-4faa-9078-63e97dc8d33a",
   "metadata": {},
   "source": [
    "-  Default arguments are assgined a default vale in a function defination.\n",
    "-  If a default argument is not provided when the function is called,its default value is used. \n"
   ]
  },
  {
   "cell_type": "code",
   "execution_count": 133,
   "id": "93c85d42-b7d5-43c7-a9da-5dc082c51592",
   "metadata": {},
   "outputs": [
    {
     "name": "stdout",
     "output_type": "stream",
     "text": [
      "Hello myself i am Sk Sakhlain! and i am 21 years old.\n",
      "Hello myself i am Ali! and i am 21 years old.\n"
     ]
    }
   ],
   "source": [
    "# Example Program\n",
    "def greet(name,age = 21):\n",
    "    print(\"Hello myself i am \" + name +\"!\" + \" and i am \"+ str(age) + \" years old.\")\n",
    "\n",
    "greet(\"Sk Sakhlain\")\n",
    "greet(\"Ali\", 21)"
   ]
  },
  {
   "cell_type": "markdown",
   "id": "4de028cd-e6e0-4318-adcf-fe94f9fa2e24",
   "metadata": {},
   "source": [
    "### 4. Arbitary Arguments:"
   ]
  },
  {
   "cell_type": "markdown",
   "id": "38a35efe-25bd-42d5-a78d-955f94138d29",
   "metadata": {},
   "source": [
    "- These arguments allow a function to accept any number of arguments.\n",
    "- They are prefixed with an asterisk (*) in the function definition.\n",
    "- Arguments,`args & `kwargs` - **kwargs is for keyword arguments. "
   ]
  },
  {
   "cell_type": "code",
   "execution_count": 151,
   "id": "530aa67c-6320-4204-b92c-2b487e56b056",
   "metadata": {},
   "outputs": [
    {
     "name": "stdout",
     "output_type": "stream",
     "text": [
      "My name is Sakku\n"
     ]
    }
   ],
   "source": [
    "# Example Program\n",
    "def index(*names):\n",
    "    print(\"My name is \"+ names[2])\n",
    "\n",
    "index(\"Deva\", \"Drlg\", \"Sakku\")"
   ]
  },
  {
   "cell_type": "markdown",
   "id": "2a90e81e-ae7e-4ee0-9079-cd8a9dba038c",
   "metadata": {},
   "source": [
    "### `**kwargs`: Keyword Variable Arguments"
   ]
  },
  {
   "cell_type": "markdown",
   "id": "a2ddf7f8-3de4-4cd5-8c07-9b1c30265f09",
   "metadata": {},
   "source": [
    "- We can also send arguments with the key == value syntax.\n",
    "- If we do not know how many keywords arguments that will be passed into our function, add two ** before the parameter name in the function defination.\n",
    "- Allows us to pass a varibale number of keywords arguments.\n",
    "- If the number of keywords arguments is unkonwn, add a double `**` before the parameter name:"
   ]
  },
  {
   "cell_type": "code",
   "execution_count": 159,
   "id": "e07c9aad-f876-4bb0-9751-67c9e3fc3db0",
   "metadata": {},
   "outputs": [
    {
     "name": "stdout",
     "output_type": "stream",
     "text": [
      "Hello i am SAKHLAIN\n"
     ]
    }
   ],
   "source": [
    "# Example Program\n",
    "def flnames(**names):\n",
    "    print(\"Hello i am \" + names[\"lname\"])\n",
    "\n",
    "flnames(fname = \"SHAIK\" , lname = \"SAKHLAIN\")"
   ]
  },
  {
   "cell_type": "markdown",
   "id": "33d3dc52-01cd-44e3-ab2e-8376fec56593",
   "metadata": {},
   "source": [
    "### Key Points:\n"
   ]
  },
  {
   "cell_type": "markdown",
   "id": "adf35947-f620-4bad-ada7-0d8d55d774bf",
   "metadata": {},
   "source": [
    "- Functions can have both required and keyword arguments.\n",
    "- Default arguments provide flexibility in function calls.\n",
    "- Arbitrary arguments allow for dynamic argument lists.\n",
    "- The order of arguments matters for required and positional arguments.\n",
    "- Keyword arguments can be passed in any order."
   ]
  },
  {
   "cell_type": "markdown",
   "id": "3a8d0051-961d-4f3b-93a9-e94ad2c447f6",
   "metadata": {},
   "source": [
    "## return Statement in python"
   ]
  },
  {
   "cell_type": "markdown",
   "id": "f59f8b80-1a60-45a9-986d-a57b770449d3",
   "metadata": {},
   "source": [
    "- A pyhton function may or may not return a value. If we waant our function to return some value to a function call, we use the return statement.\n",
    "- The `return` statement in Pyton is used within a function to exit the function and optionally pass back a value to the caller. it is a key component in defining how a function outputs results,"
   ]
  },
  {
   "cell_type": "markdown",
   "id": "7a606dc8-3bd0-462b-be6c-72f1b20a8068",
   "metadata": {},
   "source": [
    "### Syntax"
   ]
  },
  {
   "cell_type": "code",
   "execution_count": 167,
   "id": "3b1430d1-deba-4f59-ae45-d7c7b79355a8",
   "metadata": {},
   "outputs": [],
   "source": [
    "def function_name(parameters):\n",
    "    return value "
   ]
  },
  {
   "cell_type": "markdown",
   "id": "61206e64-4136-452f-859a-0a710276a990",
   "metadata": {},
   "source": [
    "- The return statement is fundamental for controlling the flow of a function and passing back the results to the caller."
   ]
  },
  {
   "cell_type": "code",
   "execution_count": 173,
   "id": "12e2a000-efd2-439d-84c6-83060fffeba4",
   "metadata": {},
   "outputs": [
    {
     "data": {
      "text/plain": [
       "4"
      ]
     },
     "execution_count": 173,
     "metadata": {},
     "output_type": "execute_result"
    }
   ],
   "source": [
    "# Example Program\n",
    "def find_square(num):\n",
    "    result = num * num\n",
    "    return result\n",
    "find_square(2)"
   ]
  },
  {
   "cell_type": "markdown",
   "id": "606b67f1-a878-4d11-ae04-7e4bc7dfe351",
   "metadata": {},
   "source": [
    "## Python Library Functions"
   ]
  },
  {
   "cell_type": "markdown",
   "id": "400b8052-a480-41c2-b159-5e423bed5cc8",
   "metadata": {},
   "source": [
    "- Python librabry functions are buit-in functions provided by Python's standard librabry or by external librabries that we can install.\n",
    "- Thse functions are pre-defined, meaning we don't need to implement them yourself, we just need to import the relevant module or library and call the function.\n",
    "- In pyhton there are some standard library functions are the built-in functions that can be used directly in our progra.\n",
    " - `print()` - Prints the string inside the quotation marks.\n",
    " - `sqrt()` - Returns the square root of a number.\n",
    " - `pow()`- Returns the power of a number.\n",
    " - `str()`- Returns the string.\n",
    "\n",
    "- These library functions are the defined inside the module and to use them we must include the module inside our program."
   ]
  },
  {
   "cell_type": "code",
   "execution_count": 9,
   "id": "8051e5fb-72a7-47d5-bae5-b10f7e1cd03d",
   "metadata": {},
   "outputs": [
    {
     "name": "stdout",
     "output_type": "stream",
     "text": [
      "Square Root of 4 is  2.0\n",
      "2 to the power 3 is 8\n"
     ]
    }
   ],
   "source": [
    "# For example, sqt() is defined inside the math module,\n",
    "# Example Program - 1\n",
    "import math\n",
    "square_root = math.sqrt(4)\n",
    "print(\"Square Root of 4 is \", square_root)\n",
    "power = pow(2,3)\n",
    "print(\"2 to the power 3 is\", power)"
   ]
  },
  {
   "cell_type": "code",
   "execution_count": 13,
   "id": "d5a8eddd-ad1c-4160-bb78-c9356ce0f578",
   "metadata": {},
   "outputs": [
    {
     "name": "stdout",
     "output_type": "stream",
     "text": [
      "3.1622776601683795\n",
      "7\n",
      "2024-08-30 16:53:57.409065\n"
     ]
    }
   ],
   "source": [
    "# Example program - 2\n",
    "import math\n",
    "import random\n",
    "import datetime\n",
    "\n",
    "print(math.sqrt(10))\n",
    "\n",
    "print(random.randint(1, 10))\n",
    "\n",
    "print(datetime.datetime.now())\n"
   ]
  },
  {
   "cell_type": "markdown",
   "id": "44afefcb-b65b-478f-8859-54df8701a9e6",
   "metadata": {},
   "source": [
    "## Python Lambda"
   ]
  },
  {
   "cell_type": "markdown",
   "id": "abd7ee5e-60bf-4260-8f37-2ca0ddac6e03",
   "metadata": {},
   "source": [
    "- A lambda function in python is a samll, anonymous function that is defined using the `lambda` keyword.\n",
    "- A lambda function is a samll anonymous function.\n",
    "- A lambda function can take any number of arguments, but can only have on e expression. "
   ]
  },
  {
   "cell_type": "markdown",
   "id": "a3cf946a-e07a-47c0-8981-27f77f2225ab",
   "metadata": {},
   "source": [
    "### Syntax"
   ]
  },
  {
   "cell_type": "code",
   "execution_count": null,
   "id": "6e80666b-a933-4069-bd6d-236a82efbd7f",
   "metadata": {},
   "outputs": [],
   "source": [
    "lambda arguments : expression"
   ]
  },
  {
   "cell_type": "markdown",
   "id": "1f061321-75ab-42d1-aa51-f96f80312be6",
   "metadata": {},
   "source": [
    "### Key Characteristics:"
   ]
  },
  {
   "cell_type": "markdown",
   "id": "2194c776-0cc2-4373-92c7-02008096eedb",
   "metadata": {},
   "source": [
    "- `Anonymous`: Lambda functions don't have a name (unlike regular functions defined with def).\n",
    "- `Single Expression`: They can only contain a single expression, which is evaluated and returned.\n",
    "- `Use Cases`: Often used for short, simple operations, typically in places where you need a small function for a short period (e.g., as arguments to functions like map(), filter(), or sorted())."
   ]
  },
  {
   "cell_type": "code",
   "execution_count": 33,
   "id": "fad89b60-136d-41e6-a279-cc2409e90895",
   "metadata": {},
   "outputs": [
    {
     "name": "stdout",
     "output_type": "stream",
     "text": [
      "14\n",
      "12\n",
      "4\n"
     ]
    }
   ],
   "source": [
    "# Example Program - 1\n",
    "x = lambda a : a + 9 \n",
    "print(x(5))\n",
    "\n",
    "# Example Program - 2\n",
    "y = lambda a, b, c : a + b + c\n",
    "print(y(2 , 4 , 6))\n",
    "\n",
    "# Example Program - 3\n",
    "def greet(n):\n",
    "    return lambda a : a * n\n",
    "\n",
    "mul = greet(2)\n",
    "print(mul(2))"
   ]
  },
  {
   "cell_type": "markdown",
   "id": "45713a68-ca7b-42e1-a56f-7a4374b9ed6c",
   "metadata": {},
   "source": [
    "### Why Use Lambda Function ?"
   ]
  },
  {
   "cell_type": "markdown",
   "id": "0414fd36-518d-40b1-b3c5-17144e5f364e",
   "metadata": {},
   "source": [
    "- The power of lambda is better shown when you use them as an anonymous function inside another function.\r",
    "- \r\n",
    "Say you have a function definition that takes one argument, and that argument will be multiplied with an unknown number:"
   ]
  },
  {
   "cell_type": "code",
   "execution_count": 37,
   "id": "92ab1473-f574-4397-90b4-2d028e5d524b",
   "metadata": {},
   "outputs": [
    {
     "name": "stdout",
     "output_type": "stream",
     "text": [
      "22\n",
      "33\n"
     ]
    }
   ],
   "source": [
    "# Example Program \n",
    "def num(n):\n",
    "        return lambda a : a * n\n",
    "\n",
    "mydoub = num(2)\n",
    "mytrip = num(3)\n",
    "\n",
    "print(mydoub(11))\n",
    "print(mytrip(11))\n"
   ]
  },
  {
   "cell_type": "markdown",
   "id": "190724a6-a657-48d0-bede-06c8ab8701e2",
   "metadata": {},
   "source": [
    "## 1. Lambda Function With `map()`:"
   ]
  },
  {
   "cell_type": "markdown",
   "id": "66e8ef85-4ec1-4f23-8415-49e6db53039b",
   "metadata": {},
   "source": [
    "- The `map()` function in Python is used to apply a given function to all items in an iterable (like a list or tuple) and return a map object, which can be converted into a list or other iterable type.\r",
    "- \n",
    "When combined with a lambda function, map() allows you to apply a small, anonymous function to each item in the iterable."
   ]
  },
  {
   "cell_type": "markdown",
   "id": "75013b74-d4a8-4b15-81d6-cabe9415d5c5",
   "metadata": {},
   "source": [
    "### Syntax of `map()`:"
   ]
  },
  {
   "cell_type": "code",
   "execution_count": null,
   "id": "8d44649c-b041-4d2b-81df-f2e228fcde1a",
   "metadata": {},
   "outputs": [],
   "source": [
    "map(function, iterable)"
   ]
  },
  {
   "cell_type": "markdown",
   "id": "ea0d0a01-b3d1-42da-aee0-f9b53489e712",
   "metadata": {},
   "source": [
    "- function: A function to which each item of the iterable is passed.\r",
    "- \r\n",
    "iterable: An iterable (like a list, tuple, etc.) whose items will be processed by the function.\r\n",
    "\r\n"
   ]
  },
  {
   "cell_type": "code",
   "execution_count": 47,
   "id": "c1e171ef-1a91-473f-8c8b-94fa0838ec9a",
   "metadata": {},
   "outputs": [
    {
     "name": "stdout",
     "output_type": "stream",
     "text": [
      "[1, 4, 9, 16, 25, 36]\n",
      "['APPLE', 'BANANA', 'ORANGE']\n",
      "[3, 7, 11, 15]\n"
     ]
    }
   ],
   "source": [
    "#Example - 1 (Squaring Numbers)\n",
    "numbers = [1,2,3,4,5,6]\n",
    "\n",
    "squared_number = list(map(lambda x:x ** 2,numbers))\n",
    "\n",
    "print(squared_number)\n",
    "\n",
    "\n",
    "#Example - 2 (Converting Strings to Uppercase)\n",
    "words = [\"apple\",\"banana\",\"orange\"]\n",
    "\n",
    "uppercase_words = list(map(lambda word:word.upper(),words))\n",
    "\n",
    "print(uppercase_words)\n",
    "\n",
    "\n",
    "#Example - 3 (Adding Two Lists Element-Wise)\n",
    "List1 = [1,3,5,7]\n",
    "List2 = [2,4,6,8]\n",
    "\n",
    "sum_list = list(map(lambda x, y: x + y, List1, List2))\n",
    "\n",
    "print(sum_list)"
   ]
  },
  {
   "cell_type": "markdown",
   "id": "1ec6a601-42dd-42d6-90c9-586f8c8a5e24",
   "metadata": {},
   "source": [
    "## 2. Lambda Function with `filter()`"
   ]
  },
  {
   "cell_type": "markdown",
   "id": "9f9969e4-4a19-4c82-8da9-b452a910fd44",
   "metadata": {},
   "source": [
    "- The filter() function in Python is used to filter elements from an iterable (like a list, tuple, or set) based on a condition provided by a function.\r",
    "- \r\n",
    "When combined with a lambda function, filter() allows you to apply a condition to each item in the iterable and return only those items that satisfy the condition."
   ]
  },
  {
   "cell_type": "markdown",
   "id": "8c09d946-8af0-40ae-8a4e-050f747ef218",
   "metadata": {},
   "source": [
    "### Syntax of `filter()`:"
   ]
  },
  {
   "cell_type": "code",
   "execution_count": null,
   "id": "a77d1759-b154-4d27-8f28-245ce194b835",
   "metadata": {},
   "outputs": [],
   "source": [
    "filter(function, iterable)"
   ]
  },
  {
   "cell_type": "markdown",
   "id": "d0e34418-06d2-4155-b8bf-aa56bd578870",
   "metadata": {},
   "source": [
    "- function: A function that returns True or False for each item in the iterable. Only items for which this function returns True are included in the result.\n",
    "- iterable: An iterable whose items will be filtered based on the function."
   ]
  },
  {
   "cell_type": "code",
   "execution_count": 53,
   "id": "cfcea7a4-69eb-46d8-8ce0-0c6c6e6ceb68",
   "metadata": {},
   "outputs": [
    {
     "name": "stdout",
     "output_type": "stream",
     "text": [
      "['apple', 'banana', 'cherry', 'pineapple']\n"
     ]
    }
   ],
   "source": [
    "# Example Program: (Filtering Strings Longer Than 3 Characters)\n",
    "\n",
    "fruits = [\"apple\",\"banana\",\"cherry\",\"dev\",\"pineapple\",\"raj\"]\n",
    "\n",
    "long_words = list(filter(lambda fruit: len(fruit) > 3, fruits))\n",
    "\n",
    "print(long_words)"
   ]
  },
  {
   "cell_type": "markdown",
   "id": "45264ad1-c6a5-4de3-b9dc-1d2d9228c254",
   "metadata": {},
   "source": [
    "## 3. Lambda Function with `sorted()`:"
   ]
  },
  {
   "cell_type": "markdown",
   "id": "90fae559-7434-4b34-aaba-06300042a0eb",
   "metadata": {},
   "source": [
    "- The sorted() function in Python is used to sort elements of an iterable (like a list or tuple) in a specific order (ascending or descending).\n",
    "- You can use a lambda function with sorted() to define a custom sorting key.\n",
    "- This allows you to sort the elements based on a particular attribute or computed value."
   ]
  },
  {
   "cell_type": "markdown",
   "id": "38f141de-8150-427e-be4b-2d7e0fbd071b",
   "metadata": {},
   "source": [
    "### Syntax of `sorted()`:"
   ]
  },
  {
   "cell_type": "markdown",
   "id": "bbbccc7d-c497-49da-9720-0f2bd4317bdd",
   "metadata": {},
   "source": [
    "sorted(iterable, key=None, reverse=False)"
   ]
  },
  {
   "cell_type": "markdown",
   "id": "a976933a-1807-4e8a-bc51-3dad29f18198",
   "metadata": {},
   "source": [
    "- `iterable` : The iterable to be stored.\n",
    "- `key`: A function that takes ine argument and returns a value to be used for storing. This is where we can use lambda function.\n",
    "- `reverse` : A boolen value that, if True, sort the iterable in desciding order. defaults to False for ascending order.\n"
   ]
  },
  {
   "cell_type": "code",
   "execution_count": 2,
   "id": "def4f2fb-625e-4a46-be11-23365eb32a10",
   "metadata": {},
   "outputs": [
    {
     "name": "stdout",
     "output_type": "stream",
     "text": [
      "['kiwi', 'apple', 'banana', 'cherry']\n"
     ]
    },
    {
     "data": {
      "text/plain": [
       "['kiwi', 'apple', 'banana', 'cherry']"
      ]
     },
     "execution_count": 2,
     "metadata": {},
     "output_type": "execute_result"
    }
   ],
   "source": [
    "#Example Program: (Sorting by String Length)\n",
    "\n",
    "words = ['apple', 'banana', 'kiwi', 'cherry']\n",
    "\n",
    "sorted_by_length = sorted(words, key=lambda word: len(word))\n",
    "\n",
    "print(sorted_by_length)\n",
    "['kiwi', 'apple', 'banana', 'cherry']"
   ]
  },
  {
   "cell_type": "markdown",
   "id": "17ce907b-6fa8-423a-80f9-558e1901823b",
   "metadata": {},
   "source": [
    "## Global and Local Variables in Python"
   ]
  },
  {
   "cell_type": "markdown",
   "id": "96b47e87-31f8-4ae5-9983-1e98f2fa5a8f",
   "metadata": {},
   "source": [
    "- Python Global variables are those which are not defined inside any function and have a global scope whereas Python local variables are those which are defined inside a function and their scope is limited to that function only.\r\n",
    "\r",
    "- \n",
    "In other words, we can say that local variables are accessible only inside the function in which it was initialized whereas the global variables are accessible throughout the program and inside every function."
   ]
  },
  {
   "cell_type": "markdown",
   "id": "01b29816-f245-427f-b671-59a7d69393eb",
   "metadata": {},
   "source": [
    "## Python Local Varibales"
   ]
  },
  {
   "cell_type": "markdown",
   "id": "139384f3-3735-4a41-955d-64b2f319942a",
   "metadata": {},
   "source": [
    "- Local variables in Python are those which are initialized inside a function and belong only to that particular function. It cannot be accessed anywhere outside the function. Let’s see how to create a local variable."
   ]
  },
  {
   "cell_type": "markdown",
   "id": "d1c3080a-6fda-4809-acf5-eba74fd6eed3",
   "metadata": {},
   "source": [
    "### Creating a Local variable "
   ]
  },
  {
   "cell_type": "code",
   "execution_count": 19,
   "id": "5d47a931-fd42-47fb-9cf4-ccaad1fb9bd6",
   "metadata": {},
   "outputs": [
    {
     "name": "stdout",
     "output_type": "stream",
     "text": [
      "Inside the function:  Hello I am ur lovely SAKKU \n"
     ]
    }
   ],
   "source": [
    "# Example Program\n",
    "def f():\n",
    "    s = \" Hello I am ur lovely SAKKU \"\n",
    "    print(\"Inside the function:\", s)\n",
    "f()"
   ]
  },
  {
   "cell_type": "markdown",
   "id": "eecb6ec3-2330-4cfa-b71b-97ec3a1523a4",
   "metadata": {},
   "source": [
    "## Python Global Variables"
   ]
  },
  {
   "cell_type": "markdown",
   "id": "d7fd41ae-4901-4d75-8fcf-3a88445fa0ba",
   "metadata": {},
   "source": [
    "- These are those which are defined outside any function and which are accessible throughout the program, i.e., inside and outside of every function. Let’s see how to create a Python global variable."
   ]
  },
  {
   "cell_type": "markdown",
   "id": "a9e2e01c-d34f-4dcf-a142-615603dab03a",
   "metadata": {},
   "source": [
    "### Creating a Global variable"
   ]
  },
  {
   "cell_type": "code",
   "execution_count": 27,
   "id": "14bf511d-64f5-4157-ae7f-5c2e042a457d",
   "metadata": {},
   "outputs": [
    {
     "name": "stdout",
     "output_type": "stream",
     "text": [
      "Inside Function : Hello this is Sakku\n",
      "Outside Function : Hello this is Sakku\n"
     ]
    }
   ],
   "source": [
    "# example Program\n",
    "def f():\n",
    "    print(\"Inside Function :\", s)\n",
    "\n",
    "s = \"Hello this is Sakku\"\n",
    "f()\n",
    "print(\"Outside Function :\", s)"
   ]
  },
  {
   "cell_type": "code",
   "execution_count": null,
   "id": "1a067ec9-d49e-4808-bfc6-6736aaacfa87",
   "metadata": {},
   "outputs": [],
   "source": []
  }
 ],
 "metadata": {
  "kernelspec": {
   "display_name": "Python 3 (ipykernel)",
   "language": "python",
   "name": "python3"
  },
  "language_info": {
   "codemirror_mode": {
    "name": "ipython",
    "version": 3
   },
   "file_extension": ".py",
   "mimetype": "text/x-python",
   "name": "python",
   "nbconvert_exporter": "python",
   "pygments_lexer": "ipython3",
   "version": "3.12.4"
  }
 },
 "nbformat": 4,
 "nbformat_minor": 5
}
