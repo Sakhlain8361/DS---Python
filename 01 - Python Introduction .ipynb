{
 "cells": [
  {
   "cell_type": "code",
   "execution_count": 1,
   "id": "1f5872a3-b76f-465f-9f24-b1754bed1268",
   "metadata": {},
   "outputs": [
    {
     "name": "stdout",
     "output_type": "stream",
     "text": [
      " Hello world\n"
     ]
    }
   ],
   "source": [
    "print(\" Hello world\")\n"
   ]
  },
  {
   "cell_type": "code",
   "execution_count": 3,
   "id": "579e3d97-be87-49d9-89d2-7d7f1e0c962e",
   "metadata": {},
   "outputs": [
    {
     "name": "stdout",
     "output_type": "stream",
     "text": [
      "Python version: 3.12.4 | packaged by Anaconda, Inc. | (main, Jun 18 2024, 15:03:56) [MSC v.1929 64 bit (AMD64)]\n"
     ]
    }
   ],
   "source": [
    "import sys\n",
    "print(\"Python version:\", sys.version)\n"
   ]
  },
  {
   "cell_type": "markdown",
   "id": "93d0eadc-b02f-4632-92a4-607416cc9915",
   "metadata": {},
   "source": [
    "# Python Indentation\n",
    "- Python indentation is a way of telling a python interpreter that the group of statements belongs to a particular block of code.\n",
    "- Indentation refers to the space at the beginning of a code line.\n",
    "- Python uses indentation to indicate a block of code. \n",
    "  "
   ]
  },
  {
   "cell_type": "code",
   "execution_count": 43,
   "id": "4dd10867-8014-4085-a837-39163bad7214",
   "metadata": {},
   "outputs": [
    {
     "name": "stdout",
     "output_type": "stream",
     "text": [
      "5\n"
     ]
    }
   ],
   "source": [
    "#Correct Indentation \n",
    "a = 5\n",
    "print(a)\n"
   ]
  },
  {
   "cell_type": "code",
   "execution_count": 5,
   "id": "a32b7d84-df54-4451-99bf-1b3b4b6c277b",
   "metadata": {},
   "outputs": [
    {
     "ename": "IndentationError",
     "evalue": "expected an indented block after 'if' statement on line 2 (2442994000.py, line 3)",
     "output_type": "error",
     "traceback": [
      "\u001b[1;36m  Cell \u001b[1;32mIn[5], line 3\u001b[1;36m\u001b[0m\n\u001b[1;33m    print(\"five is greather than two\")\u001b[0m\n\u001b[1;37m    ^\u001b[0m\n\u001b[1;31mIndentationError\u001b[0m\u001b[1;31m:\u001b[0m expected an indented block after 'if' statement on line 2\n"
     ]
    }
   ],
   "source": [
    "#In-correct Indentation\n",
    "if 5>2:\n",
    "print(\"five is greather than two\")\n"
   ]
  },
  {
   "cell_type": "markdown",
   "id": "17dd89e1-090d-462a-97bb-e3aa99695bd4",
   "metadata": {},
   "source": [
    "# Comments"
   ]
  },
  {
   "cell_type": "markdown",
   "id": "47bccbeb-38ea-4a51-bab5-5a6fb5ede540",
   "metadata": {},
   "source": [
    "- Comments in Python is the inclusion of short descriptions along with the code to increase its readability.\n",
    "- Comments can be used to explain Python code.\r",
    "- \r\n",
    "Comments can be used to make the code more readabl\n",
    "- Comments start with # and Pyhton will ignore them.code"
   ]
  },
  {
   "cell_type": "code",
   "execution_count": 55,
   "id": "b93d6989-126d-47ef-8163-b357925eab6c",
   "metadata": {},
   "outputs": [
    {
     "name": "stdout",
     "output_type": "stream",
     "text": [
      "Hello, World!\n"
     ]
    }
   ],
   "source": [
    "#This is a comment\n",
    "print(\"Hello, World!\")"
   ]
  },
  {
   "cell_type": "code",
   "execution_count": 59,
   "id": "65855ef0-5e8a-4fbf-bc2a-dc4542198658",
   "metadata": {},
   "outputs": [
    {
     "name": "stdout",
     "output_type": "stream",
     "text": [
      "Sakku\n"
     ]
    }
   ],
   "source": [
    "#print(\"Hello, World!\")\n",
    "print(\"Sakku\")"
   ]
  },
  {
   "cell_type": "markdown",
   "id": "76cecc70-0d10-42be-887e-c41c02bdb9f7",
   "metadata": {},
   "source": [
    "# Multiline Comments"
   ]
  },
  {
   "cell_type": "markdown",
   "id": "a9b63a79-563c-4f91-9b3c-b9877a18142c",
   "metadata": {},
   "source": [
    "- Python does not really have a syntax for multiline comments.\n",
    "- To add a multiline comment you could insert a # for each line:"
   ]
  },
  {
   "cell_type": "code",
   "execution_count": 77,
   "id": "7d656f7d-038f-4f20-b550-a19362dfe0df",
   "metadata": {},
   "outputs": [
    {
     "name": "stdout",
     "output_type": "stream",
     "text": [
      "Devaraju\n"
     ]
    }
   ],
   "source": [
    "#This is a comment\n",
    "#written in\n",
    "#more than just one line\n",
    "print(\"Devaraju\")"
   ]
  },
  {
   "cell_type": "markdown",
   "id": "b16c8019-23bb-4d47-9229-5973b4076958",
   "metadata": {},
   "source": [
    "# Python Keywords\n"
   ]
  },
  {
   "cell_type": "markdown",
   "id": "2201d3c3-9078-4781-9711-77c2a0e0aac8",
   "metadata": {},
   "source": [
    "- A Python keyword is a word that serves a specific function in Python.\n",
    "- It is limited to one single function and it can not be set as a variable name, a function name, or the value of any other identifier.\n",
    "- The purpose of the keyword is to define the syntax of the code.\n",
    "- All the python keywords contain Lower-case letters\n",
    "- The Python keywords are Reserved keywords.\n",
    "  "
   ]
  },
  {
   "cell_type": "code",
   "execution_count": 75,
   "id": "4d5d5e78-9a3c-4d17-b7dc-a412e743ed86",
   "metadata": {},
   "outputs": [
    {
     "name": "stdout",
     "output_type": "stream",
     "text": [
      "['False', 'None', 'True', 'and', 'as', 'assert', 'async', 'await', 'break', 'class', 'continue', 'def', 'del', 'elif', 'else', 'except', 'finally', 'for', 'from', 'global', 'if', 'import', 'in', 'is', 'lambda', 'nonlocal', 'not', 'or', 'pass', 'raise', 'return', 'try', 'while', 'with', 'yield']\n",
      "35\n"
     ]
    }
   ],
   "source": [
    "import keyword\n",
    "python_keywords = keyword.kwlist\n",
    "print(python_keywords)\n",
    "print(len(python_keywords))"
   ]
  },
  {
   "cell_type": "code",
   "execution_count": null,
   "id": "0ae3fe2f-5aba-4ce2-bcf7-fed93491bfad",
   "metadata": {},
   "outputs": [],
   "source": []
  }
 ],
 "metadata": {
  "kernelspec": {
   "display_name": "Python 3 (ipykernel)",
   "language": "python",
   "name": "python3"
  },
  "language_info": {
   "codemirror_mode": {
    "name": "ipython",
    "version": 3
   },
   "file_extension": ".py",
   "mimetype": "text/x-python",
   "name": "python",
   "nbconvert_exporter": "python",
   "pygments_lexer": "ipython3",
   "version": "3.12.4"
  }
 },
 "nbformat": 4,
 "nbformat_minor": 5
}
