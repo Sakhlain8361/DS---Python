{
 "cells": [
  {
   "cell_type": "markdown",
   "id": "162e55a4-ace5-4ce7-99fe-81acde8cf259",
   "metadata": {},
   "source": [
    "# Python String"
   ]
  },
  {
   "cell_type": "markdown",
   "id": "f56d2734-3d0d-4d3c-8f80-b5c35ea102e2",
   "metadata": {},
   "source": [
    "- A string in Python is a sequence of characters enclosed within single quotes ('), double quotes (\"), or triple quotes (''' or \"\"\").\n",
    "- It's an immutable data type, meaning once a string is created, its content cannot be changed.\n",
    "- Strings are widely used for handling text-based data, such as names, addresses, sentences, and more.\n",
    "- In generally a strings in a python is a sequence of characters.\n",
    "- However, we can perform various operations and use methods to manipilate and work with string.\n",
    "- String's are one of the most commonly used data types, and they are used to represent text."
   ]
  },
  {
   "cell_type": "markdown",
   "id": "f16f2aa2-3810-4fec-a58a-b341613a8f5d",
   "metadata": {},
   "source": [
    "## Key Characteristics"
   ]
  },
  {
   "cell_type": "markdown",
   "id": "e4eeb316-0c63-4cf5-9ae9-326a2cecbef0",
   "metadata": {},
   "source": [
    "1. Immutability : Strings cannot be modified after creation.\n",
    "2. Indexing : Each character in a string has an index, starting from 0.\n",
    "3. Slicing : You can extract substring using slicing.\n",
    "4. Concatenation : Strings can be combined using the + operator.\n",
    "5. Methods : Python provied numereous built-in string methods for manipulation."
   ]
  },
  {
   "cell_type": "markdown",
   "id": "d77cec65-0075-4551-ab22-39c17b35d1b5",
   "metadata": {},
   "source": [
    "### Create a String"
   ]
  },
  {
   "cell_type": "code",
   "execution_count": 10,
   "id": "147c913b-445f-4242-811f-2ca4ceb9e677",
   "metadata": {},
   "outputs": [
    {
     "name": "stdout",
     "output_type": "stream",
     "text": [
      "Sakku\n",
      "Sakku\n",
      " In the result, the line break\n",
      "are inserted at the same position. \n",
      "<class 'str'>\n",
      "<class 'str'>\n",
      "<class 'str'>\n"
     ]
    }
   ],
   "source": [
    "str1 = 'Sakku'\n",
    "str2 = \"Sakku\"\n",
    "str3 = \"\"\" In the result, the line break\n",
    "are inserted at the same position. \"\"\"\n",
    "\n",
    "print(str1)\n",
    "print(str2)\n",
    "print(str3)\n",
    "\n",
    "print(type(str1))\n",
    "print(type(str2))\n",
    "print(type(str3))"
   ]
  },
  {
   "cell_type": "markdown",
   "id": "2a59c6a0-2aba-4a9c-a824-d7a3ec3db11d",
   "metadata": {},
   "source": [
    "## Accessing Characters of a String"
   ]
  },
  {
   "cell_type": "markdown",
   "id": "5126e9ee-4b08-4069-a39f-cae25a506d59",
   "metadata": {},
   "source": [
    "- The string characters will have default index values which are starting from LHS - RHS \n",
    "- The first character index value is [0] and second of that will be [1] and so..on...\n"
   ]
  },
  {
   "cell_type": "code",
   "execution_count": 16,
   "id": "40b51293-e610-416e-8987-e1744ddc66ca",
   "metadata": {},
   "outputs": [
    {
     "name": "stdout",
     "output_type": "stream",
     "text": [
      " \n",
      "n\n",
      "e\n"
     ]
    }
   ],
   "source": [
    "# Example program\n",
    "course = \"Data Science\"\n",
    "print(course[4])\n",
    "print(course[9])\n",
    "print(course[11])"
   ]
  },
  {
   "cell_type": "markdown",
   "id": "435da816-e812-4b91-9560-6271ea900032",
   "metadata": {},
   "source": [
    "## String Operations"
   ]
  },
  {
   "cell_type": "markdown",
   "id": "8b8be622-61dd-41f0-a0da-a06df82695c9",
   "metadata": {},
   "source": [
    "- Python allows various operations on strings that make it easy to manipulate and work with textual data. Here are some common string operations."
   ]
  },
  {
   "cell_type": "markdown",
   "id": "2c8e515a-7f04-4ea7-a2d6-c837028a1618",
   "metadata": {},
   "source": [
    "## 1. Concatenation "
   ]
  },
  {
   "cell_type": "markdown",
   "id": "8bca52ae-2ed3-468f-96dd-6726f69e42cc",
   "metadata": {},
   "source": [
    "- By using Concatenation we can combine strings using the + operator. "
   ]
  },
  {
   "cell_type": "code",
   "execution_count": 23,
   "id": "09affe84-c3bc-40ed-aece-09701afb1ad5",
   "metadata": {},
   "outputs": [
    {
     "name": "stdout",
     "output_type": "stream",
     "text": [
      "Sakku Love Mango\n"
     ]
    }
   ],
   "source": [
    "# Example Program\n",
    "name  = \"Sakku\"\n",
    "fruit = \"Love Mango\"\n",
    "sentence = name + \" \" + fruit\n",
    "print(sentence)"
   ]
  },
  {
   "cell_type": "markdown",
   "id": "53b793da-7cc2-4c0d-90fa-51a297783e75",
   "metadata": {},
   "source": [
    "## 2. Repetition "
   ]
  },
  {
   "cell_type": "markdown",
   "id": "86ed29eb-ef50-4d9e-9618-bd7fb157f023",
   "metadata": {},
   "source": [
    "- Repeating a string multiple times."
   ]
  },
  {
   "cell_type": "code",
   "execution_count": 41,
   "id": "d5c25543-f788-47f0-b5a1-3b099d31b622",
   "metadata": {},
   "outputs": [
    {
     "name": "stdout",
     "output_type": "stream",
     "text": [
      "Don't watch the clock; do what it does. Keep going. \n",
      "Don't watch the clock; do what it does. Keep going. \n",
      "Don't watch the clock; do what it does. Keep going. \n",
      "\n"
     ]
    }
   ],
   "source": [
    "sentence = \"Don't watch the clock; do what it does. Keep going. \\n\"\n",
    "repeat = sentence*3\n",
    "print(repeat)"
   ]
  },
  {
   "cell_type": "markdown",
   "id": "452befd5-78f0-43c7-b5d7-de1309b808fb",
   "metadata": {},
   "source": [
    "## 3. Indexing"
   ]
  },
  {
   "cell_type": "markdown",
   "id": "a0e0ddf3-a843-467f-9700-dcfe54015372",
   "metadata": {},
   "source": [
    "- Accessing individual character in a string."
   ]
  },
  {
   "cell_type": "code",
   "execution_count": 33,
   "id": "8318559f-5768-452d-b459-1d67d4c92373",
   "metadata": {},
   "outputs": [
    {
     "name": "stdout",
     "output_type": "stream",
     "text": [
      "n\n",
      "a\n"
     ]
    }
   ],
   "source": [
    "name = \"Sakhlain\"\n",
    "print(name[7])\n",
    "print(name[5])"
   ]
  },
  {
   "cell_type": "markdown",
   "id": "60da8695-0c04-44fb-bac7-ae949a026507",
   "metadata": {},
   "source": [
    "## 4. Slicing"
   ]
  },
  {
   "cell_type": "markdown",
   "id": "55791475-3dce-402c-bb0f-ec069a263f05",
   "metadata": {},
   "source": [
    "- Extracting a substring from a string."
   ]
  },
  {
   "cell_type": "code",
   "execution_count": 39,
   "id": "12f20a85-53e7-4ebc-9698-3d9d9206e9be",
   "metadata": {},
   "outputs": [
    {
     "name": "stdout",
     "output_type": "stream",
     "text": [
      " i \n",
      "SK.Sakhlain\n"
     ]
    }
   ],
   "source": [
    "string = \"Hi Myself i am SK.Sakhlain \"\n",
    "print(string[9:12])\n",
    "print(string[15:26])"
   ]
  },
  {
   "cell_type": "markdown",
   "id": "152b165a-7cf1-40b0-949b-42dd014b0b18",
   "metadata": {},
   "source": [
    "## Python Formate Strings"
   ]
  },
  {
   "cell_type": "markdown",
   "id": "4fffbd62-298a-4394-81e8-e62395623a88",
   "metadata": {},
   "source": [
    "1. Old style formating ( % operator):\n",
    "- Uses % operator and palceholder."
   ]
  },
  {
   "cell_type": "code",
   "execution_count": 51,
   "id": "39fbafe4-d24f-4575-b1e7-570a30d4723f",
   "metadata": {},
   "outputs": [
    {
     "name": "stdout",
     "output_type": "stream",
     "text": [
      " My name is Sakku and I am 21 years old. \n"
     ]
    }
   ],
   "source": [
    "name = \"Sakku\"\n",
    "age = 21\n",
    "sentence = \" My name is %s and I am %d years old. \" %(name,age)\n",
    "print(sentence)"
   ]
  },
  {
   "cell_type": "markdown",
   "id": "d1b2bb7b-44f1-4907-b282-d61b8fb0c47d",
   "metadata": {},
   "source": [
    "2. Format Method\n",
    "- Uses the format method with placeholder{} "
   ]
  },
  {
   "cell_type": "code",
   "execution_count": 66,
   "id": "36b505c0-6be6-47e3-bbbd-43296dd9e140",
   "metadata": {},
   "outputs": [
    {
     "name": "stdout",
     "output_type": "stream",
     "text": [
      "My name is Ajay Kumar and I am 21 years old.\n"
     ]
    }
   ],
   "source": [
    "name = \"Ajay Kumar\"\n",
    "age = 21\n",
    "result = \"My name is {} and I am {} years old.\".format(name,age)\n",
    "print(result) "
   ]
  },
  {
   "cell_type": "markdown",
   "id": "c12eb3a8-72e2-4f17-a3c5-70f9fcaf7836",
   "metadata": {},
   "source": [
    "3. String Interpolation (f - string)\n",
    "- To specify a string as an f-string, simply put an \" f \" in front of the string literal, and add curly brackets {} as placeholders for variables and other operations."
   ]
  },
  {
   "cell_type": "code",
   "execution_count": 74,
   "id": "2040fa55-3783-43f3-a530-0d74ee4fe58a",
   "metadata": {},
   "outputs": [
    {
     "name": "stdout",
     "output_type": "stream",
     "text": [
      "My name is Devaraju and I am 21 years old.\n"
     ]
    }
   ],
   "source": [
    "name = \"Devaraju\"\n",
    "age = 21\n",
    "result = f\"My name is {name} and I am {age} years old.\"\n",
    "print(result)"
   ]
  },
  {
   "cell_type": "markdown",
   "id": "dc3e2575-cda2-42b2-822b-c3ea3a86d68d",
   "metadata": {},
   "source": [
    "## String Methods"
   ]
  },
  {
   "cell_type": "markdown",
   "id": "a969840a-cbd7-495a-aa4a-3bbfaca423ed",
   "metadata": {},
   "source": [
    "- Python has a set of built - in methods that we can use on strings.\n",
    "- All string methods return new values they do not change the original string."
   ]
  },
  {
   "cell_type": "markdown",
   "id": "4564dd0b-bd06-45e9-931b-8bfa13b13577",
   "metadata": {},
   "source": [
    "| Method | Description|\n",
    "|--------|------------|\n",
    "| len()  | Returns the length of the string  |\n",
    "| lower()| Converts a string into lower case|\n",
    "| upper()| Converts a string into upper case|\n",
    "| strip()| Remove leading and trailing whitespaces|\n",
    "| replace()| Replace a substring with another substring|\n",
    "| split()| Split ths string into a list of substrings|\n",
    "| join()| Joins the list of strings into a single string|\n",
    "| capitalize()| Converts the first character to upper case|\n",
    "| casefold()| Converts string into lower case|\n",
    "| center() | Returns a centered string|\n",
    "| count() | Returns the number of items a specified value occurs in a string|\n",
    "| encode() | Returns an encoded version of the string|\n",
    "| endswith()| Returns true if the string ends with the specified value|\n",
    "| expandtabe()| Sets the tab size of the string|\n",
    "| find()| Search the string for a specified value and retuens the position of where it was found|\n",
    "| format() | Formates specified values in a string|\n",
    "| index() | Searches the string for a specified value and retuerns the position of where it was found|\n",
    "| format_map() | Formate specified values in a string|\n",
    "| translate() | Returns a translated string|\n",
    "| zfill() | Fills the string with a specified number of 0 values at the beginning|\n",
    "| title()| Converts the first character of each word to upper case|\n",
    "| swapcase() | Swaps cases, lower case becomes upper case and vice versa|\n",
    "| splitilines()| Splits the string ata line breaks and retuen a list|\n",
    "| rfind()| Searches the string for a specified value and returns the last position of where it was found|\n",
    "| rindex()| Searches the string for a specified value and retuerns the last position of where it was found|\n",
    "| rjust()| Returns a right justified version of the string|\n",
    "| rsplit()| Splits the string at the specified separator, and returns a list|\n",
    "| rstrip()| Returns a right trim version of the string|\n",
    "| isdigit()| Returns True if all characters in the string are digits|\n",
    "| isnumeric()| Returns True if all characters in the string are numeric|\n",
    "| islower()| Returns True if all characters in the string are lower case|\n"
   ]
  },
  {
   "cell_type": "markdown",
   "id": "4c6cc5ce-6427-42cc-9d87-2f7857704aa3",
   "metadata": {},
   "source": [
    "## 1. `len()`:"
   ]
  },
  {
   "cell_type": "markdown",
   "id": "c29fe474-c7ee-4b32-bfd0-5ca84b8e84f2",
   "metadata": {},
   "source": [
    "- Returns the length of the string"
   ]
  },
  {
   "cell_type": "code",
   "execution_count": 93,
   "id": "c11491ed-5c0a-4a0e-a62f-211bc3b4fa13",
   "metadata": {},
   "outputs": [
    {
     "name": "stdout",
     "output_type": "stream",
     "text": [
      "13\n"
     ]
    }
   ],
   "source": [
    "# Example program\n",
    "string = \"Python is fun\"\n",
    "length = len(string)\n",
    "print(length)"
   ]
  },
  {
   "cell_type": "markdown",
   "id": "93ce9d52-d523-4e5d-a803-ad29729b491b",
   "metadata": {},
   "source": [
    "## 2.`lower()`:"
   ]
  },
  {
   "cell_type": "markdown",
   "id": "d6cdd571-0889-447f-8306-303c8818758c",
   "metadata": {},
   "source": [
    "- Converts the string to lower case"
   ]
  },
  {
   "cell_type": "code",
   "execution_count": 97,
   "id": "3babec3a-3d99-4c1a-ba35-3e5ac83e120c",
   "metadata": {},
   "outputs": [
    {
     "name": "stdout",
     "output_type": "stream",
     "text": [
      "sakku\n"
     ]
    }
   ],
   "source": [
    "string = \"SAKKU\"\n",
    "print(string.lower())"
   ]
  },
  {
   "cell_type": "markdown",
   "id": "d3d621eb-45d5-45c5-8c1b-b3626d2b42bc",
   "metadata": {},
   "source": [
    "## 3.`upper()`:"
   ]
  },
  {
   "cell_type": "markdown",
   "id": "3314bea2-5a53-452c-af31-ddfe51ec2e58",
   "metadata": {},
   "source": [
    "- Converts the string to upper case"
   ]
  },
  {
   "cell_type": "code",
   "execution_count": 101,
   "id": "706e0639-f023-48cf-af32-376d6708e1fb",
   "metadata": {},
   "outputs": [
    {
     "name": "stdout",
     "output_type": "stream",
     "text": [
      "SAKKU\n"
     ]
    }
   ],
   "source": [
    "string = \"sakku\"\n",
    "print(string.upper())"
   ]
  },
  {
   "cell_type": "markdown",
   "id": "479c1db9-785e-4659-ac7f-1eed31db42ac",
   "metadata": {},
   "source": [
    "## 4.`strip()`:"
   ]
  },
  {
   "cell_type": "markdown",
   "id": "1cab4a26-cdff-4faf-aa96-6d8441c06036",
   "metadata": {},
   "source": [
    "- Remove leading and trailing whitespaces"
   ]
  },
  {
   "cell_type": "code",
   "execution_count": 105,
   "id": "af7e6678-c911-4abf-b329-5f76322a8c1e",
   "metadata": {},
   "outputs": [
    {
     "name": "stdout",
     "output_type": "stream",
     "text": [
      "python\n"
     ]
    }
   ],
   "source": [
    "string = \"  python  \"\n",
    "print(string.strip())"
   ]
  },
  {
   "cell_type": "markdown",
   "id": "272efdca-7fba-45c9-b3ff-256de048c089",
   "metadata": {},
   "source": [
    "## 5.`replace()`:"
   ]
  },
  {
   "cell_type": "markdown",
   "id": "170a31e3-fc59-4fe2-9441-89f436658ed2",
   "metadata": {},
   "source": [
    "- Replaces a substring with another substring."
   ]
  },
  {
   "cell_type": "code",
   "execution_count": 114,
   "id": "dc39e7e2-51e9-4184-8fbd-6593eb7b2090",
   "metadata": {},
   "outputs": [
    {
     "name": "stdout",
     "output_type": "stream",
     "text": [
      "HI Deva\n"
     ]
    }
   ],
   "source": [
    "string = \"HI gopal\"\n",
    "string2 = string.replace(\"gopal\",\"Deva\")\n",
    "print(string2)"
   ]
  },
  {
   "cell_type": "markdown",
   "id": "be9f5fdf-00ab-4e8c-b7fe-24bdbb2b1da1",
   "metadata": {},
   "source": [
    "## 6.`split()`:"
   ]
  },
  {
   "cell_type": "markdown",
   "id": "15afabba-28b6-4bfd-b8f3-46793934629f",
   "metadata": {},
   "source": [
    "- Split the string into a list of substrings."
   ]
  },
  {
   "cell_type": "code",
   "execution_count": 118,
   "id": "c0630cef-15d6-4f6a-bbc7-0e6f6c21387f",
   "metadata": {},
   "outputs": [
    {
     "name": "stdout",
     "output_type": "stream",
     "text": [
      "['Hi', 'i', 'am', 'SK.Sakhlain']\n"
     ]
    }
   ],
   "source": [
    "sentence = \"Hi i am SK.Sakhlain\"\n",
    "print(sentence.split())"
   ]
  },
  {
   "cell_type": "markdown",
   "id": "a3a4f5ea-47d6-49de-b023-2d39e266b176",
   "metadata": {},
   "source": [
    "## 7.`join()`:"
   ]
  },
  {
   "cell_type": "markdown",
   "id": "157fa961-6697-42dc-815d-78139ec6cb54",
   "metadata": {},
   "source": [
    "- Join's a list of string into a single string."
   ]
  },
  {
   "cell_type": "code",
   "execution_count": 126,
   "id": "09965c4d-d72b-42b9-9017-1b4685b14db7",
   "metadata": {},
   "outputs": [
    {
     "name": "stdout",
     "output_type": "stream",
     "text": [
      "Hi i am SK.Sakhlain\n"
     ]
    }
   ],
   "source": [
    "sentence = ['Hi','i','am',\"SK.Sakhlain\"]\n",
    "print(' '.join(sentence))"
   ]
  },
  {
   "cell_type": "markdown",
   "id": "343d4ddc-ecc0-4a3a-a79a-14ed21c20e69",
   "metadata": {},
   "source": [
    "## 8.`capitalize()`:"
   ]
  },
  {
   "cell_type": "markdown",
   "id": "bee26ea1-fbd9-4f4a-bba4-6bafba5285b3",
   "metadata": {},
   "source": [
    "- Converts the frist character to upper case."
   ]
  },
  {
   "cell_type": "markdown",
   "id": "acf8f626-d3c5-4014-835c-5c48b8cd32bc",
   "metadata": {},
   "source": [
    "### Syntax"
   ]
  },
  {
   "cell_type": "code",
   "execution_count": null,
   "id": "65f30c58-0cdb-4dad-bb1f-8bc667f63974",
   "metadata": {},
   "outputs": [],
   "source": [
    "string.capitalize()"
   ]
  },
  {
   "cell_type": "code",
   "execution_count": 285,
   "id": "b83a2ce7-9e6b-4917-b591-af9fb52f5eb4",
   "metadata": {},
   "outputs": [
    {
     "name": "stdout",
     "output_type": "stream",
     "text": [
      "Hello, and welcome to my world.\n"
     ]
    }
   ],
   "source": [
    "intro = \"hello, and welcome to my world.\"\n",
    "result = intro.capitalize()\n",
    "print (result)"
   ]
  },
  {
   "cell_type": "markdown",
   "id": "b1a7492a-19e6-4792-b900-9a10ec02e242",
   "metadata": {},
   "source": [
    "## 9. `casefold()`:\n"
   ]
  },
  {
   "cell_type": "markdown",
   "id": "0a53f02d-9c77-4f4a-bef5-2d792c91282c",
   "metadata": {},
   "source": [
    "- Converts string into lower case"
   ]
  },
  {
   "cell_type": "markdown",
   "id": "9d26f841-5bba-4776-8444-b3dd4020d21d",
   "metadata": {},
   "source": [
    "### Syntax"
   ]
  },
  {
   "cell_type": "code",
   "execution_count": null,
   "id": "49849b6b-158e-4c25-9c9c-411de0aafdb4",
   "metadata": {},
   "outputs": [],
   "source": [
    "string.casefold()"
   ]
  },
  {
   "cell_type": "code",
   "execution_count": 145,
   "id": "8fc476ca-5f07-4747-a606-86ca500c1d7d",
   "metadata": {},
   "outputs": [
    {
     "name": "stdout",
     "output_type": "stream",
     "text": [
      "hello, and welcome to my world.\n"
     ]
    }
   ],
   "source": [
    "intro = \"Hello, And Welcome To My World.\"\n",
    "result = intro.casefold()\n",
    "print (result)"
   ]
  },
  {
   "cell_type": "markdown",
   "id": "9011bc76-6b46-4b6e-a7d4-0bca90754bc3",
   "metadata": {},
   "source": [
    "## 10.`center()`:"
   ]
  },
  {
   "cell_type": "markdown",
   "id": "3d3d45be-c1a2-4932-bed4-e9ef616a8d0c",
   "metadata": {},
   "source": [
    "- Returns a centered string."
   ]
  },
  {
   "cell_type": "markdown",
   "id": "7011b651-65aa-4f46-9283-7e51efc31379",
   "metadata": {},
   "source": [
    "### Syntax"
   ]
  },
  {
   "cell_type": "code",
   "execution_count": null,
   "id": "0772eb83-291f-4a86-bc3e-0f2e05eedd1f",
   "metadata": {},
   "outputs": [],
   "source": [
    "string.center(length, character)"
   ]
  },
  {
   "cell_type": "code",
   "execution_count": 151,
   "id": "b401f7ff-5b49-407f-9baf-b88aac746373",
   "metadata": {},
   "outputs": [
    {
     "name": "stdout",
     "output_type": "stream",
     "text": [
      "AAAAAAAsakkuAAAAAAAA\n"
     ]
    }
   ],
   "source": [
    "txt = \"sakku\"\n",
    "x = txt.center(20, \"A\")\n",
    "print(x)"
   ]
  },
  {
   "cell_type": "markdown",
   "id": "3d95812e-ae8d-44cc-9a83-f54048ea2c03",
   "metadata": {},
   "source": [
    "## 11.`count()`:"
   ]
  },
  {
   "cell_type": "markdown",
   "id": "6b300689-b4de-4194-a94c-655d6050349e",
   "metadata": {},
   "source": [
    "- Returns the number of times a specified value occurs in a string."
   ]
  },
  {
   "cell_type": "markdown",
   "id": "6ba050aa-f893-4ffa-874d-ad84993299de",
   "metadata": {},
   "source": [
    "### Syntax"
   ]
  },
  {
   "cell_type": "code",
   "execution_count": null,
   "id": "31738010-6070-4a88-b4a4-d1a2f1c5d205",
   "metadata": {},
   "outputs": [],
   "source": [
    "string.count(value,start,end)"
   ]
  },
  {
   "cell_type": "code",
   "execution_count": 160,
   "id": "18f7f21a-510f-4daf-878e-85c34f14094e",
   "metadata": {},
   "outputs": [
    {
     "name": "stdout",
     "output_type": "stream",
     "text": [
      "2\n"
     ]
    }
   ],
   "source": [
    "txt = \"I love apples, apple, apple are my favorite fruit\"\n",
    "x = txt.count(\"apple\", 10, 30)\n",
    "print(x)\n"
   ]
  },
  {
   "cell_type": "markdown",
   "id": "76cf27f8-2488-40b3-9aa3-30558490affb",
   "metadata": {},
   "source": [
    "## 12.`encode()`:"
   ]
  },
  {
   "cell_type": "markdown",
   "id": "4e8996b6-7f2b-4822-a9cd-3ef9656139ba",
   "metadata": {},
   "source": [
    "- Returns an encoded version of the string."
   ]
  },
  {
   "cell_type": "markdown",
   "id": "f1f993fd-3d6a-4caf-982a-155acd15db05",
   "metadata": {},
   "source": [
    "### Syntax"
   ]
  },
  {
   "cell_type": "code",
   "execution_count": null,
   "id": "a1893759-2275-43d0-93f0-5b125dce35aa",
   "metadata": {},
   "outputs": [],
   "source": [
    "string.encode(encoding=encoding, errors=errors)"
   ]
  },
  {
   "cell_type": "code",
   "execution_count": 165,
   "id": "0fe57d42-811f-4b50-a430-8f7dbe6a39ca",
   "metadata": {},
   "outputs": [
    {
     "name": "stdout",
     "output_type": "stream",
     "text": [
      "b'Sakhlain'\n"
     ]
    }
   ],
   "source": [
    "name = \"Sakhlain\"\n",
    "lock = name.encode()\n",
    "print(lock)"
   ]
  },
  {
   "cell_type": "markdown",
   "id": "595e12e8-bc8b-44ff-9f4f-edb7612bd7e7",
   "metadata": {},
   "source": [
    "## 13.`endswith()`:"
   ]
  },
  {
   "cell_type": "markdown",
   "id": "2ed42e93-18f9-42e4-96b0-7e23c8637e1c",
   "metadata": {},
   "source": [
    "- Returns true if the string ends with the specified value."
   ]
  },
  {
   "cell_type": "markdown",
   "id": "8360fada-886f-4711-88af-c6656332e6f2",
   "metadata": {},
   "source": [
    "### Syntax"
   ]
  },
  {
   "cell_type": "code",
   "execution_count": null,
   "id": "9fc534ed-990d-4d9e-a3eb-e2d0e948c4c5",
   "metadata": {},
   "outputs": [],
   "source": [
    "string.endwith(value,start,end)"
   ]
  },
  {
   "cell_type": "code",
   "execution_count": 170,
   "id": "86f4274e-ce95-4e5b-9463-8b102f9fd5b7",
   "metadata": {},
   "outputs": [
    {
     "name": "stdout",
     "output_type": "stream",
     "text": [
      "True\n"
     ]
    }
   ],
   "source": [
    "sen = \"Hello, welcome to my world.\"\n",
    "x = sen.endswith(\"my world.\")\n",
    "print(x)"
   ]
  },
  {
   "cell_type": "markdown",
   "id": "8a1f37cd-b244-485e-bfab-b1207e9e0082",
   "metadata": {},
   "source": [
    "## 14`expandtabs()`:"
   ]
  },
  {
   "cell_type": "markdown",
   "id": "3cd08d33-a26a-49ef-b3c2-12d0ba1abcf0",
   "metadata": {},
   "source": [
    "- Sets the tab size of the string"
   ]
  },
  {
   "cell_type": "markdown",
   "id": "41a284e7-76f4-4ffe-a48a-e675d778a09f",
   "metadata": {},
   "source": [
    "### Syntex"
   ]
  },
  {
   "cell_type": "code",
   "execution_count": null,
   "id": "39b8770c-3944-4924-9d9d-9a1559aaf8e5",
   "metadata": {},
   "outputs": [],
   "source": [
    "string.expandtabs(tabsize)"
   ]
  },
  {
   "cell_type": "code",
   "execution_count": 175,
   "id": "9d26c859-8839-4058-a4b9-a186f414a0e3",
   "metadata": {},
   "outputs": [
    {
     "name": "stdout",
     "output_type": "stream",
     "text": [
      "H\te\tl\tl\to\n",
      "H       e       l       l       o\n",
      "H e l l o\n",
      "H   e   l   l   o\n",
      "H         e         l         l         o\n"
     ]
    }
   ],
   "source": [
    "space = \"H\\te\\tl\\tl\\to\"\n",
    "\n",
    "print(space)\n",
    "print(space.expandtabs())\n",
    "print(space.expandtabs(2))\n",
    "print(space.expandtabs(4))\n",
    "print(space.expandtabs(10))"
   ]
  },
  {
   "cell_type": "markdown",
   "id": "2d49d0fd-7970-4be3-a8c0-566cf36c4063",
   "metadata": {},
   "source": [
    "## 15.`find()`:"
   ]
  },
  {
   "cell_type": "markdown",
   "id": "d6f87105-f4ec-49f5-a0ad-fafe43539c55",
   "metadata": {},
   "source": [
    "- Searches the string for a specified value and returns the position of where it was found."
   ]
  },
  {
   "cell_type": "markdown",
   "id": "ee2197f8-d556-4c07-ae23-2e37d26c62dd",
   "metadata": {},
   "source": [
    "### Syntax"
   ]
  },
  {
   "cell_type": "code",
   "execution_count": null,
   "id": "45ab6237-095e-4294-a5e3-7cf68d067789",
   "metadata": {},
   "outputs": [],
   "source": [
    "string.find(value, start, end)"
   ]
  },
  {
   "cell_type": "code",
   "execution_count": 183,
   "id": "4ade3c37-73cd-4e40-958c-b0a92fce0b35",
   "metadata": {},
   "outputs": [
    {
     "name": "stdout",
     "output_type": "stream",
     "text": [
      "7\n"
     ]
    }
   ],
   "source": [
    "finding = \"Hello, welcome to my world.\"\n",
    "x = finding.find(\"w\")\n",
    "print(x)\n"
   ]
  },
  {
   "cell_type": "markdown",
   "id": "6102be36-7633-4c66-8c94-489b233a02c0",
   "metadata": {},
   "source": [
    "## 16.`format()`:"
   ]
  },
  {
   "cell_type": "markdown",
   "id": "d7ccce5d-f311-423c-b62d-74fee13b4920",
   "metadata": {},
   "source": [
    "- Formats specified values in a string. "
   ]
  },
  {
   "cell_type": "markdown",
   "id": "5f95c33c-04d5-4a77-922e-7d5b82a8635f",
   "metadata": {},
   "source": [
    "### Syntax"
   ]
  },
  {
   "cell_type": "code",
   "execution_count": null,
   "id": "b181eba2-9fec-42c2-aa1d-ae62695025a9",
   "metadata": {},
   "outputs": [],
   "source": [
    "string.format(value1, value2...)"
   ]
  },
  {
   "cell_type": "code",
   "execution_count": 191,
   "id": "03330853-d94d-4584-9a45-66fce408c999",
   "metadata": {},
   "outputs": [
    {
     "name": "stdout",
     "output_type": "stream",
     "text": [
      "My name is sakku, I'm 21\n",
      "My name is sohail, I'm 22\n",
      "My name is John, I'm 50\n"
     ]
    }
   ],
   "source": [
    "for1 = \"My name is {fname}, I'm {age}\".format(fname = \"sakku\", age = 21)\n",
    "for2 = \"My name is {0}, I'm {1}\".format(\"sohail\",22)\n",
    "for3 = \"My name is {}, I'm {}\".format(\"John\",50)\n",
    "\n",
    "print(for1)\n",
    "print(for2)\n",
    "print(for3)\n"
   ]
  },
  {
   "cell_type": "markdown",
   "id": "5603c0d2-b002-4ceb-831e-39ba14351086",
   "metadata": {},
   "source": [
    "## 17.`index()`:"
   ]
  },
  {
   "cell_type": "markdown",
   "id": "711b43ba-87b3-4d81-b167-1a89c5679621",
   "metadata": {},
   "source": [
    "- Searches the string for a specified value and returns the position of where it was found."
   ]
  },
  {
   "cell_type": "markdown",
   "id": "6f2d3e41-5bb1-4686-9a5b-8590da9eef14",
   "metadata": {},
   "source": [
    "### Syntax"
   ]
  },
  {
   "cell_type": "code",
   "execution_count": null,
   "id": "a11ced7a-b08d-482e-847e-6d2fde4cd6b3",
   "metadata": {},
   "outputs": [],
   "source": [
    "string.index(value, start, end)"
   ]
  },
  {
   "cell_type": "code",
   "execution_count": 197,
   "id": "9d62b257-77cc-4891-a146-9c01312d02e2",
   "metadata": {},
   "outputs": [
    {
     "name": "stdout",
     "output_type": "stream",
     "text": [
      "25\n"
     ]
    }
   ],
   "source": [
    "inde_sentence = \"Hello, welcome to my world.\"\n",
    "x = inde_sentence.index(\"d\")\n",
    "print(x)"
   ]
  },
  {
   "cell_type": "markdown",
   "id": "33423fc9-1b03-4d2d-9b98-690b14106d7d",
   "metadata": {},
   "source": [
    "## 18.`format_map()`:"
   ]
  },
  {
   "cell_type": "markdown",
   "id": "56656df8-2556-4e4e-a5ac-8e8022defa57",
   "metadata": {},
   "source": [
    "- Formats specified values in a string."
   ]
  },
  {
   "cell_type": "markdown",
   "id": "ccaeb413-cd28-482e-af19-94c9a2add36d",
   "metadata": {},
   "source": [
    "### Syntax"
   ]
  },
  {
   "cell_type": "code",
   "execution_count": null,
   "id": "7cd7d3ff-f34e-4b68-80bc-6c484991c313",
   "metadata": {},
   "outputs": [],
   "source": [
    "string.format_map(mapping)"
   ]
  },
  {
   "cell_type": "code",
   "execution_count": 202,
   "id": "ff5d5ddc-44a5-4f65-b076-9e78da0c938f",
   "metadata": {},
   "outputs": [
    {
     "name": "stdout",
     "output_type": "stream",
     "text": [
      "Hello, my name is Alice and I am 30 years old.\n"
     ]
    }
   ],
   "source": [
    "person = {'name': 'Alice', 'age': 30}\n",
    "text = \"Hello, my name is {name!s} and I am {age!r} years old.\"\n",
    "formatted_text = text.format_map(person)\n",
    "print(formatted_text)"
   ]
  },
  {
   "cell_type": "markdown",
   "id": "bd1f80b0-f674-46d6-a8e2-45e795d107b8",
   "metadata": {},
   "source": [
    "## 19.`translate()`:"
   ]
  },
  {
   "cell_type": "markdown",
   "id": "f872475f-ec3c-4c99-8850-3d9dc71d408b",
   "metadata": {},
   "source": [
    "- Returns a translated string."
   ]
  },
  {
   "cell_type": "markdown",
   "id": "7240fbc7-9d9d-48a1-87ea-96d87d87fd97",
   "metadata": {},
   "source": [
    "### Syntax"
   ]
  },
  {
   "cell_type": "code",
   "execution_count": null,
   "id": "aae09592-0932-4501-b3c9-c10e073ff64f",
   "metadata": {},
   "outputs": [],
   "source": [
    "string.translate(table)"
   ]
  },
  {
   "cell_type": "code",
   "execution_count": 207,
   "id": "e590673b-d52d-4ad3-9633-4a3bd074ee9c",
   "metadata": {},
   "outputs": [
    {
     "name": "stdout",
     "output_type": "stream",
     "text": [
      "Hello Pam!\n"
     ]
    }
   ],
   "source": [
    "txt = \"Hello Sam!\"\n",
    "mytable = str.maketrans(\"S\", \"P\")\n",
    "print(txt.translate(mytable))"
   ]
  },
  {
   "cell_type": "markdown",
   "id": "482ae6e3-9d7b-43fe-a0c0-6d1651d374dd",
   "metadata": {},
   "source": [
    "## 20. `zfill()`:"
   ]
  },
  {
   "cell_type": "markdown",
   "id": "295e5488-db82-4a0d-9f7d-5524f50b0ad9",
   "metadata": {},
   "source": [
    "- Fills the string with a specified number of 0 values at the beginning."
   ]
  },
  {
   "cell_type": "markdown",
   "id": "443abfc3-b787-4477-977c-86b441e7c105",
   "metadata": {},
   "source": [
    "### Syntax"
   ]
  },
  {
   "cell_type": "code",
   "execution_count": null,
   "id": "7662b138-5e1d-45c1-8dd2-bebb9b4ac1d5",
   "metadata": {},
   "outputs": [],
   "source": [
    "string.zfill(len)"
   ]
  },
  {
   "cell_type": "code",
   "execution_count": 214,
   "id": "f0a77b2d-2f34-41a6-8d81-e017694a4346",
   "metadata": {},
   "outputs": [
    {
     "name": "stdout",
     "output_type": "stream",
     "text": [
      "00000sakku\n"
     ]
    }
   ],
   "source": [
    "name = \"sakku\"\n",
    "print(name.zfill(10))\n"
   ]
  },
  {
   "cell_type": "markdown",
   "id": "6e6e6e12-e6f7-4d53-bfc3-15a97c54693e",
   "metadata": {},
   "source": [
    "## 21.`title()`:"
   ]
  },
  {
   "cell_type": "markdown",
   "id": "2e805fd6-3b0d-467f-bf21-c7cf4b7451cc",
   "metadata": {},
   "source": [
    "- Converts the first character of ecah word to upper case."
   ]
  },
  {
   "cell_type": "markdown",
   "id": "79afffad-e4df-4598-92f0-e6712605dcf8",
   "metadata": {},
   "source": [
    "### Syntax"
   ]
  },
  {
   "cell_type": "code",
   "execution_count": null,
   "id": "0325aa36-5a7b-4d68-a66b-1830f327f7af",
   "metadata": {},
   "outputs": [],
   "source": [
    "string.title()"
   ]
  },
  {
   "cell_type": "code",
   "execution_count": 220,
   "id": "01fad2fd-c3e8-4d06-8bd3-dc577965fa2e",
   "metadata": {},
   "outputs": [
    {
     "name": "stdout",
     "output_type": "stream",
     "text": [
      "Welcome To My World\n"
     ]
    }
   ],
   "source": [
    "title_1 = \"Welcome to my world\"\n",
    "x = title_1.title()\n",
    "print(x)"
   ]
  },
  {
   "cell_type": "markdown",
   "id": "3e7dc84b-2bf8-4b79-bb68-163a1dbaa503",
   "metadata": {},
   "source": [
    "## 22.`swapcase()`:"
   ]
  },
  {
   "cell_type": "markdown",
   "id": "c25a72a6-df32-4177-85af-344a7edbd5c3",
   "metadata": {},
   "source": [
    "- Swaps cases, lower case becomes upper case and vice versa."
   ]
  },
  {
   "cell_type": "markdown",
   "id": "65fc8761-1038-450a-b976-90e864c014bb",
   "metadata": {},
   "source": [
    "### Syntax"
   ]
  },
  {
   "cell_type": "code",
   "execution_count": null,
   "id": "3a822ffe-14db-48d6-9f4c-d617ce700f4d",
   "metadata": {},
   "outputs": [],
   "source": [
    "string.swapcase()"
   ]
  },
  {
   "cell_type": "code",
   "execution_count": 226,
   "id": "273d8092-7acd-4706-a756-1057d97f0c73",
   "metadata": {},
   "outputs": [
    {
     "name": "stdout",
     "output_type": "stream",
     "text": [
      "hELLO mY nAME iS peter\n"
     ]
    }
   ],
   "source": [
    "txt = \"Hello My Name Is PETER\"\n",
    "\n",
    "x = txt.swapcase()\n",
    "\n",
    "print(x)"
   ]
  },
  {
   "cell_type": "markdown",
   "id": "445d1e83-3f1b-4954-b9bd-cfe2e6283139",
   "metadata": {},
   "source": [
    "## 23.`splitlines()`:"
   ]
  },
  {
   "cell_type": "markdown",
   "id": "32e53126-7939-4368-8294-becf36fd874c",
   "metadata": {},
   "source": [
    "- The splitlines() method splits a string into a list. The splitting is done at line breaks."
   ]
  },
  {
   "cell_type": "markdown",
   "id": "bab164e5-48f9-4863-9370-38537fa2117c",
   "metadata": {},
   "source": [
    "### Syntax"
   ]
  },
  {
   "cell_type": "code",
   "execution_count": null,
   "id": "91861582-8233-4cae-97aa-7f5d217efb46",
   "metadata": {},
   "outputs": [],
   "source": [
    "string.splitlines(keeplinebreaks)"
   ]
  },
  {
   "cell_type": "code",
   "execution_count": 235,
   "id": "cfb408e1-a144-40b9-9997-e3b35d48e2fe",
   "metadata": {},
   "outputs": [
    {
     "name": "stdout",
     "output_type": "stream",
     "text": [
      "['Thank you for the music', 'Welcome to the jungle']\n"
     ]
    }
   ],
   "source": [
    "txt = \"Thank you for the music\\nWelcome to the jungle\"\n",
    "\n",
    "x = txt.splitlines()\n",
    "\n",
    "print(x)"
   ]
  },
  {
   "cell_type": "markdown",
   "id": "ea6b57bf-c07c-42bf-94d7-91f81daed511",
   "metadata": {},
   "source": [
    "## 24. `rfind()`:"
   ]
  },
  {
   "cell_type": "markdown",
   "id": "4d8da965-4137-4d2a-a0b4-7d78dbc2a5bb",
   "metadata": {},
   "source": [
    "- The rfind() method finds the last occurrence of the specified value.\n",
    "\n",
    "- The rfind() method returns -1 if the value is not found.\n",
    "\n",
    "- The rfind() method is almost the same as the rindex() method."
   ]
  },
  {
   "cell_type": "markdown",
   "id": "2d24fed6-9574-48bc-a5f6-3c34c24538c8",
   "metadata": {},
   "source": [
    "### Syntax"
   ]
  },
  {
   "cell_type": "code",
   "execution_count": null,
   "id": "d11b109c-ecab-4906-835d-1cc875216b3e",
   "metadata": {},
   "outputs": [],
   "source": [
    "string.rfind(value, start, end)"
   ]
  },
  {
   "cell_type": "code",
   "execution_count": 240,
   "id": "1ce84664-aff2-4276-b1f1-b576cc60a635",
   "metadata": {},
   "outputs": [
    {
     "name": "stdout",
     "output_type": "stream",
     "text": [
      "8\n"
     ]
    }
   ],
   "source": [
    "txt = \"Hello, welcome to my world.\"\n",
    "\n",
    "x = txt.rfind(\"e\", 5, 10)\n",
    "\n",
    "print(x)"
   ]
  },
  {
   "cell_type": "markdown",
   "id": "abcbf3f6-2cce-43aa-b2ea-279551bc4618",
   "metadata": {},
   "source": [
    "## 25. `rindex()`:"
   ]
  },
  {
   "cell_type": "markdown",
   "id": "a022b120-e6c8-498a-910c-004bebbced36",
   "metadata": {},
   "source": [
    "- The rindex() method finds the last occurrence of the specified value.\n",
    "\n",
    "- The rindex() method raises an exception if the value is not found.\n",
    "\n",
    "- The rindex() method is almost the same as the rfind()"
   ]
  },
  {
   "cell_type": "markdown",
   "id": "6ab3599c-cecd-4451-b926-0ed8f4d9fcc3",
   "metadata": {},
   "source": [
    "### Syntax"
   ]
  },
  {
   "cell_type": "code",
   "execution_count": null,
   "id": "c9ea2882-d1ad-4b2b-a541-22da206d91ea",
   "metadata": {},
   "outputs": [],
   "source": [
    "string.rindex(value, start, end)"
   ]
  },
  {
   "cell_type": "code",
   "execution_count": 246,
   "id": "29450e09-731a-4b63-af36-1478b3a2ea1b",
   "metadata": {},
   "outputs": [
    {
     "name": "stdout",
     "output_type": "stream",
     "text": [
      "13\n"
     ]
    }
   ],
   "source": [
    "txt = \"Hello, welcome to my world.\"\n",
    "\n",
    "x = txt.rindex(\"e\")\n",
    "\n",
    "print(x)\n"
   ]
  },
  {
   "cell_type": "markdown",
   "id": "22ff7e8c-704e-4468-96b0-f9349d0eddf2",
   "metadata": {},
   "source": [
    "## 26. `rjust()`:"
   ]
  },
  {
   "cell_type": "markdown",
   "id": "65bb35d5-25e8-47eb-9f4f-b4d23a757c9d",
   "metadata": {},
   "source": [
    "- The rjust() method will right align the string, using a specified character (space is default) as the fill character."
   ]
  },
  {
   "cell_type": "markdown",
   "id": "2892e74b-4f2c-4d10-a990-8292de819f9a",
   "metadata": {},
   "source": [
    "### Syntax"
   ]
  },
  {
   "cell_type": "code",
   "execution_count": null,
   "id": "30ceee72-3b7a-4e7e-8db4-4a3d299ec5ba",
   "metadata": {},
   "outputs": [],
   "source": [
    "string.rjust(length, character)"
   ]
  },
  {
   "cell_type": "code",
   "execution_count": 251,
   "id": "1b3443fc-3e64-462b-a5e1-290d88ca26bf",
   "metadata": {},
   "outputs": [
    {
     "name": "stdout",
     "output_type": "stream",
     "text": [
      "              banana is my favorite fruit.\n"
     ]
    }
   ],
   "source": [
    "txt = \"banana\"\n",
    "\n",
    "x = txt.rjust(20)\n",
    "\n",
    "print(x, \"is my favorite fruit.\")"
   ]
  },
  {
   "cell_type": "code",
   "execution_count": 253,
   "id": "a0dad57f-a324-4034-b767-8776887f3982",
   "metadata": {},
   "outputs": [
    {
     "name": "stdout",
     "output_type": "stream",
     "text": [
      "OOOOOOOOOOOOOObanana\n"
     ]
    }
   ],
   "source": [
    "txt = \"banana\"\n",
    "\n",
    "x = txt.rjust(20, \"O\")\n",
    "\n",
    "print(x)"
   ]
  },
  {
   "cell_type": "markdown",
   "id": "26905b7b-19ee-4db6-ac76-9b798a00149c",
   "metadata": {},
   "source": [
    "## 27. `rspli()`:"
   ]
  },
  {
   "cell_type": "markdown",
   "id": "b77ebed4-3ec9-4900-baa6-4391310377af",
   "metadata": {},
   "source": [
    "- The rsplit() method splits a string into a list, starting from the right.\n",
    "\n",
    "- If no \"max\" is specified, this method will return the same as the split() method."
   ]
  },
  {
   "cell_type": "markdown",
   "id": "e3a9f2cd-432a-4eeb-af5f-a6fa89d478be",
   "metadata": {},
   "source": [
    "### Syntax"
   ]
  },
  {
   "cell_type": "code",
   "execution_count": null,
   "id": "2186cf04-5311-4938-a1cb-9e3d50d33887",
   "metadata": {},
   "outputs": [],
   "source": [
    "string.rsplit(separator, maxsplit)"
   ]
  },
  {
   "cell_type": "code",
   "execution_count": 258,
   "id": "19161aa6-69ac-447e-92f4-483b3a949aa6",
   "metadata": {},
   "outputs": [
    {
     "name": "stdout",
     "output_type": "stream",
     "text": [
      "['apple', 'banana', 'cherry']\n"
     ]
    }
   ],
   "source": [
    "txt = \"apple, banana, cherry\"\n",
    "\n",
    "x = txt.rsplit(\", \")\n",
    "\n",
    "print(x)"
   ]
  },
  {
   "cell_type": "code",
   "execution_count": 260,
   "id": "12463ebc-8f54-4dcd-88b2-f8fd6c9fed30",
   "metadata": {},
   "outputs": [
    {
     "name": "stdout",
     "output_type": "stream",
     "text": [
      "['apple, banana', 'cherry']\n"
     ]
    }
   ],
   "source": [
    "txt = \"apple, banana, cherry\"\n",
    "\n",
    "x = txt.rsplit(\", \", 1)\n",
    "\n",
    "print(x)"
   ]
  },
  {
   "cell_type": "markdown",
   "id": "842f4abf-ada6-4f01-90ea-08bd9bfa8d45",
   "metadata": {},
   "source": [
    "## 28. `rstrip()`:"
   ]
  },
  {
   "cell_type": "markdown",
   "id": "956452c9-42e4-4a80-aeab-06044e993827",
   "metadata": {},
   "source": [
    "- The rstrip() method removes any trailing characters (characters at the end a string), space is the default trailing character to remove."
   ]
  },
  {
   "cell_type": "markdown",
   "id": "f69c5537-ee23-413b-9de2-d94589033e00",
   "metadata": {},
   "source": [
    "### Syntax"
   ]
  },
  {
   "cell_type": "code",
   "execution_count": null,
   "id": "c07f1e2e-5b79-4846-b9fa-cbc780761ecc",
   "metadata": {},
   "outputs": [],
   "source": [
    "string.rstrip(characters)"
   ]
  },
  {
   "cell_type": "code",
   "execution_count": 267,
   "id": "16535eab-8c2e-452a-a578-cbbb5d5d754e",
   "metadata": {},
   "outputs": [
    {
     "name": "stdout",
     "output_type": "stream",
     "text": [
      "of all fruits      banana is my favorite\n"
     ]
    }
   ],
   "source": [
    "txt = \"     banana     \"\n",
    "\n",
    "x = txt.rstrip()\n",
    "\n",
    "print(\"of all fruits\", x, \"is my favorite\")"
   ]
  },
  {
   "cell_type": "code",
   "execution_count": 269,
   "id": "426b85b4-4edb-47f1-bcf5-12eb134ce121",
   "metadata": {},
   "outputs": [
    {
     "name": "stdout",
     "output_type": "stream",
     "text": [
      "banana\n"
     ]
    }
   ],
   "source": [
    "txt = \"banana,,,,,ssqqqww.....\"\n",
    "\n",
    "x = txt.rstrip(\",.qsw\")\n",
    "\n",
    "print(x)"
   ]
  },
  {
   "cell_type": "markdown",
   "id": "89b4293a-813e-48a6-b4c4-6a67f182b117",
   "metadata": {},
   "source": [
    "## 29. `isdigit()`:"
   ]
  },
  {
   "cell_type": "markdown",
   "id": "4962eeff-37db-4f9e-a540-3f5d32ad31a4",
   "metadata": {},
   "source": [
    "- The isdigit() method returns True if all the characters are digits, otherwise False.\n",
    "\n",
    "- Exponents, like ², are also considered to be a digit."
   ]
  },
  {
   "cell_type": "markdown",
   "id": "3d7d5d66-47b6-42aa-a581-8f7cd78500ea",
   "metadata": {},
   "source": [
    "### Syntax"
   ]
  },
  {
   "cell_type": "code",
   "execution_count": null,
   "id": "68627678-5135-4dfa-9c78-6260f9b37ef5",
   "metadata": {},
   "outputs": [],
   "source": [
    "string.isdigit()"
   ]
  },
  {
   "cell_type": "code",
   "execution_count": 274,
   "id": "a9029cf9-3c02-449e-8f78-c057c9474945",
   "metadata": {},
   "outputs": [
    {
     "name": "stdout",
     "output_type": "stream",
     "text": [
      "True\n"
     ]
    }
   ],
   "source": [
    "txt = \"50800\"\n",
    "\n",
    "x = txt.isdigit()\n",
    "\n",
    "print(x)"
   ]
  },
  {
   "cell_type": "code",
   "execution_count": 276,
   "id": "c73c4de7-7113-4ab6-a647-3d4c6415ae82",
   "metadata": {},
   "outputs": [
    {
     "name": "stdout",
     "output_type": "stream",
     "text": [
      "True\n",
      "True\n"
     ]
    }
   ],
   "source": [
    "a = \"\\u0030\" \n",
    "b = \"\\u00B2\" \n",
    "\n",
    "print(a.isdigit())\n",
    "print(b.isdigit())"
   ]
  },
  {
   "cell_type": "markdown",
   "id": "3205180c-bfb3-4401-b447-455f1a9a6156",
   "metadata": {},
   "source": [
    "## 30. `isnumeric()`:"
   ]
  },
  {
   "cell_type": "markdown",
   "id": "034032ba-16f3-4c4c-9e76-7c06d1807671",
   "metadata": {},
   "source": [
    "- The isnumeric() method returns True if all the characters are numeric (0-9), otherwise False.\n",
    "\n",
    "- Exponents, like ² and ¾ are also considered to be numeric values.\n",
    "\n",
    "- \"-1\" and \"1.5\" are NOT considered numeric values, because all the characters in the string must be numeric, and the - and the . are not."
   ]
  },
  {
   "cell_type": "markdown",
   "id": "03a1c3fb-1944-47ae-aa9d-57dc88fcd71c",
   "metadata": {},
   "source": [
    "### Syntax"
   ]
  },
  {
   "cell_type": "code",
   "execution_count": null,
   "id": "0ab4b0c0-a83c-4545-bbb7-155905733b0a",
   "metadata": {},
   "outputs": [],
   "source": [
    "string.isnumeric()"
   ]
  },
  {
   "cell_type": "code",
   "execution_count": 281,
   "id": "f82eff12-a44f-430d-96ad-843470d8d5d1",
   "metadata": {},
   "outputs": [
    {
     "name": "stdout",
     "output_type": "stream",
     "text": [
      "True\n"
     ]
    }
   ],
   "source": [
    "txt = \"565543\"\n",
    "\n",
    "x = txt.isnumeric()\n",
    "\n",
    "print(x)"
   ]
  },
  {
   "cell_type": "code",
   "execution_count": 283,
   "id": "a3e292c9-ea39-492e-830a-38ba3a2a6b59",
   "metadata": {},
   "outputs": [
    {
     "name": "stdout",
     "output_type": "stream",
     "text": [
      "True\n",
      "True\n",
      "False\n",
      "False\n",
      "False\n"
     ]
    }
   ],
   "source": [
    "a = \"\\u0030\" \n",
    "b = \"\\u00B2\" \n",
    "c = \"10km2\"\n",
    "d = \"-1\"\n",
    "e = \"1.5\"\n",
    "\n",
    "print(a.isnumeric())\n",
    "print(b.isnumeric())\n",
    "print(c.isnumeric())\n",
    "print(d.isnumeric())\n",
    "print(e.isnumeric())"
   ]
  },
  {
   "cell_type": "markdown",
   "id": "3a2b47da-14a5-4884-b2e5-eecd87cbb1af",
   "metadata": {},
   "source": [
    "### 31. `islower()`:"
   ]
  },
  {
   "cell_type": "markdown",
   "id": "850e2d0e-3d29-49ce-82dd-07887d8a4712",
   "metadata": {},
   "source": [
    "- The islower() method returns True if all the characters are in lower case, otherwise False.\n",
    "\n",
    "- Numbers, symbols and spaces are not checked, only alphabet characters."
   ]
  },
  {
   "cell_type": "markdown",
   "id": "29599680-bccf-4c81-8d3b-ee8067291dae",
   "metadata": {},
   "source": [
    "### Syntax"
   ]
  },
  {
   "cell_type": "code",
   "execution_count": null,
   "id": "779fac37-5441-4900-8870-38934615b17b",
   "metadata": {},
   "outputs": [],
   "source": [
    "string.islower()"
   ]
  },
  {
   "cell_type": "code",
   "execution_count": 290,
   "id": "14c5e5d7-5389-49a0-bdb1-4a63518e6a56",
   "metadata": {},
   "outputs": [
    {
     "name": "stdout",
     "output_type": "stream",
     "text": [
      "True\n"
     ]
    }
   ],
   "source": [
    "txt = \"hello world!\"\n",
    "\n",
    "x = txt.islower()\n",
    "\n",
    "print(x)"
   ]
  },
  {
   "cell_type": "code",
   "execution_count": 292,
   "id": "8ab1f7c0-598e-46cb-92db-e7402041f5a0",
   "metadata": {},
   "outputs": [
    {
     "name": "stdout",
     "output_type": "stream",
     "text": [
      "False\n",
      "True\n",
      "False\n"
     ]
    }
   ],
   "source": [
    "a = \"Hello world!\"\n",
    "b = \"hello 123\"\n",
    "c = \"mynameisPeter\"\n",
    "\n",
    "print(a.islower())\n",
    "print(b.islower())\n",
    "print(c.islower())"
   ]
  }
 ],
 "metadata": {
  "kernelspec": {
   "display_name": "Python 3 (ipykernel)",
   "language": "python",
   "name": "python3"
  },
  "language_info": {
   "codemirror_mode": {
    "name": "ipython",
    "version": 3
   },
   "file_extension": ".py",
   "mimetype": "text/x-python",
   "name": "python",
   "nbconvert_exporter": "python",
   "pygments_lexer": "ipython3",
   "version": "3.12.4"
  }
 },
 "nbformat": 4,
 "nbformat_minor": 5
}
