{
 "cells": [
  {
   "cell_type": "markdown",
   "id": "13ebed58-9e2d-4fc2-ab3f-e1beefad41b6",
   "metadata": {},
   "source": [
    "## Python Variables "
   ]
  },
  {
   "cell_type": "markdown",
   "id": "bea260aa-e77d-44bb-a9a3-12379acc1e82",
   "metadata": {},
   "source": [
    "- In Python, a variable is a name given to a memory location. It's essentially a container that holds data. This data can be of various types, such as numbers, text, or more complex structures.\n",
    "  \n",
    "\r\n"
   ]
  },
  {
   "cell_type": "markdown",
   "id": "572008d6-db6b-4a1d-834b-85ae257078b3",
   "metadata": {},
   "source": [
    "### Key Points"
   ]
  },
  {
   "cell_type": "markdown",
   "id": "49da2ecd-955a-4ab0-8f77-abcd4b843bd3",
   "metadata": {},
   "source": [
    "- Dynamic typing : This means the same variable can hold different data types at different times during program execution.\n",
    "- Assignment :  Variables are assigned values using the equal sign (=)."
   ]
  },
  {
   "cell_type": "markdown",
   "id": "41c95b6d-60fc-4df7-a84a-55a4c9b0dddc",
   "metadata": {},
   "source": [
    "#### Rules For Variables "
   ]
  },
  {
   "cell_type": "markdown",
   "id": "c8017643-4938-4900-afd2-c68e02785f4f",
   "metadata": {},
   "source": [
    "- Must start with a letter or underscore: my_variable, _secret are valid, but 123variable is not.\n",
    "- Can contain letters, numbers, and underscores : age25, user_name are valid.\n",
    "- Case-sensitive : age and Age are different variables.\n",
    "- Cannot be a reserved keyword : Avoid using Python keywords like if, else, for, etc."
   ]
  },
  {
   "cell_type": "markdown",
   "id": "08b43f81-b4f4-4e35-a3e6-ec45e77fe7cc",
   "metadata": {},
   "source": [
    "#### 20 Valid - Variables"
   ]
  },
  {
   "cell_type": "code",
   "execution_count": 110,
   "id": "bc030d02-ea60-499b-a803-3529b6f92ed9",
   "metadata": {},
   "outputs": [
    {
     "name": "stdout",
     "output_type": "stream",
     "text": [
      "Hemanth\n",
      "Mango\n",
      "Anji\n",
      "67.83\n",
      "John\n",
      "Sakku\n",
      "Deva\n",
      "Vamsi sir\n",
      "['LULU', 'PVR', 'NEXUS']\n",
      "{1, 2, 3}\n",
      "('Deva', 'Drlg', 'Sakku')\n",
      "108\n",
      "True\n",
      "Sakhlain\n",
      "(83, 61)\n",
      "['apple', 'mango', 'graps']\n",
      "[1, 5, 7, 9]\n",
      "{'deva', 'city', 'age', '20'}\n",
      "False\n",
      "{'SQL', 'ML', 'python'}\n"
     ]
    }
   ],
   "source": [
    "# Valid Variables\n",
    "myvar = \"Hemanth\"\n",
    "my_var = \"Mango\"\n",
    "_my_var = \"Anji\"\n",
    "weight = 67.83\n",
    "MY_VAR = \"John\"\n",
    "myvar2 = \"Sakku\"\n",
    "Mycar_123 =\"Deva\"\n",
    "Teks_Acd_143 = \"Vamsi sir\"\n",
    "List_malls = [\"LULU\", \"PVR\", \"NEXUS\"]\n",
    "Set_123 = {1,2,3}\n",
    "_tUpLe = (\"Deva\", \"Drlg\",\"Sakku\")\n",
    "a = 108\n",
    "is_student = True\n",
    "name = \"Sakhlain\"\n",
    "coordinates =(83,61)\n",
    "fruits = [\"apple\", \"mango\",\"graps\"]\n",
    "numbers_list = [1,5,7,9]\n",
    "personal_info = {\"deva\", \"age\", \"20\", \"city\"}\n",
    "anji_bool = False \n",
    "hemaSaKKu_143 = {\"python\", \"ML\", \"SQL\"}\n",
    "\n",
    "print(myvar)\n",
    "print(my_var)\n",
    "print(_my_var)\n",
    "print(weight)\n",
    "print(MY_VAR)\n",
    "print(myvar2)\n",
    "print(Mycar_123 )\n",
    "print(Teks_Acd_143)\n",
    "print(List_malls )\n",
    "print(Set_123 )\n",
    "print(_tUpLe)\n",
    "print(a)\n",
    "print(is_student )\n",
    "print(name)\n",
    "print(coordinates)\n",
    "print(fruits)\n",
    "print(numbers_list)\n",
    "print(personal_info )\n",
    "print(anji_bool)\n",
    "print(hemaSaKKu_143) "
   ]
  },
  {
   "cell_type": "markdown",
   "id": "392e4e31-13d7-4ec0-8def-6343d78c1081",
   "metadata": {},
   "source": [
    "### 20 In-Valid Variables"
   ]
  },
  {
   "cell_type": "code",
   "execution_count": 104,
   "id": "2667352d-6ec7-45f6-bbdc-bea1bebc35f0",
   "metadata": {},
   "outputs": [
    {
     "ename": "SyntaxError",
     "evalue": "invalid decimal literal (4264207213.py, line 3)",
     "output_type": "error",
     "traceback": [
      "\u001b[1;36m  Cell \u001b[1;32mIn[104], line 3\u001b[1;36m\u001b[0m\n\u001b[1;33m    1my_var = \"Mango\"\u001b[0m\n\u001b[1;37m    ^\u001b[0m\n\u001b[1;31mSyntaxError\u001b[0m\u001b[1;31m:\u001b[0m invalid decimal literal\n"
     ]
    }
   ],
   "source": [
    "#In-Valid Variables\n",
    "-myvar = \"Hemanth\"\n",
    "1my_var = \"Mango\"\n",
    "@_my_var = \"Anji\"\n",
    "weight 2 = 67.83\n",
    "MY-VAR = \"John\"\n",
    "myvar+2 = \"Sakku\"\n",
    "Mycar*123 =\"Deva\"\n",
    "$Teks_Acd_143 = \"Vamsi sir\"\n",
    "-List_malls = [\"LULU\", \"PVR\", \"NEXUS\"]\n",
    "&Set_123 = {1,2,3}\n",
    "-_tUpLe = (\"Deva\", \"Drlg\",\"Sakku\")\n",
    "()a = 108\n",
    "^is_student = True\n",
    "`name = \"Sakhlain\"\n",
    "{}coordinates =(83,61)\n",
    "0FRU-1ITS = [\"apple\", \"mango\",\"graps\"]\n",
    "numbers1 - _list = [1,5,7,9]\n",
    "pers*onal_info = {\"deva\", \"age\", \"20\", \"city\"}\n",
    "&anji_bool = False \n",
    "+hemaSaKKu_143 = {\"python\", \"ML\", \"SQL\"}\n",
    "\n",
    "print(-myvar)\n",
    "print(1my_var)\n",
    "print(@_my_var)\n",
    "print(weight 2 )\n",
    "print(MY-VAR)\n",
    "print(myvar+2 )\n",
    "print(Mycar*123)\n",
    "print($Teks_Acd_143)\n",
    "print(-List_malls)\n",
    "print(&Set_123)\n",
    "print(-_tUpLe )\n",
    "print(()a)\n",
    "print(^is_student )\n",
    "print(`name )\n",
    "print({}coordinates)\n",
    "print(0FRU-1ITS)\n",
    "print(numbers1 - _list)\n",
    "print(pers*onal_info)\n",
    "print(&anji_bool)\n",
    "print(+hemaSaKKu_143)\n",
    "\n",
    "\n"
   ]
  },
  {
   "cell_type": "markdown",
   "id": "b70f3055-f584-4374-bc53-66aa25d3bba1",
   "metadata": {},
   "source": [
    "## type() - Function"
   ]
  },
  {
   "cell_type": "markdown",
   "id": "1fd00217-4603-48f0-b437-51c63d81af8b",
   "metadata": {},
   "source": [
    "- type() function was used to know that what type of data was stored in a variable. "
   ]
  },
  {
   "cell_type": "code",
   "execution_count": 118,
   "id": "acce66ba-3f21-4e79-9099-36cac54f3d72",
   "metadata": {},
   "outputs": [
    {
     "name": "stdout",
     "output_type": "stream",
     "text": [
      "<class 'int'>\n",
      "<class 'float'>\n",
      "<class 'str'>\n"
     ]
    }
   ],
   "source": [
    "#Example\n",
    "a = 10\n",
    "b = 10.5\n",
    "c = \"teks\"\n",
    "print(type(a)) \n",
    "print(type(b))\n",
    "print(type(c))"
   ]
  },
  {
   "cell_type": "markdown",
   "id": "6e09449a-81e0-4593-b595-912e602499b6",
   "metadata": {},
   "source": [
    "### Multiple - Variables\n"
   ]
  },
  {
   "cell_type": "markdown",
   "id": "efa1925a-2dc0-4e4b-ba44-9e8a73b94f61",
   "metadata": {},
   "source": [
    "- In Python, we can declare multiple variables in a single statement by separating the variables with commas."
   ]
  },
  {
   "cell_type": "code",
   "execution_count": 128,
   "id": "3dfa7318-b149-40a2-9a1a-038d34abe1f4",
   "metadata": {},
   "outputs": [
    {
     "name": "stdout",
     "output_type": "stream",
     "text": [
      "Anji\n",
      "Heman\n",
      "Sakku\n",
      "TEKS\n",
      "TEKS\n",
      "TEKS\n"
     ]
    }
   ],
   "source": [
    "#Example 1\n",
    "x,y,z = \"Anji\",\"Heman\",\"Sakku\"\n",
    "print(x)\n",
    "print(y)\n",
    "print(z)\n",
    "\n",
    "#Example 2\n",
    "## We can assign the same value to multiple variables in one line also.\n",
    "x = y = z = \"TEKS\"\n",
    "print(x)\n",
    "print(y)\n",
    "print(z)\n"
   ]
  },
  {
   "cell_type": "code",
   "execution_count": null,
   "id": "a1ea6f77-97e4-429b-abcf-52c1ab2c12ff",
   "metadata": {},
   "outputs": [],
   "source": []
  }
 ],
 "metadata": {
  "kernelspec": {
   "display_name": "Python 3 (ipykernel)",
   "language": "python",
   "name": "python3"
  },
  "language_info": {
   "codemirror_mode": {
    "name": "ipython",
    "version": 3
   },
   "file_extension": ".py",
   "mimetype": "text/x-python",
   "name": "python",
   "nbconvert_exporter": "python",
   "pygments_lexer": "ipython3",
   "version": "3.12.4"
  }
 },
 "nbformat": 4,
 "nbformat_minor": 5
}
