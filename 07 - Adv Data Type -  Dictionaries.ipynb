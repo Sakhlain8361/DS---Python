{
 "cells": [
  {
   "cell_type": "markdown",
   "id": "a0ca5845-39c5-41af-b706-04b4d9837422",
   "metadata": {},
   "source": [
    "# Python Dictionaries"
   ]
  },
  {
   "cell_type": "markdown",
   "id": "375fb0c6-6584-4df0-a7d7-639c7fb0f5dc",
   "metadata": {},
   "source": [
    "- A Python dictionary is a mutable, unordered collection of key-value pairs.\n",
    "- It's a versatile data structure that allows you to store and retrieve data efficiently based on keys.\n",
    "- Think of it as a real-world dictionary where words (keys) are mapped to their definitions (values).\n",
    "- A dictionary is a data strucutre that allow us to store and retrive data in a `Key-value pair format`.\n",
    "- Dictionaries are also know as associative array's (or) hash map's in other programming languages.\n",
    "- They are defined using curly braces `{}` and consist of key value pairs separated by colons.\n",
    "- Combination of both key and value we call it has item's."
   ]
  },
  {
   "cell_type": "markdown",
   "id": "bb3308bb-5c20-415b-aa9e-c253d83af91a",
   "metadata": {},
   "source": [
    "### Key Characteristics:"
   ]
  },
  {
   "cell_type": "markdown",
   "id": "2a0f05af-5116-44d0-a25a-df32d155031f",
   "metadata": {},
   "source": [
    "1. `Unordered`: Items in a dictionary don't have a specific order.\n",
    "2. `Mutable`: You can change the contents of a dictionary after it's created.\n",
    "3. `Keys must be unique`: Each key can appear only once in a dictionary.\n",
    "4. `Keys can be of various immutable data types`: Strings, numbers, or tuples are commonly used as keys.\n",
    "5. `Values can be of any data type`: They can be numbers, strings, lists, other dictionaries, and more.\n"
   ]
  },
  {
   "cell_type": "markdown",
   "id": "161a0833-7932-4fea-8511-d907d260dd8d",
   "metadata": {},
   "source": [
    "### Creating a Dictionary"
   ]
  },
  {
   "cell_type": "markdown",
   "id": "bf9954e7-a5a0-49a0-b1b3-ff3fc335d0ea",
   "metadata": {},
   "source": [
    " - To create a dictionary we have a collection of `key-value pairs`.\n",
    " - It's defined by curly braces `{}` and each key-value pair is separated by a colon:"
   ]
  },
  {
   "cell_type": "markdown",
   "id": "9dac0dd2-494d-4724-85f7-823f2e4d58ae",
   "metadata": {},
   "source": [
    "### Syntax "
   ]
  },
  {
   "cell_type": "code",
   "execution_count": null,
   "id": "be5860fb-1895-4344-b445-5002afb97b62",
   "metadata": {},
   "outputs": [],
   "source": [
    "dict1 = {key:value, key:value, key:value}"
   ]
  },
  {
   "cell_type": "code",
   "execution_count": 11,
   "id": "6152fd15-646b-4084-a312-f7e1dda16890",
   "metadata": {},
   "outputs": [
    {
     "data": {
      "text/plain": [
       "{'Brand': 'Ford', 'Model': 'Mustang', 'Year': 1965}"
      ]
     },
     "execution_count": 11,
     "metadata": {},
     "output_type": "execute_result"
    }
   ],
   "source": [
    "car_model = {\n",
    "     \"Brand\" : \"Ford\",\n",
    "     \"Model\" : \"Mustang\",\n",
    "     \"Year\"  : 1965\n",
    "}\n",
    "car_model"
   ]
  },
  {
   "cell_type": "markdown",
   "id": "815b13b9-0dd4-4afe-831c-d780e10431d7",
   "metadata": {},
   "source": [
    "- `keys` : Must be unique and immutable.\n",
    "- `Values` : Can be of any data type, including lits, other dictionaries, or even functions."
   ]
  },
  {
   "cell_type": "markdown",
   "id": "f52381f7-667f-4cbc-92fb-939f6a757bec",
   "metadata": {},
   "source": [
    "## Accessing Items"
   ]
  },
  {
   "cell_type": "markdown",
   "id": "2a988e25-0b53-4325-bd0b-9616f2d44987",
   "metadata": {},
   "source": [
    "- We can access the values in a dictionary using the key."
   ]
  },
  {
   "cell_type": "code",
   "execution_count": 24,
   "id": "07545118-410b-47bc-a58a-d311f7615856",
   "metadata": {},
   "outputs": [
    {
     "data": {
      "text/plain": [
       "'Mustang'"
      ]
     },
     "execution_count": 24,
     "metadata": {},
     "output_type": "execute_result"
    }
   ],
   "source": [
    "car_model = {\n",
    "     \"Brand\" : \"Ford\",\n",
    "     \"Model\" : \"Mustang\",\n",
    "     \"Year\"  : 1965\n",
    "}\n",
    "model = car_model[\"Model\"] #Accessing elements\n",
    "model"
   ]
  },
  {
   "cell_type": "markdown",
   "id": "23f8c6c4-3271-4bb3-9dc7-2ad4e3eb6859",
   "metadata": {},
   "source": [
    "### Modifying and Adding Elements"
   ]
  },
  {
   "cell_type": "markdown",
   "id": "0b1228f5-d529-48e7-a56b-e9bced8450b3",
   "metadata": {},
   "source": [
    "- Dictonary are `Mutable`, so we can modify existing entries (or) add new one's."
   ]
  },
  {
   "cell_type": "code",
   "execution_count": 89,
   "id": "3b5c9fc7-21d7-433d-adbb-e40ec675a235",
   "metadata": {},
   "outputs": [
    {
     "name": "stdout",
     "output_type": "stream",
     "text": [
      "{'Brand': 'Ford', 'Model': 'Mustang', 'Year': 1965}\n",
      "{'Brand': 'Ford', 'Model': 'SUV', 'Year': 2024}\n",
      "{'Brand': 'Ford', 'Model': 'SUV', 'Year': 2024, 'Color': 'Black', 'Engine': '2998 cc', 'Fuel': 'Diesel', 'Price': '50 Lakh'}\n"
     ]
    }
   ],
   "source": [
    "# Existing program\n",
    "car_model = {\n",
    "     \"Brand\" : \"Ford\",\n",
    "     \"Model\" : \"Mustang\",\n",
    "     \"Year\"  : 1965\n",
    "}\n",
    "print(car_model)\n",
    "\n",
    "# Modifying an entry from existing program of a key - Model and Year\n",
    "car_model[\"Model\"] = \"SUV\"\n",
    "car_model[\"Year\"] = 2024\n",
    "print(car_model)\n",
    "\n",
    "# Adding an new entry for the existing program\n",
    "car_model[\"Color\"] = \"Black\"\n",
    "car_model[\"Engine\"] = '2998 cc' \n",
    "car_model[\"Fuel\"] = \"Diesel\"\n",
    "car_model[\"Price\"] = \"50 Lakh\"\n",
    "print(car_model)"
   ]
  },
  {
   "cell_type": "markdown",
   "id": "4e219ed4-fbd6-4b49-bdee-4b0134cc99a9",
   "metadata": {},
   "source": [
    "## Dictionary Methods"
   ]
  },
  {
   "cell_type": "markdown",
   "id": "565036c3-bc8d-48ba-86ae-694f50d6ae10",
   "metadata": {},
   "source": [
    "- Python has a set of built-in methods that we can use on dictionaries."
   ]
  },
  {
   "cell_type": "markdown",
   "id": "95faf95a-c429-401a-a602-c4fc127307f7",
   "metadata": {},
   "source": [
    "| Method | Description|\n",
    "|--------|------------|\n",
    "| get()  | Returns the value of the specified key |\n",
    "| keys()| Returns a list containing the dictionary's keys|\n",
    "| values()| Returns a list of all the values in the dictionary|\n",
    "| items()| Returns a list containing a tuple for each key value pair|\n",
    "| pop()| Removes the element with the specified key|\n",
    "| popitem()| Removes the last inserted key-value pair|\n",
    "| update()| Updates the dictionary with the specified key-value pairs|\n",
    "| clear()| Removes all the elements from the dicitionary|\n",
    "| copy()| Returns a copy of the dictionary|\n",
    "| fromkeys() | Returns a dictionary with the specified keys and value |\n",
    "| setdefault() | Returns the value of the specified key. If the key does not exist: insert the key, with the specified value|"
   ]
  },
  {
   "cell_type": "markdown",
   "id": "40f6555f-a667-4aae-8a00-da47b9e326cd",
   "metadata": {},
   "source": [
    "## 1. `get()`:"
   ]
  },
  {
   "cell_type": "markdown",
   "id": "fb64ab5d-3c82-4d66-8ec6-45e8ba1882b7",
   "metadata": {},
   "source": [
    "- Returns the value for a specified key it allow's us to provid a default value if the key is not found."
   ]
  },
  {
   "cell_type": "markdown",
   "id": "74dfdb95-1df0-480b-a0a5-2e729ad21a6a",
   "metadata": {},
   "source": [
    "### Syntax"
   ]
  },
  {
   "cell_type": "code",
   "execution_count": null,
   "id": "ae670f93-f2a5-4ffe-a11d-595b32834833",
   "metadata": {},
   "outputs": [],
   "source": [
    "dictionary.get(keyname, value)"
   ]
  },
  {
   "cell_type": "code",
   "execution_count": 97,
   "id": "992403ab-caee-4b55-96eb-b2bef5753a86",
   "metadata": {},
   "outputs": [
    {
     "name": "stdout",
     "output_type": "stream",
     "text": [
      "Ford\n",
      "Not Found\n"
     ]
    }
   ],
   "source": [
    "car_model = {\n",
    "     \"Brand\" : \"Ford\",\n",
    "     \"Model\" : \"Mustang\",\n",
    "     \"Year\"  : 1965\n",
    "}\n",
    "a = car_model.get(\"Brand\", \"Not Found\")\n",
    "b = car_model.get(\"Color\",\"Not Found\")\n",
    "print(a)\n",
    "print(b)"
   ]
  },
  {
   "cell_type": "markdown",
   "id": "e12742aa-1754-4bd9-b779-29c03c999f39",
   "metadata": {},
   "source": [
    "## 2.`keys()`:"
   ]
  },
  {
   "cell_type": "markdown",
   "id": "16bb067a-7d34-46c5-a50a-301cf4851a15",
   "metadata": {},
   "source": [
    "- Returns a view of all the keys in the dictionary"
   ]
  },
  {
   "cell_type": "markdown",
   "id": "5482a5bc-d1f3-4716-87fc-3d0acc93d405",
   "metadata": {},
   "source": [
    "### Syntax"
   ]
  },
  {
   "cell_type": "code",
   "execution_count": null,
   "id": "9865e7c9-94fd-4182-aa72-366d23e0194e",
   "metadata": {},
   "outputs": [],
   "source": [
    "dictionary.keys()"
   ]
  },
  {
   "cell_type": "code",
   "execution_count": 154,
   "id": "faec7ae4-6999-4a86-a2a3-4e7aebfe012f",
   "metadata": {},
   "outputs": [
    {
     "name": "stdout",
     "output_type": "stream",
     "text": [
      "dict_keys(['Brand', 'Model', 'Year'])\n"
     ]
    }
   ],
   "source": [
    "car_model = {\n",
    "     \"Brand\" : \"Ford\",\n",
    "     \"Model\" : \"Mustang\",\n",
    "     \"Year\"  : 1965\n",
    "}\n",
    "key = car_model.keys()\n",
    "print(key)"
   ]
  },
  {
   "cell_type": "markdown",
   "id": "ddca29da-263f-401d-b32f-b2de7cfb9739",
   "metadata": {},
   "source": [
    "## 3.`values()`:"
   ]
  },
  {
   "cell_type": "markdown",
   "id": "a4b61e21-6535-4bcc-afb9-54a582244c49",
   "metadata": {},
   "source": [
    "- Returns a view of all the values in the dictionary."
   ]
  },
  {
   "cell_type": "markdown",
   "id": "cf05dbc0-c0af-4ce9-9b62-4227600ce5f2",
   "metadata": {},
   "source": [
    "### Syntax\n"
   ]
  },
  {
   "cell_type": "code",
   "execution_count": null,
   "id": "b17c2421-ad96-4653-a486-1a9f86ec7143",
   "metadata": {},
   "outputs": [],
   "source": [
    "dictionary.values()"
   ]
  },
  {
   "cell_type": "code",
   "execution_count": 120,
   "id": "644d6e2a-7352-4e22-b967-8f426d6dbc52",
   "metadata": {},
   "outputs": [
    {
     "data": {
      "text/plain": [
       "dict_values(['Ford', 'SUV', 2024, 'Black', '2998 cc', 'Diesel', '50 Lakh'])"
      ]
     },
     "execution_count": 120,
     "metadata": {},
     "output_type": "execute_result"
    }
   ],
   "source": [
    "car_model = {\n",
    "     'Brand': 'Ford', \n",
    "     'Model': 'SUV',\n",
    "    ' Year': 2024, \n",
    "    'Color': 'Black', \n",
    "    'Engine': '2998 cc', \n",
    "    'Fuel': 'Diesel', \n",
    "    'Price': '50 Lakh'\n",
    "}\n",
    "car_model.values()"
   ]
  },
  {
   "cell_type": "markdown",
   "id": "ed17401f-de04-4f78-ad53-8435ae5bb327",
   "metadata": {},
   "source": [
    "## 4.`items()`:"
   ]
  },
  {
   "cell_type": "markdown",
   "id": "cea9cb58-f15b-4cc4-a7fb-524c39c61629",
   "metadata": {},
   "source": [
    "- Returns a view of all key,value pairs as tuples. "
   ]
  },
  {
   "cell_type": "markdown",
   "id": "e42699ae-d018-4f9a-82ee-c363c56f4e2a",
   "metadata": {},
   "source": [
    "### Syntax"
   ]
  },
  {
   "cell_type": "code",
   "execution_count": null,
   "id": "dd9b30c0-37a0-45ed-abcb-d0fe9d969819",
   "metadata": {},
   "outputs": [],
   "source": [
    "dictionary.items()"
   ]
  },
  {
   "cell_type": "code",
   "execution_count": 139,
   "id": "65216a6b-841e-473a-a741-ef679c29d2c3",
   "metadata": {},
   "outputs": [
    {
     "data": {
      "text/plain": [
       "dict_items([('Brand', 'Ford'), ('Model', 'SUV'), (' Year', 2024), ('Color', 'Black'), ('Engine', '2998 cc'), ('Fuel', 'Diesel'), ('Price', '50 Lakh')])"
      ]
     },
     "execution_count": 139,
     "metadata": {},
     "output_type": "execute_result"
    }
   ],
   "source": [
    "car_model = {\n",
    "     'Brand': 'Ford', \n",
    "     'Model': 'SUV',\n",
    "    ' Year': 2024, \n",
    "    'Color': 'Black', \n",
    "    'Engine': '2998 cc', \n",
    "    'Fuel': 'Diesel', \n",
    "    'Price': '50 Lakh'\n",
    "}\n",
    "car_model.items()"
   ]
  },
  {
   "cell_type": "markdown",
   "id": "1d021116-6b64-4c06-95fc-3b5d5119352f",
   "metadata": {},
   "source": [
    "## 5.`pop()`:"
   ]
  },
  {
   "cell_type": "markdown",
   "id": "0fad0cc4-d667-430c-b34d-88e48e9db405",
   "metadata": {},
   "source": [
    "- Remove and returns the value of a specified key."
   ]
  },
  {
   "cell_type": "markdown",
   "id": "4a6a41fc-c3a7-458e-82ae-1cbfda84374e",
   "metadata": {},
   "source": [
    "### Syntax"
   ]
  },
  {
   "cell_type": "code",
   "execution_count": null,
   "id": "aabb4b0e-f0ca-4171-ad2a-01cd1eca403c",
   "metadata": {},
   "outputs": [],
   "source": [
    "dictionary.pop(keyname, defaultvalue)"
   ]
  },
  {
   "cell_type": "code",
   "execution_count": 149,
   "id": "7ce50897-b543-4908-bdfb-02d8dd0178a2",
   "metadata": {},
   "outputs": [
    {
     "name": "stdout",
     "output_type": "stream",
     "text": [
      "{'Brand': 'Ford', 'Model': 'SUV', 'Year': 2024, 'Color': 'Black', 'Engine': '2998 cc', 'Fuel': 'Diesel'}\n"
     ]
    }
   ],
   "source": [
    "car_model = {\n",
    "     'Brand': 'Ford', \n",
    "     'Model': 'SUV',\n",
    "    'Year': 2024, \n",
    "    'Color': 'Black', \n",
    "    'Engine': '2998 cc', \n",
    "    'Fuel': 'Diesel', \n",
    "    'Price': '50 Lakh'\n",
    "}\n",
    "\n",
    "car_model.pop('Price')\n",
    "print(car_model)"
   ]
  },
  {
   "cell_type": "markdown",
   "id": "4ba099c6-45a7-4b3d-91f7-5c9992604c1b",
   "metadata": {},
   "source": [
    "## 6.`popitem()`:"
   ]
  },
  {
   "cell_type": "markdown",
   "id": "88c6c836-9b68-4343-b60b-e10b177ed564",
   "metadata": {},
   "source": [
    "- Removes and returns the last instread key-value pair as a tuple."
   ]
  },
  {
   "cell_type": "markdown",
   "id": "8558d698-8abe-4f86-831f-79b202374d20",
   "metadata": {},
   "source": [
    "### Syntax"
   ]
  },
  {
   "cell_type": "code",
   "execution_count": null,
   "id": "576a8722-142b-48dd-8b6d-db5c714ce201",
   "metadata": {},
   "outputs": [],
   "source": [
    "dictionary.popitem()"
   ]
  },
  {
   "cell_type": "code",
   "execution_count": 168,
   "id": "d30276ae-79bb-4f08-8995-3e43a6874bf8",
   "metadata": {},
   "outputs": [
    {
     "name": "stdout",
     "output_type": "stream",
     "text": [
      "{'Brand': 'Ford', 'Model': 'Mustang'}\n",
      "('Year', 1965)\n"
     ]
    }
   ],
   "source": [
    "car_model = {\n",
    "     \"Brand\" : \"Ford\",\n",
    "     \"Model\" : \"Mustang\",\n",
    "     \"Year\"  : 1965\n",
    "}\n",
    "pop_item = car_model.popitem()\n",
    "print(car_model)\n",
    "print(pop_item)"
   ]
  },
  {
   "cell_type": "markdown",
   "id": "1e8afe1e-a22e-4628-bdcf-dd65f847468e",
   "metadata": {},
   "source": [
    "## 7.`update()`:"
   ]
  },
  {
   "cell_type": "markdown",
   "id": "0ad5efa8-dbcd-4635-a8b1-8f5b42203d61",
   "metadata": {},
   "source": [
    "- Update the dictionary with elements from another dictionary or from an iterable key_value pair."
   ]
  },
  {
   "cell_type": "markdown",
   "id": "7867ec8b-f4e3-4b7c-860e-a65cbc82d065",
   "metadata": {},
   "source": [
    "### Syntax"
   ]
  },
  {
   "cell_type": "code",
   "execution_count": null,
   "id": "bbc6d269-70ce-4c4b-863b-cf7fd8ddabcc",
   "metadata": {},
   "outputs": [],
   "source": [
    "dictionary.update(iterable)"
   ]
  },
  {
   "cell_type": "code",
   "execution_count": 186,
   "id": "ccdf89a5-a0cb-457b-91dc-97334c12c176",
   "metadata": {},
   "outputs": [
    {
     "name": "stdout",
     "output_type": "stream",
     "text": [
      "{'Brand': 'Ford', 'Model': 'Mustang', 'Year': 1965, 'Color': 'Red'}\n"
     ]
    }
   ],
   "source": [
    "car_model = {\n",
    "     \"Brand\" : \"Ford\",\n",
    "     \"Model\" : \"Mustang\",\n",
    "     \"Year\"  : 1965\n",
    "}\n",
    "car_model.update({\"Color\" : \"Red\"})\n",
    "print(car_model)"
   ]
  },
  {
   "cell_type": "markdown",
   "id": "15f3d884-4290-43cc-8b75-4762f1a48382",
   "metadata": {},
   "source": [
    "## 8.`clear()`:"
   ]
  },
  {
   "cell_type": "markdown",
   "id": "bc7432be-e3bb-4aed-a6cb-d18797cb99e5",
   "metadata": {},
   "source": [
    "- Remove all the elements from the dictionary"
   ]
  },
  {
   "cell_type": "markdown",
   "id": "b961543b-466d-4719-8837-b589a2bf3512",
   "metadata": {},
   "source": [
    "### Syntax"
   ]
  },
  {
   "cell_type": "code",
   "execution_count": null,
   "id": "748c3b90-440c-4dbd-b810-d36a86cc086e",
   "metadata": {},
   "outputs": [],
   "source": [
    "dictionary.clear()"
   ]
  },
  {
   "cell_type": "code",
   "execution_count": 200,
   "id": "afcc6d9b-fb51-4542-adac-01fb2a9ac5bd",
   "metadata": {},
   "outputs": [
    {
     "name": "stdout",
     "output_type": "stream",
     "text": [
      "{}\n"
     ]
    }
   ],
   "source": [
    "car_model = {\n",
    "     \"Brand\" : \"Ford\",\n",
    "     \"Model\" : \"Mustang\",\n",
    "     \"Year\"  : 1965\n",
    "}\n",
    "car_model.clear()\n",
    "print(car_model)"
   ]
  },
  {
   "cell_type": "markdown",
   "id": "bf8184e1-cf1d-45d4-8ee8-2ab56b01a3f5",
   "metadata": {},
   "source": [
    "## 9.`copy()`:"
   ]
  },
  {
   "cell_type": "markdown",
   "id": "81f0ac8a-c66b-4a37-b69f-7c7054152e1e",
   "metadata": {},
   "source": [
    "- Returns a copy of a string."
   ]
  },
  {
   "cell_type": "markdown",
   "id": "a779a2db-5649-4273-8766-4d4d560a646a",
   "metadata": {},
   "source": [
    "### Syntax"
   ]
  },
  {
   "cell_type": "code",
   "execution_count": null,
   "id": "06e4132b-2571-4cd1-9d93-bf3afe717bd2",
   "metadata": {},
   "outputs": [],
   "source": [
    "dictionary.copy()"
   ]
  },
  {
   "cell_type": "code",
   "execution_count": 216,
   "id": "26b2c610-d7f9-4998-acca-e95f4275bc51",
   "metadata": {},
   "outputs": [
    {
     "name": "stdout",
     "output_type": "stream",
     "text": [
      "{'Brand': 'Ford', 'Model': 'Mustang', 'Year': 1965}\n",
      "{'Brand': 'Ford', 'Model': 'Mustang', 'Year': 1965}\n"
     ]
    }
   ],
   "source": [
    "car_model = {\n",
    "     \"Brand\" : \"Ford\",\n",
    "     \"Model\" : \"Mustang\",\n",
    "     \"Year\"  : 1965\n",
    "}\n",
    "print(car_model)\n",
    "car2 = car_model.copy()\n",
    "print(car2)"
   ]
  },
  {
   "cell_type": "markdown",
   "id": "d608c5ca-f08c-4d64-8989-932423cc4b8f",
   "metadata": {},
   "source": [
    "## 10.`fromkeys()`:"
   ]
  },
  {
   "cell_type": "markdown",
   "id": "43787bb8-2de9-4a28-8cee-969f63929280",
   "metadata": {},
   "source": [
    "- Returns a dictionary with the specified key and values"
   ]
  },
  {
   "cell_type": "markdown",
   "id": "c2c61571-d1a0-4f55-a63a-e17393f0fec2",
   "metadata": {},
   "source": [
    "### Syntax"
   ]
  },
  {
   "cell_type": "code",
   "execution_count": null,
   "id": "0e862708-3b43-46f8-b816-1eafbe663328",
   "metadata": {},
   "outputs": [],
   "source": [
    "dict.fromkeys(keys, value)"
   ]
  },
  {
   "cell_type": "code",
   "execution_count": 234,
   "id": "2164ff17-3f77-453e-8384-a44e59e8ce78",
   "metadata": {},
   "outputs": [
    {
     "data": {
      "text/plain": [
       "{'Brand': None, 'Model': None, 'Year': None}"
      ]
     },
     "execution_count": 234,
     "metadata": {},
     "output_type": "execute_result"
    }
   ],
   "source": [
    "car_model = {\n",
    "     \"Brand\" : \"Ford\",\n",
    "     \"Model\" : \"Mustang\",\n",
    "     \"Year\"  : 1965\n",
    "}\n",
    "dict.fromkeys(car_model)"
   ]
  },
  {
   "cell_type": "markdown",
   "id": "723d9957-1c18-4ffa-b2de-c882fa32c762",
   "metadata": {},
   "source": [
    "## 11.`setdefault()`:"
   ]
  },
  {
   "cell_type": "markdown",
   "id": "a8ae73ff-0abe-4aa7-a5a2-486ab3f6aa8e",
   "metadata": {},
   "source": [
    "- Returns the value of the specified key. If the key does not exits, insert the key, with the speciied value."
   ]
  },
  {
   "cell_type": "markdown",
   "id": "80a0d2e9-5214-4f44-ad42-cd3922568ac1",
   "metadata": {},
   "source": [
    "###  Syntax"
   ]
  },
  {
   "cell_type": "code",
   "execution_count": null,
   "id": "f7b5c324-7e92-443a-9926-bb87eaa48a52",
   "metadata": {},
   "outputs": [],
   "source": [
    "dictionary.setdefault(keyname, value)"
   ]
  },
  {
   "cell_type": "code",
   "execution_count": 245,
   "id": "ae338805-b1a0-4775-9594-4c7107f4e9fa",
   "metadata": {},
   "outputs": [
    {
     "name": "stdout",
     "output_type": "stream",
     "text": [
      "{'Brand': 'Ford', 'Model': 'Mustang', 'Year': 1965}\n",
      "Mustang\n"
     ]
    }
   ],
   "source": [
    "car_model = {\n",
    "     \"Brand\" : \"Ford\",\n",
    "     \"Model\" : \"Mustang\",\n",
    "     \"Year\"  : 1965\n",
    "}\n",
    "default = car_model.setdefault(\"Model\",\"Mustang\")\n",
    "print(car_model)\n",
    "print(default)"
   ]
  }
 ],
 "metadata": {
  "kernelspec": {
   "display_name": "Python 3 (ipykernel)",
   "language": "python",
   "name": "python3"
  },
  "language_info": {
   "codemirror_mode": {
    "name": "ipython",
    "version": 3
   },
   "file_extension": ".py",
   "mimetype": "text/x-python",
   "name": "python",
   "nbconvert_exporter": "python",
   "pygments_lexer": "ipython3",
   "version": "3.12.4"
  }
 },
 "nbformat": 4,
 "nbformat_minor": 5
}
