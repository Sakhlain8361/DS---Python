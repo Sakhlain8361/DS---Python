{
 "cells": [
  {
   "cell_type": "code",
   "execution_count": 234,
   "id": "29076340-50b9-4a7f-9257-ffdad69ea609",
   "metadata": {},
   "outputs": [
    {
     "name": "stdin",
     "output_type": "stream",
     "text": [
      "Enter your Order:- Crap Curry\n"
     ]
    },
    {
     "name": "stdout",
     "output_type": "stream",
     "text": [
      "Dish is Avaliable\n"
     ]
    }
   ],
   "source": [
    "## Program - 1 \n",
    "# Restruent program \n",
    "order = input(\"Enter your Order:-\")\n",
    "veg_items = {\"Vegetable Briyani\", \"Paneer Butter Masala\", \"Crud Rice\", \"Mixed Veg Curyy\", \"Mushroom Masal\"}\n",
    "non_veg_items = {\"Chicken Briyani\", \"Muttuon Briyani\", \"Crap Curry\", \"Fish Briyani\", \"Frans Briyani\"}\n",
    "if order in veg_items:\n",
    "    print(\"Dish is Avaliable\")\n",
    "elif order in non_veg_items:\n",
    "    print(\"Dish is Avaliable\")\n",
    "else:\n",
    "    print(\"Sorry sir\")"
   ]
  },
  {
   "cell_type": "code",
   "execution_count": 1,
   "id": "6e920cfb-bce5-4a8a-9955-e07fe06c505c",
   "metadata": {},
   "outputs": [
    {
     "name": "stdin",
     "output_type": "stream",
     "text": [
      "Enter The Number:- 10\n"
     ]
    },
    {
     "name": "stdout",
     "output_type": "stream",
     "text": [
      "Deckock has 10 slides\n"
     ]
    }
   ],
   "source": [
    "## Program - 2\n",
    "# We r writing a program to know the shapes of an object \n",
    "child_Ramesh = int(input(\"Enter The Number:-\"))\n",
    "if child_Ramesh == 1:\n",
    "    print(\"Line has 1 slide\")\n",
    "elif child_Ramesh == 2:\n",
    "    print(\"Circle has 2 slides\")  \n",
    "elif child_Ramesh == 3:\n",
    "    print(\"Triangle has 3 slides\")\n",
    "elif child_Ramesh == 4:\n",
    "    print(\"Square has 4 slides\")\n",
    "elif child_Ramesh == 5:\n",
    "    print(\"Pentagone has 5 slides\")\n",
    "elif child_Ramesh == 6:\n",
    "    print(\"Hexagaone has 6 slides\")\n",
    "elif child_Ramesh == 7:\n",
    "    print(\"Septagone has 7 slides\")\n",
    "elif child_Ramesh == 8:\n",
    "    print(\"Octagone has 8 slides\")\n",
    "elif child_Ramesh == 9:\n",
    "    print(\"Nano has 9 slides\")\n",
    "elif child_Ramesh == 10:\n",
    "    print(\"Deckock has 10 slides\")\n",
    "else:\n",
    "    print(\"Un_valid number check once's\")\n",
    "    "
   ]
  },
  {
   "cell_type": "code",
   "execution_count": 39,
   "id": "35ecbb1c-4c6e-4960-8c73-7a629723570a",
   "metadata": {},
   "outputs": [
    {
     "name": "stdin",
     "output_type": "stream",
     "text": [
      "Enter The Month:- Feb\n"
     ]
    },
    {
     "name": "stdout",
     "output_type": "stream",
     "text": [
      "28 days\n"
     ]
    }
   ],
   "source": [
    "## Pragram - 3\n",
    "# We have to create a program - in a year we have 12 months now the prblm is about we have to know in which month how many days are there.\n",
    "# Now we have to slove this prblm by using Conditional Statement.\n",
    "month = input(\"Enter The Month:-\")\n",
    "days_31_ = [\"January\", \"March\", \"May\", \"July\", \"August\", \"October\", \"December\"]\n",
    "days_30_ = [\"April\", \"June\", \"September\", \"November\"]\n",
    "_28_days = [\"Feb\"]\n",
    "if month in days_31_:\n",
    "    print(\"31 days\")\n",
    "elif month in days_30_:\n",
    "    print(\"30 days\")\n",
    "elif month in _28_days:\n",
    "    print(\"28 days\")\n",
    "else:\n",
    "    print(\"INVALID\")\n",
    "    "
   ]
  },
  {
   "cell_type": "code",
   "execution_count": 80,
   "id": "f7c97734-76b5-4399-866b-598e2e81ace4",
   "metadata": {},
   "outputs": [
    {
     "name": "stdin",
     "output_type": "stream",
     "text": [
      "Enter The year 2000\n"
     ]
    },
    {
     "name": "stdout",
     "output_type": "stream",
     "text": [
      "This is a LIPEAR\n"
     ]
    }
   ],
   "source": [
    "## Program - 4\n",
    "# Now we have to write a program to find the year is lipear (or) not.\n",
    "lip = input(\"Enter The year\")\n",
    "lip_every_4_years = [\"2000\", \"2004\", \"2008\", \"2012\", \"2016\", \"2020\"] \n",
    "no_lip_year = [\"2001\", \"2002\", \"2003\", \"2005\", \"2006\"]\n",
    "if lip in lip_every_4_years:\n",
    "    print(\"This is a LIPEAR\")\n",
    "elif lip in no_lip_year:\n",
    "    print(\"This year is not a LIPEAR\")\n",
    "else:\n",
    "    print(\"not find\")"
   ]
  },
  {
   "cell_type": "code",
   "execution_count": 7,
   "id": "32f9e443-7d5e-4582-8d9e-a068f758bf7f",
   "metadata": {},
   "outputs": [
    {
     "name": "stdin",
     "output_type": "stream",
     "text": [
      "Enter The Year:- 2020\n"
     ]
    },
    {
     "name": "stdout",
     "output_type": "stream",
     "text": [
      "2020 This is LIPEAR\n"
     ]
    }
   ],
   "source": [
    "year = int(input(\"Enter The Year:-\"))\n",
    "if year % 4 == 0:\n",
    "    print(f\"{year} This is LIPEAR\")\n",
    "else:\n",
    "    print(f\"{year} This is not a LIPEAR\")"
   ]
  },
  {
   "cell_type": "code",
   "execution_count": 20,
   "id": "387f7c73-6be5-4db9-ab38-dfc07db58151",
   "metadata": {},
   "outputs": [
    {
     "name": "stdin",
     "output_type": "stream",
     "text": [
      "enter the first number 10\n",
      "enter the second number 20\n",
      "enter the third number 15\n"
     ]
    },
    {
     "name": "stdout",
     "output_type": "stream",
     "text": [
      "The maximun value 20\n"
     ]
    }
   ],
   "source": [
    "# Program - 5\n",
    "# Finding the maximum value\n",
    "a = int(input(\"enter the first number\"))\n",
    "b = int(input(\"enter the second number\"))\n",
    "c = int(input(\"enter the third number\"))\n",
    "if max(a,b,c):\n",
    "    print(\"The maximun value\",max(a,b,c))"
   ]
  },
  {
   "cell_type": "code",
   "execution_count": 158,
   "id": "50511bc7-5351-4b99-bb6e-390cdb529bb4",
   "metadata": {},
   "outputs": [
    {
     "name": "stdin",
     "output_type": "stream",
     "text": [
      "Enter the Color Red\n"
     ]
    },
    {
     "name": "stdout",
     "output_type": "stream",
     "text": [
      "Stop\n"
     ]
    }
   ],
   "source": [
    "# Program - 6\n",
    "# Traffic Signal\n",
    "a = input(\"Enter the Color\")\n",
    "if a == \"Red\":\n",
    "    print(\"Stop\")\n",
    "elif a == \"Yellow\":\n",
    "    print(\"Ready to go\")\n",
    "elif a == \"Green\":\n",
    "    print(\"Go\")\n",
    "else:\n",
    "    print(\"INVALID\")"
   ]
  },
  {
   "cell_type": "code",
   "execution_count": 170,
   "id": "41f505fd-fd8b-488d-9bbb-280283001a8b",
   "metadata": {},
   "outputs": [
    {
     "name": "stdin",
     "output_type": "stream",
     "text": [
      "Enter the Character's z\n"
     ]
    },
    {
     "name": "stdout",
     "output_type": "stream",
     "text": [
      "it is a consonent\n"
     ]
    }
   ],
   "source": [
    "# Program - 7\n",
    "# Vowels and Consonents\n",
    "a = input(\"Enter the Character's\")\n",
    "vowels = {\"a\", \"e\", \"i\", \"o\", \"u\"}\n",
    "if a in vowels:\n",
    "    print(\"This is a vowel\")\n",
    "else:\n",
    "    print(\"it is a consonent\")"
   ]
  },
  {
   "cell_type": "code",
   "execution_count": 206,
   "id": "373df749-fed0-4d47-a804-df2cac47cf4a",
   "metadata": {},
   "outputs": [
    {
     "name": "stdin",
     "output_type": "stream",
     "text": [
      "Enter the Name Sakku\n"
     ]
    },
    {
     "name": "stdout",
     "output_type": "stream",
     "text": [
      " it can be reverse ukkaS\n"
     ]
    }
   ],
   "source": [
    "# Program - 8\n",
    "# Reverse a String \n",
    "a = input(\"Enter the Name\")\n",
    "if a:\n",
    "    print(\" it can be reverse\",a[::-1])"
   ]
  },
  {
   "cell_type": "code",
   "execution_count": 232,
   "id": "25edbd48-3650-4050-88e2-37ef6ea6fa8b",
   "metadata": {},
   "outputs": [
    {
     "name": "stdin",
     "output_type": "stream",
     "text": [
      "Enter the List 1,2,3,3\n"
     ]
    },
    {
     "name": "stdout",
     "output_type": "stream",
     "text": [
      "{'2', ',', '1', '3'}\n"
     ]
    }
   ],
   "source": [
    "# Program - 9\n",
    "# Removing the duplicates in a list.\n",
    "lis = input(\"Enter the List\")\n",
    "dup = set((lis))\n",
    "if dup:\n",
    "    print(dup)"
   ]
  },
  {
   "cell_type": "code",
   "execution_count": 269,
   "id": "20c52846-6092-4ee4-bc8c-691ce3989c7c",
   "metadata": {},
   "outputs": [
    {
     "name": "stdin",
     "output_type": "stream",
     "text": [
      "Enter First Number: 1\n",
      "Enter Second Number: 2\n"
     ]
    },
    {
     "name": "stdout",
     "output_type": "stream",
     "text": [
      "After Swapping of A 2\n",
      "After Swapping of B 1\n"
     ]
    }
   ],
   "source": [
    "# Program - 10\n",
    "# Swaping of two numbers without using Temporary variable.\n",
    "X = int(input(\"Enter First Number:\"))\n",
    "Y = int(input(\"Enter Second Number:\"))\n",
    "\n",
    "X = X + Y\n",
    "Y = X - Y\n",
    "X = X - Y\n",
    "print(\"After Swapping of A\",X)\n",
    "print(\"After Swapping of B\",Y)"
   ]
  },
  {
   "cell_type": "code",
   "execution_count": 5,
   "id": "3a411396-fbfc-462c-9849-93d102edb071",
   "metadata": {},
   "outputs": [
    {
     "name": "stdin",
     "output_type": "stream",
     "text": [
      "number a 10\n",
      "number b 20\n"
     ]
    },
    {
     "name": "stdout",
     "output_type": "stream",
     "text": [
      "after swaping: a: 20 b: 10\n"
     ]
    }
   ],
   "source": [
    "x = int(input(\"number a\"))\n",
    "y = int(input(\"number b\"))\n",
    "x,y = y,x\n",
    "print(\"after swaping:\", \"a:\",x,\"b:\",y)"
   ]
  },
  {
   "cell_type": "code",
   "execution_count": 14,
   "id": "5e46d741-3740-421f-bf8f-be3f85559502",
   "metadata": {},
   "outputs": [
    {
     "name": "stdin",
     "output_type": "stream",
     "text": [
      "enter 3 digits: 568\n"
     ]
    },
    {
     "name": "stdout",
     "output_type": "stream",
     "text": [
      "8\n"
     ]
    }
   ],
   "source": [
    "n = input(\"enter 3 digits:\")\n",
    "x = list(n)\n",
    "m = max(x)\n",
    "print(m)  #Taken from batch member"
   ]
  },
  {
   "cell_type": "code",
   "execution_count": 12,
   "id": "5bb68cee-ddd1-42c2-b54c-d5bc67f49cc2",
   "metadata": {},
   "outputs": [
    {
     "name": "stdin",
     "output_type": "stream",
     "text": [
      "Enter first number:  10\n",
      "Enter second number:  20\n",
      "Enter third number:  45\n"
     ]
    },
    {
     "name": "stdout",
     "output_type": "stream",
     "text": [
      "The largest number is 45\n"
     ]
    }
   ],
   "source": [
    "a=int(input(\"Enter first number: \"))\n",
    "b= int(input(\"Enter second number: \"))\n",
    "c= int(input(\"Enter third number: \"))\n",
    "\n",
    "if (a >= b) and (a >= c):\n",
    "   largest = a\n",
    "elif (b >= a) and (b >= c):\n",
    "   largest = b\n",
    "else:\n",
    "   largest = c                   #Taken from batch member\n",
    "\n",
    "print(\"The largest number is\", largest)"
   ]
  },
  {
   "cell_type": "markdown",
   "id": "4ae8601e-3c8f-4b47-b91e-aa06bf2b755b",
   "metadata": {},
   "source": [
    "# Program's on Loop"
   ]
  },
  {
   "cell_type": "code",
   "execution_count": 9,
   "id": "3e0b82a9-1084-4113-a855-ce3d721dd90e",
   "metadata": {},
   "outputs": [
    {
     "name": "stdin",
     "output_type": "stream",
     "text": [
      "Enter The Number:  5\n"
     ]
    },
    {
     "name": "stdout",
     "output_type": "stream",
     "text": [
      "Pentagon has 5 slides\n"
     ]
    }
   ],
   "source": [
    "# Program on loop statements - 1\n",
    "# We are writing a program to know the shapes of an object\n",
    "shapes = {\n",
    "    1: \"Line has 1 slide\",\n",
    "    2: \"Circle has 2 slides\",\n",
    "    3: \"Triangle has 3 slides\",\n",
    "    4: \"Square has 4 slides\",\n",
    "    5: \"Pentagon has 5 slides\",\n",
    "    6: \"Hexagon has 6 slides\",\n",
    "    7: \"Heptagon has 7 slides\",\n",
    "    8: \"Octagon has 8 slides\",\n",
    "    9: \"Nonagon has 9 slides\",\n",
    "    10: \"Decagon has 10 slides\"\n",
    "}\n",
    "\n",
    "child_Ramesh = int(input(\"Enter The Number: \"))\n",
    "\n",
    "for name in shapes:\n",
    "    if child_Ramesh == name:\n",
    "        print(shapes[name])\n",
    "        break\n",
    "        \n",
    "else:\n",
    "    print(\"Invalid number, check once.\")"
   ]
  },
  {
   "cell_type": "code",
   "execution_count": 15,
   "id": "52144923-cdc5-499b-9c66-9ebcf6c14493",
   "metadata": {},
   "outputs": [
    {
     "name": "stdin",
     "output_type": "stream",
     "text": [
      "Enter The Month:  April\n"
     ]
    },
    {
     "name": "stdout",
     "output_type": "stream",
     "text": [
      "30 days\n"
     ]
    }
   ],
   "source": [
    "# Program - 2\n",
    "# We have to create a program - in a year we have 12 months now the prblm is about we have to know in which month how many days are there.\n",
    "# Now we have to slove this prblm by using Loop Statement.\n",
    "\n",
    "days_31 = [\"January\", \"March\", \"May\", \"July\", \"August\", \"October\", \"December\"]\n",
    "days_30 = [\"April\", \"June\", \"September\", \"November\"]\n",
    "_28_days = [\"February\"]\n",
    "\n",
    "month = input(\"Enter The Month: \")\n",
    "\n",
    "while True:\n",
    "    if month in days_31:\n",
    "        print(\"31 days\")\n",
    "        break\n",
    "    elif month in days_30:\n",
    "        print(\"30 days\")\n",
    "        break\n",
    "    elif month in _28_days:\n",
    "        print(\"28 days\")\n",
    "        break\n",
    "    else:\n",
    "        print(\"INVALID\")"
   ]
  },
  {
   "cell_type": "code",
   "execution_count": 9,
   "id": "8f8c0adf-434b-434b-9f45-cc0973de84cc",
   "metadata": {},
   "outputs": [
    {
     "name": "stdin",
     "output_type": "stream",
     "text": [
      "Enter a year:  2020\n"
     ]
    },
    {
     "name": "stdout",
     "output_type": "stream",
     "text": [
      "2020 is a leap year.\n"
     ]
    }
   ],
   "source": [
    "# Program - 3 \n",
    "# Program to check whether a year is a leap year using a for loop\n",
    "\n",
    "year = int(input(\"Enter a year: \"))\n",
    "\n",
    "for i in range(1):\n",
    "    if (year % 4 == 0):\n",
    "        print(f\"{year} is a leap year.\")\n",
    "    else:\n",
    "        print(f\"{year} is not a leap year.\")"
   ]
  },
  {
   "cell_type": "code",
   "execution_count": 52,
   "id": "360686e0-ca55-4cbe-8210-fab442748a9a",
   "metadata": {},
   "outputs": [
    {
     "name": "stdin",
     "output_type": "stream",
     "text": [
      "Enter The Color RED\n"
     ]
    },
    {
     "name": "stdout",
     "output_type": "stream",
     "text": [
      "STOP\n"
     ]
    }
   ],
   "source": [
    "# Program - 4\n",
    "# Traffic Signal\n",
    "\n",
    "colors = {\n",
    "    1: \"RED\",\n",
    "    2: \"YELLOW\",\n",
    "    3: \"GREEN\"\n",
    "}\n",
    "\n",
    "a = input(\"Enter The Color\")\n",
    "\n",
    "for i in colors:\n",
    "    if a == \"RED\":\n",
    "        print(\"STOP\")\n",
    "        break\n",
    "    elif a == \"YELLOW\":\n",
    "        print(\"READY\")\n",
    "        break\n",
    "    elif a == \"GREEN\":\n",
    "        print(\"GO\")\n",
    "        break\n",
    "    else:\n",
    "        print(\"Enter the correct color\")\n",
    "        break\n",
    "    "
   ]
  },
  {
   "cell_type": "code",
   "execution_count": 62,
   "id": "346dfd27-c2b9-4f6e-b67d-437356a59c30",
   "metadata": {},
   "outputs": [
    {
     "name": "stdin",
     "output_type": "stream",
     "text": [
      "Enter the start of the range:. 5\n",
      "Enter the end of the range:. 11\n"
     ]
    },
    {
     "name": "stdout",
     "output_type": "stream",
     "text": [
      "5 is odd\n",
      "6 is even\n",
      "7 is odd\n",
      "8 is even\n",
      "9 is odd\n",
      "10 is even\n"
     ]
    }
   ],
   "source": [
    "# Program - 5\n",
    "# Even or Odd\n",
    "start = int(input(\"Enter the start of the range:.\"))\n",
    "end = int(input(\"Enter the end of the range:.\"))\n",
    "\n",
    "for num in range(start,end ):\n",
    "    if num % 2 == 0:\n",
    "        print(f\"{num} is even\")\n",
    "    else:\n",
    "        print(f\"{num} is odd\")"
   ]
  },
  {
   "cell_type": "code",
   "execution_count": 50,
   "id": "7780b783-fd0b-47c1-bac2-7f93a20a9179",
   "metadata": {},
   "outputs": [
    {
     "name": "stdin",
     "output_type": "stream",
     "text": [
      "enter the last number 589\n"
     ]
    },
    {
     "name": "stdout",
     "output_type": "stream",
     "text": [
      "cse\n"
     ]
    }
   ],
   "source": [
    "user = int(input(\"enter the last number\"))\n",
    "if user >= 101 and  user <= 199:\n",
    "    print(\"Civil\")\n",
    "elif user >= 201 and user <= 300:\n",
    "    print(\"eee\")\n",
    "elif user >= 301 and user <= 399:\n",
    "    print(\"mech\")\n",
    "elif user >= 401 and user <= 499:\n",
    "    print(\"ece\")\n",
    "elif user >= 501 and user <= 599:\n",
    "    print(\"cse\")\n",
    "else:\n",
    "    print(\"Enter the correct number\")\n",
    "    \n"
   ]
  },
  {
   "cell_type": "code",
   "execution_count": null,
   "id": "900f3543-729d-4834-a4c1-451bb8324d1a",
   "metadata": {},
   "outputs": [],
   "source": [
    "user = int(input(\"enter the last number\"))\n",
    "\n",
    "dep = {\n",
    "    range(101, 199) : \"civil\",\n",
    "    range(201, 299) : \"eee\",\n",
    "    range(301, 399) : \"mech\",\n",
    "    range(401, 499) : \"ece\",\n",
    "    range(501, 599) : \"cse\"\n",
    "    \n",
    "}\n",
    "for i in dep:\n",
    "    if user in i:\n",
    "        print(dep[i])\n",
    "        break"
   ]
  },
  {
   "cell_type": "code",
   "execution_count": null,
   "id": "1f1b0d54-fb89-457f-be91-f97c6804a1a8",
   "metadata": {},
   "outputs": [],
   "source": []
  },
  {
   "cell_type": "code",
   "execution_count": 1,
   "id": "664eaa94-785a-4496-82ed-90ffff80b951",
   "metadata": {},
   "outputs": [
    {
     "name": "stdin",
     "output_type": "stream",
     "text": [
      "Enter Your String SHAIK Sakhlain\n"
     ]
    },
    {
     "name": "stdout",
     "output_type": "stream",
     "text": [
      "Total vowels of the string is : 5\n",
      "Total cononants of the string is :  9\n"
     ]
    }
   ],
   "source": [
    "word = input(\"Enter Your String\")\n",
    "vowels = 0\n",
    "consonants = 0\n",
    "\n",
    "for i in word:\n",
    "    if (i == 'a' or i == 'e' or i == 'i' or i == 'o' or i == 'u' or i == 'A' or i == 'E' or i == 'I' or i == 'O' or i == 'U'):\n",
    "        \n",
    "        vowels = vowels + 1\n",
    "    else:\n",
    "        consonants = consonants + 1\n",
    "\n",
    "print(\"Total vowels of the string is :\",vowels)\n",
    "print(\"Total cononants of the string is : \", consonants)"
   ]
  },
  {
   "cell_type": "markdown",
   "id": "705b93e3-a5f7-4562-b348-a2b5f0046d9f",
   "metadata": {},
   "source": [
    "# Python Inerview Coding Questions"
   ]
  },
  {
   "cell_type": "code",
   "execution_count": 79,
   "id": "885dbff8-0ac7-4559-a78f-c34832e26158",
   "metadata": {},
   "outputs": [
    {
     "name": "stdin",
     "output_type": "stream",
     "text": [
      "Enter The Number:- 5\n"
     ]
    },
    {
     "name": "stdout",
     "output_type": "stream",
     "text": [
      "120\n"
     ]
    }
   ],
   "source": [
    "# Fctorial of a number - 1\n",
    "user = int(input(\"Enter The Number:-\"))\n",
    "import math\n",
    "factorial = math.factorial(user)\n",
    "print(factorial)"
   ]
  },
  {
   "cell_type": "code",
   "execution_count": 8,
   "id": "81eae0b8-f3ef-452e-9c17-2605df5d8004",
   "metadata": {},
   "outputs": [
    {
     "name": "stdin",
     "output_type": "stream",
     "text": [
      "Enter the string:- Shaik Sakhlain\n"
     ]
    },
    {
     "name": "stdout",
     "output_type": "stream",
     "text": [
      "nialhkaS kiahS\n"
     ]
    }
   ],
   "source": [
    "# Reverse of a string - 2\n",
    "user = input(\"Enter the string:-\")\n",
    "reverse = user[::-1]\n",
    "print(reverse)"
   ]
  },
  {
   "cell_type": "code",
   "execution_count": 10,
   "id": "60ba6cd3-561c-488b-adfc-b3ba4637e5ea",
   "metadata": {},
   "outputs": [
    {
     "name": "stdout",
     "output_type": "stream",
     "text": [
      "[40, 20, 30]\n"
     ]
    }
   ],
   "source": [
    "# Coomon elemnents between 2 lits - 3\n",
    "num1 = [10,20,30,40,50]\n",
    "num2 = [20,30,40,70,80]\n",
    "common = list(set(num1) & set(num2))\n",
    "print(common)"
   ]
  },
  {
   "cell_type": "code",
   "execution_count": 12,
   "id": "a514f921-1795-463a-b1e1-3ed6a3624666",
   "metadata": {},
   "outputs": [
    {
     "name": "stdout",
     "output_type": "stream",
     "text": [
      "Maximum Number:- 2100\n"
     ]
    }
   ],
   "source": [
    "# Mximum numbers in a list - 4\n",
    "numbers = [10,20,30,40,50,60,70,80,90,2100]\n",
    "max = numbers[0]\n",
    "for i in numbers:\n",
    "    if i > max:\n",
    "        max = i\n",
    "print(\"Maximum Number:-\",max)"
   ]
  },
  {
   "cell_type": "code",
   "execution_count": 14,
   "id": "2451b5d6-4de5-422d-9f8b-ccc2f5e1e504",
   "metadata": {},
   "outputs": [
    {
     "name": "stdout",
     "output_type": "stream",
     "text": [
      "Mnimum number:- 1\n"
     ]
    }
   ],
   "source": [
    "# Minimum number in a list - 5\n",
    "numbers = [55,22,1,3,4,555,7]\n",
    "min = numbers[0]\n",
    "for i in numbers:\n",
    "    if i < min:\n",
    "        min = i \n",
    "print(\"Mnimum number:-\",min)"
   ]
  },
  {
   "cell_type": "code",
   "execution_count": 16,
   "id": "eb625081-5755-4206-9c20-e1d1a93ffde1",
   "metadata": {},
   "outputs": [
    {
     "name": "stdin",
     "output_type": "stream",
     "text": [
      "Enter The Num1:- 5\n",
      "Enter The Num2:- 4\n",
      "Enter The Num3:- 3\n"
     ]
    },
    {
     "name": "stdout",
     "output_type": "stream",
     "text": [
      "3\n"
     ]
    }
   ],
   "source": [
    "# Smallest number among 3 numbers - 6\n",
    "num1 = int(input(\"Enter The Num1:-\"))\n",
    "num2 = int(input(\"Enter The Num2:-\"))\n",
    "num3 = int(input(\"Enter The Num3:-\"))\n",
    "if num1 < num2 & num1 < num3:\n",
    "    print(num1)\n",
    "elif num2 < num3:\n",
    "    print(num2)\n",
    "else:\n",
    "    print(num3)"
   ]
  },
  {
   "cell_type": "code",
   "execution_count": 20,
   "id": "546f1f54-183a-4f14-8664-882aeca33acc",
   "metadata": {},
   "outputs": [
    {
     "name": "stdin",
     "output_type": "stream",
     "text": [
      "Enter The Num1:- 5\n",
      "Enter The Num2:- 4\n",
      "Enter The Num3:- 2\n"
     ]
    },
    {
     "name": "stdout",
     "output_type": "stream",
     "text": [
      "25\n",
      "16\n",
      "4\n"
     ]
    }
   ],
   "source": [
    "# Calculating the square's of a given number - 7\n",
    "num1 = int(input(\"Enter The Num1:-\"))\n",
    "num2 = int(input(\"Enter The Num2:-\"))\n",
    "num3 = int(input(\"Enter The Num3:-\"))\n",
    "\n",
    "r1,r2,r3 = num1 ** 2, num2 ** 2 , num3 ** 2\n",
    "\n",
    "print(r1)\n",
    "print(r2)\n",
    "print(r3)\n",
    "\n"
   ]
  },
  {
   "cell_type": "code",
   "execution_count": 87,
   "id": "64cb743b-318b-496f-8c09-b158fedb3434",
   "metadata": {},
   "outputs": [
    {
     "name": "stdin",
     "output_type": "stream",
     "text": [
      "Enter The a:- 10\n",
      "Enter The b:- 5\n"
     ]
    },
    {
     "name": "stdout",
     "output_type": "stream",
     "text": [
      "After Swap:- a- 5 b- 10\n"
     ]
    }
   ],
   "source": [
    "# Swaping 2 numbers without using of third varibale - 8\n",
    "num1 = int(input(\"Enter The a:-\"))\n",
    "num2 = int(input(\"Enter The b:-\"))\n",
    "\n",
    "num1,num2 = num2,num1\n",
    "print(\"After Swap:-\",\"a-\",num1,\"b-\",num2)"
   ]
  },
  {
   "cell_type": "code",
   "execution_count": 36,
   "id": "839267e6-ae75-417e-a6a8-50d669bb80e7",
   "metadata": {},
   "outputs": [
    {
     "name": "stdin",
     "output_type": "stream",
     "text": [
      "Enter The List:- 10,20,30,40,100\n"
     ]
    },
    {
     "name": "stdout",
     "output_type": "stream",
     "text": [
      "Largest Element:- 4\n"
     ]
    }
   ],
   "source": [
    "# Finding largest elemnet in a list - 9\n",
    "num1 = input(\"Enter The List:-\")\n",
    "max = num1[0]\n",
    "for i in num1:\n",
    "    if i > max:\n",
    "        max = i \n",
    "print(\"Largest Element:-\",max)"
   ]
  },
  {
   "cell_type": "code",
   "execution_count": 91,
   "id": "fb5a9ade-2f19-47ed-9ee2-c70aae47d695",
   "metadata": {},
   "outputs": [
    {
     "name": "stdin",
     "output_type": "stream",
     "text": [
      "Enter The String:- AnnA\n"
     ]
    },
    {
     "name": "stdout",
     "output_type": "stream",
     "text": [
      "Yes\n"
     ]
    }
   ],
   "source": [
    "# Check the string is palindrome or not - 10\n",
    "def palindorme(user):\n",
    "    return user == user[::-1]\n",
    "\n",
    "user = input(\"Enter The String:-\")\n",
    "ans = palindorme(user)\n",
    "if ans:\n",
    "    print(\"Yes\")\n",
    "else:\n",
    "    print(\"No\")"
   ]
  },
  {
   "cell_type": "code",
   "execution_count": 81,
   "id": "ca5943f1-51cb-4167-bcd1-071b02502fdf",
   "metadata": {},
   "outputs": [
    {
     "name": "stdin",
     "output_type": "stream",
     "text": [
      "Enter Your String:- Hello Good Morning\n"
     ]
    },
    {
     "name": "stdout",
     "output_type": "stream",
     "text": [
      "Total Vowles of the string is:- 6\n"
     ]
    }
   ],
   "source": [
    "# Counting vowles in a word - 11\n",
    "word = input(\"Enter Your String:-\")\n",
    "vowels = 0\n",
    "\n",
    "for i in word:\n",
    "    if (i == 'a' or i == 'e' or i == 'i' or i == 'o' or i == 'u'):\n",
    "        vowels = vowels + 1\n",
    "\n",
    "print(\"Total Vowles of the string is:-\",vowels)"
   ]
  },
  {
   "cell_type": "code",
   "execution_count": null,
   "id": "247c9bd2-84bd-49ad-ae5e-49b0b336106d",
   "metadata": {},
   "outputs": [],
   "source": []
  }
 ],
 "metadata": {
  "kernelspec": {
   "display_name": "Python 3 (ipykernel)",
   "language": "python",
   "name": "python3"
  },
  "language_info": {
   "codemirror_mode": {
    "name": "ipython",
    "version": 3
   },
   "file_extension": ".py",
   "mimetype": "text/x-python",
   "name": "python",
   "nbconvert_exporter": "python",
   "pygments_lexer": "ipython3",
   "version": "3.12.4"
  }
 },
 "nbformat": 4,
 "nbformat_minor": 5
}
