{
 "cells": [
  {
   "cell_type": "code",
   "execution_count": 234,
   "id": "29076340-50b9-4a7f-9257-ffdad69ea609",
   "metadata": {},
   "outputs": [
    {
     "name": "stdin",
     "output_type": "stream",
     "text": [
      "Enter your Order:- Crap Curry\n"
     ]
    },
    {
     "name": "stdout",
     "output_type": "stream",
     "text": [
      "Dish is Avaliable\n"
     ]
    }
   ],
   "source": [
    "## Program - 1 \n",
    "# Restruent program \n",
    "order = input(\"Enter your Order:-\")\n",
    "veg_items = {\"Vegetable Briyani\", \"Paneer Butter Masala\", \"Crud Rice\", \"Mixed Veg Curyy\", \"Mushroom Masal\"}\n",
    "non_veg_items = {\"Chicken Briyani\", \"Muttuon Briyani\", \"Crap Curry\", \"Fish Briyani\", \"Frans Briyani\"}\n",
    "if order in veg_items:\n",
    "    print(\"Dish is Avaliable\")\n",
    "elif order in non_veg_items:\n",
    "    print(\"Dish is Avaliable\")\n",
    "else:\n",
    "    print(\"Sorry sir\")"
   ]
  },
  {
   "cell_type": "code",
   "execution_count": 1,
   "id": "6e920cfb-bce5-4a8a-9955-e07fe06c505c",
   "metadata": {},
   "outputs": [
    {
     "name": "stdin",
     "output_type": "stream",
     "text": [
      "Enter The Number:- 10\n"
     ]
    },
    {
     "name": "stdout",
     "output_type": "stream",
     "text": [
      "Deckock has 10 slides\n"
     ]
    }
   ],
   "source": [
    "## Program - 2\n",
    "# We r writing a program to know the shapes of an object \n",
    "child_Ramesh = int(input(\"Enter The Number:-\"))\n",
    "if child_Ramesh == 1:\n",
    "    print(\"Line has 1 slide\")\n",
    "elif child_Ramesh == 2:\n",
    "    print(\"Circle has 2 slides\")  \n",
    "elif child_Ramesh == 3:\n",
    "    print(\"Triangle has 3 slides\")\n",
    "elif child_Ramesh == 4:\n",
    "    print(\"Square has 4 slides\")\n",
    "elif child_Ramesh == 5:\n",
    "    print(\"Pentagone has 5 slides\")\n",
    "elif child_Ramesh == 6:\n",
    "    print(\"Hexagaone has 6 slides\")\n",
    "elif child_Ramesh == 7:\n",
    "    print(\"Septagone has 7 slides\")\n",
    "elif child_Ramesh == 8:\n",
    "    print(\"Octagone has 8 slides\")\n",
    "elif child_Ramesh == 9:\n",
    "    print(\"Nano has 9 slides\")\n",
    "elif child_Ramesh == 10:\n",
    "    print(\"Deckock has 10 slides\")\n",
    "else:\n",
    "    print(\"Un_valid number check once's\")\n",
    "    "
   ]
  },
  {
   "cell_type": "code",
   "execution_count": 39,
   "id": "35ecbb1c-4c6e-4960-8c73-7a629723570a",
   "metadata": {},
   "outputs": [
    {
     "name": "stdin",
     "output_type": "stream",
     "text": [
      "Enter The Month:- Feb\n"
     ]
    },
    {
     "name": "stdout",
     "output_type": "stream",
     "text": [
      "28 days\n"
     ]
    }
   ],
   "source": [
    "## Pragram - 3\n",
    "# We have to create a program - in a year we have 12 months now the prblm is about we have to know in which month how many days are there.\n",
    "# Now we have to slove this prblm by using Conditional Statement.\n",
    "month = input(\"Enter The Month:-\")\n",
    "days_31_ = [\"January\", \"March\", \"May\", \"July\", \"August\", \"October\", \"December\"]\n",
    "days_30_ = [\"April\", \"June\", \"September\", \"November\"]\n",
    "_28_days = [\"Feb\"]\n",
    "if month in days_31_:\n",
    "    print(\"31 days\")\n",
    "elif month in days_30_:\n",
    "    print(\"30 days\")\n",
    "elif month in _28_days:\n",
    "    print(\"28 days\")\n",
    "else:\n",
    "    print(\"INVALID\")\n",
    "    "
   ]
  },
  {
   "cell_type": "code",
   "execution_count": 80,
   "id": "f7c97734-76b5-4399-866b-598e2e81ace4",
   "metadata": {},
   "outputs": [
    {
     "name": "stdin",
     "output_type": "stream",
     "text": [
      "Enter The year 2000\n"
     ]
    },
    {
     "name": "stdout",
     "output_type": "stream",
     "text": [
      "This is a LIPEAR\n"
     ]
    }
   ],
   "source": [
    "## Program - 4\n",
    "# Now we have to write a program to find the year is lipear (or) not.\n",
    "lip = input(\"Enter The year\")\n",
    "lip_every_4_years = [\"2000\", \"2004\", \"2008\", \"2012\", \"2016\", \"2020\"] \n",
    "no_lip_year = [\"2001\", \"2002\", \"2003\", \"2005\", \"2006\"]\n",
    "if lip in lip_every_4_years:\n",
    "    print(\"This is a LIPEAR\")\n",
    "elif lip in no_lip_year:\n",
    "    print(\"This year is not a LIPEAR\")\n",
    "else:\n",
    "    print(\"not find\")"
   ]
  },
  {
   "cell_type": "code",
   "execution_count": 7,
   "id": "32f9e443-7d5e-4582-8d9e-a068f758bf7f",
   "metadata": {},
   "outputs": [
    {
     "name": "stdin",
     "output_type": "stream",
     "text": [
      "Enter The Year:- 2020\n"
     ]
    },
    {
     "name": "stdout",
     "output_type": "stream",
     "text": [
      "2020 This is LIPEAR\n"
     ]
    }
   ],
   "source": [
    "year = int(input(\"Enter The Year:-\"))\n",
    "if year % 4 == 0:\n",
    "    print(f\"{year} This is LIPEAR\")\n",
    "else:\n",
    "    print(f\"{year} This is not a LIPEAR\")"
   ]
  },
  {
   "cell_type": "code",
   "execution_count": 20,
   "id": "387f7c73-6be5-4db9-ab38-dfc07db58151",
   "metadata": {},
   "outputs": [
    {
     "name": "stdin",
     "output_type": "stream",
     "text": [
      "enter the first number 10\n",
      "enter the second number 20\n",
      "enter the third number 15\n"
     ]
    },
    {
     "name": "stdout",
     "output_type": "stream",
     "text": [
      "The maximun value 20\n"
     ]
    }
   ],
   "source": [
    "# Program - 5\n",
    "# Finding the maximum value\n",
    "a = int(input(\"enter the first number\"))\n",
    "b = int(input(\"enter the second number\"))\n",
    "c = int(input(\"enter the third number\"))\n",
    "if max(a,b,c):\n",
    "    print(\"The maximun value\",max(a,b,c))"
   ]
  },
  {
   "cell_type": "code",
   "execution_count": 158,
   "id": "50511bc7-5351-4b99-bb6e-390cdb529bb4",
   "metadata": {},
   "outputs": [
    {
     "name": "stdin",
     "output_type": "stream",
     "text": [
      "Enter the Color Red\n"
     ]
    },
    {
     "name": "stdout",
     "output_type": "stream",
     "text": [
      "Stop\n"
     ]
    }
   ],
   "source": [
    "# Program - 6\n",
    "# Traffic Signal\n",
    "a = input(\"Enter the Color\")\n",
    "if a == \"Red\":\n",
    "    print(\"Stop\")\n",
    "elif a == \"Yellow\":\n",
    "    print(\"Ready to go\")\n",
    "elif a == \"Green\":\n",
    "    print(\"Go\")\n",
    "else:\n",
    "    print(\"INVALID\")"
   ]
  },
  {
   "cell_type": "code",
   "execution_count": 170,
   "id": "41f505fd-fd8b-488d-9bbb-280283001a8b",
   "metadata": {},
   "outputs": [
    {
     "name": "stdin",
     "output_type": "stream",
     "text": [
      "Enter the Character's z\n"
     ]
    },
    {
     "name": "stdout",
     "output_type": "stream",
     "text": [
      "it is a consonent\n"
     ]
    }
   ],
   "source": [
    "# Program - 7\n",
    "# Vowels and Consonents\n",
    "a = input(\"Enter the Character's\")\n",
    "vowels = {\"a\", \"e\", \"i\", \"o\", \"u\"}\n",
    "if a in vowels:\n",
    "    print(\"This is a vowel\")\n",
    "else:\n",
    "    print(\"it is a consonent\")"
   ]
  },
  {
   "cell_type": "code",
   "execution_count": 206,
   "id": "373df749-fed0-4d47-a804-df2cac47cf4a",
   "metadata": {},
   "outputs": [
    {
     "name": "stdin",
     "output_type": "stream",
     "text": [
      "Enter the Name Sakku\n"
     ]
    },
    {
     "name": "stdout",
     "output_type": "stream",
     "text": [
      " it can be reverse ukkaS\n"
     ]
    }
   ],
   "source": [
    "# Program - 8\n",
    "# Reverse a String \n",
    "a = input(\"Enter the Name\")\n",
    "if a:\n",
    "    print(\" it can be reverse\",a[::-1])"
   ]
  },
  {
   "cell_type": "code",
   "execution_count": 232,
   "id": "25edbd48-3650-4050-88e2-37ef6ea6fa8b",
   "metadata": {},
   "outputs": [
    {
     "name": "stdin",
     "output_type": "stream",
     "text": [
      "Enter the List 1,2,3,3\n"
     ]
    },
    {
     "name": "stdout",
     "output_type": "stream",
     "text": [
      "{'2', ',', '1', '3'}\n"
     ]
    }
   ],
   "source": [
    "# Program - 9\n",
    "# Removing the duplicates in a list.\n",
    "lis = input(\"Enter the List\")\n",
    "dup = set((lis))\n",
    "if dup:\n",
    "    print(dup)"
   ]
  },
  {
   "cell_type": "code",
   "execution_count": 269,
   "id": "20c52846-6092-4ee4-bc8c-691ce3989c7c",
   "metadata": {},
   "outputs": [
    {
     "name": "stdin",
     "output_type": "stream",
     "text": [
      "Enter First Number: 1\n",
      "Enter Second Number: 2\n"
     ]
    },
    {
     "name": "stdout",
     "output_type": "stream",
     "text": [
      "After Swapping of A 2\n",
      "After Swapping of B 1\n"
     ]
    }
   ],
   "source": [
    "# Program - 10\n",
    "# Swaping of two numbers without using Temporary variable.\n",
    "X = int(input(\"Enter First Number:\"))\n",
    "Y = int(input(\"Enter Second Number:\"))\n",
    "\n",
    "X = X + Y\n",
    "Y = X - Y\n",
    "X = X - Y\n",
    "print(\"After Swapping of A\",X)\n",
    "print(\"After Swapping of B\",Y)"
   ]
  },
  {
   "cell_type": "code",
   "execution_count": 5,
   "id": "3a411396-fbfc-462c-9849-93d102edb071",
   "metadata": {},
   "outputs": [
    {
     "name": "stdin",
     "output_type": "stream",
     "text": [
      "number a 10\n",
      "number b 20\n"
     ]
    },
    {
     "name": "stdout",
     "output_type": "stream",
     "text": [
      "after swaping: a: 20 b: 10\n"
     ]
    }
   ],
   "source": [
    "x = int(input(\"number a\"))\n",
    "y = int(input(\"number b\"))\n",
    "x,y = y,x\n",
    "print(\"after swaping:\", \"a:\",x,\"b:\",y)"
   ]
  },
  {
   "cell_type": "code",
   "execution_count": 14,
   "id": "5e46d741-3740-421f-bf8f-be3f85559502",
   "metadata": {},
   "outputs": [
    {
     "name": "stdin",
     "output_type": "stream",
     "text": [
      "enter 3 digits: 568\n"
     ]
    },
    {
     "name": "stdout",
     "output_type": "stream",
     "text": [
      "8\n"
     ]
    }
   ],
   "source": [
    "n = input(\"enter 3 digits:\")\n",
    "x = list(n)\n",
    "m = max(x)\n",
    "print(m)  #Taken from batch member"
   ]
  },
  {
   "cell_type": "code",
   "execution_count": 12,
   "id": "5bb68cee-ddd1-42c2-b54c-d5bc67f49cc2",
   "metadata": {},
   "outputs": [
    {
     "name": "stdin",
     "output_type": "stream",
     "text": [
      "Enter first number:  10\n",
      "Enter second number:  20\n",
      "Enter third number:  45\n"
     ]
    },
    {
     "name": "stdout",
     "output_type": "stream",
     "text": [
      "The largest number is 45\n"
     ]
    }
   ],
   "source": [
    "a=int(input(\"Enter first number: \"))\n",
    "b= int(input(\"Enter second number: \"))\n",
    "c= int(input(\"Enter third number: \"))\n",
    "\n",
    "if (a >= b) and (a >= c):\n",
    "   largest = a\n",
    "elif (b >= a) and (b >= c):\n",
    "   largest = b\n",
    "else:\n",
    "   largest = c                   #Taken from batch member\n",
    "\n",
    "print(\"The largest number is\", largest)"
   ]
  },
  {
   "cell_type": "markdown",
   "id": "4ae8601e-3c8f-4b47-b91e-aa06bf2b755b",
   "metadata": {},
   "source": [
    "# Program's on Loop"
   ]
  },
  {
   "cell_type": "code",
   "execution_count": 9,
   "id": "3e0b82a9-1084-4113-a855-ce3d721dd90e",
   "metadata": {},
   "outputs": [
    {
     "name": "stdin",
     "output_type": "stream",
     "text": [
      "Enter The Number:  5\n"
     ]
    },
    {
     "name": "stdout",
     "output_type": "stream",
     "text": [
      "Pentagon has 5 slides\n"
     ]
    }
   ],
   "source": [
    "# Program on loop statements - 1\n",
    "# We are writing a program to know the shapes of an object\n",
    "shapes = {\n",
    "    1: \"Line has 1 slide\",\n",
    "    2: \"Circle has 2 slides\",\n",
    "    3: \"Triangle has 3 slides\",\n",
    "    4: \"Square has 4 slides\",\n",
    "    5: \"Pentagon has 5 slides\",\n",
    "    6: \"Hexagon has 6 slides\",\n",
    "    7: \"Heptagon has 7 slides\",\n",
    "    8: \"Octagon has 8 slides\",\n",
    "    9: \"Nonagon has 9 slides\",\n",
    "    10: \"Decagon has 10 slides\"\n",
    "}\n",
    "\n",
    "child_Ramesh = int(input(\"Enter The Number: \"))\n",
    "\n",
    "for name in shapes:\n",
    "    if child_Ramesh == name:\n",
    "        print(shapes[name])\n",
    "        break\n",
    "        \n",
    "else:\n",
    "    print(\"Invalid number, check once.\")"
   ]
  },
  {
   "cell_type": "code",
   "execution_count": 5,
   "id": "52144923-cdc5-499b-9c66-9ebcf6c14493",
   "metadata": {},
   "outputs": [
    {
     "name": "stdin",
     "output_type": "stream",
     "text": [
      "Enter The Month:  April\n"
     ]
    },
    {
     "name": "stdout",
     "output_type": "stream",
     "text": [
      "30 days\n"
     ]
    }
   ],
   "source": [
    "# Program - 2\n",
    "# We have to create a program - in a year we have 12 months now the prblm is about we have to know in which month how many days are there.\n",
    "# Now we have to slove this prblm by using Loop Statement.\n",
    "\n",
    "days_31 = [\"January\", \"March\", \"May\", \"July\", \"August\", \"October\", \"December\"]\n",
    "days_30 = [\"April\", \"June\", \"September\", \"November\"]\n",
    "_28_days = [\"February\"]\n",
    "\n",
    "month = input(\"Enter The Month: \")\n",
    "\n",
    "while True:\n",
    "    if month in days_31:\n",
    "        print(\"31 days\")\n",
    "        break\n",
    "    elif month in days_30:\n",
    "        print(\"30 days\")\n",
    "        break\n",
    "    elif month in _28_days:\n",
    "        print(\"28 days\")\n",
    "        break\n",
    "    else:\n",
    "        print(\"INVALID\")"
   ]
  },
  {
   "cell_type": "code",
   "execution_count": 28,
   "id": "8f8c0adf-434b-434b-9f45-cc0973de84cc",
   "metadata": {},
   "outputs": [
    {
     "name": "stdin",
     "output_type": "stream",
     "text": [
      "Enter a year:  2003\n"
     ]
    },
    {
     "name": "stdout",
     "output_type": "stream",
     "text": [
      "2003 is not a leap year.\n"
     ]
    }
   ],
   "source": [
    "# Program - 3 \n",
    "# Program to check whether a year is a leap year using a for loop\n",
    "\n",
    "year = int(input(\"Enter a year: \"))\n",
    "\n",
    "for i in range(1):\n",
    "    if (year % 4 == 0 and year % 100 != 0) or (year % 400 == 0):\n",
    "        print(f\"{year} is a leap year.\")\n",
    "    else:\n",
    "        print(f\"{year} is not a leap year.\")"
   ]
  },
  {
   "cell_type": "code",
   "execution_count": 52,
   "id": "360686e0-ca55-4cbe-8210-fab442748a9a",
   "metadata": {},
   "outputs": [
    {
     "name": "stdin",
     "output_type": "stream",
     "text": [
      "Enter The Color RED\n"
     ]
    },
    {
     "name": "stdout",
     "output_type": "stream",
     "text": [
      "STOP\n"
     ]
    }
   ],
   "source": [
    "# Program - 4\n",
    "# Traffic Signal\n",
    "\n",
    "colors = {\n",
    "    1: \"RED\",\n",
    "    2: \"YELLOW\",\n",
    "    3: \"GREEN\"\n",
    "}\n",
    "\n",
    "a = input(\"Enter The Color\")\n",
    "\n",
    "for i in colors:\n",
    "    if a == \"RED\":\n",
    "        print(\"STOP\")\n",
    "        break\n",
    "    elif a == \"YELLOW\":\n",
    "        print(\"READY\")\n",
    "        break\n",
    "    elif a == \"GREEN\":\n",
    "        print(\"GO\")\n",
    "        break\n",
    "    else:\n",
    "        print(\"Enter the correct color\")\n",
    "        break\n",
    "    "
   ]
  },
  {
   "cell_type": "code",
   "execution_count": 62,
   "id": "346dfd27-c2b9-4f6e-b67d-437356a59c30",
   "metadata": {},
   "outputs": [
    {
     "name": "stdin",
     "output_type": "stream",
     "text": [
      "Enter the start of the range:. 5\n",
      "Enter the end of the range:. 11\n"
     ]
    },
    {
     "name": "stdout",
     "output_type": "stream",
     "text": [
      "5 is odd\n",
      "6 is even\n",
      "7 is odd\n",
      "8 is even\n",
      "9 is odd\n",
      "10 is even\n"
     ]
    }
   ],
   "source": [
    "# Program - 5\n",
    "# Even or Odd\n",
    "start = int(input(\"Enter the start of the range:.\"))\n",
    "end = int(input(\"Enter the end of the range:.\"))\n",
    "\n",
    "for num in range(start,end ):\n",
    "    if num % 2 == 0:\n",
    "        print(f\"{num} is even\")\n",
    "    else:\n",
    "        print(f\"{num} is odd\")"
   ]
  },
  {
   "cell_type": "code",
   "execution_count": null,
   "id": "3660ec13-3c17-4ce9-bd3b-2f23276a8e12",
   "metadata": {},
   "outputs": [],
   "source": []
  }
 ],
 "metadata": {
  "kernelspec": {
   "display_name": "Python 3 (ipykernel)",
   "language": "python",
   "name": "python3"
  },
  "language_info": {
   "codemirror_mode": {
    "name": "ipython",
    "version": 3
   },
   "file_extension": ".py",
   "mimetype": "text/x-python",
   "name": "python",
   "nbconvert_exporter": "python",
   "pygments_lexer": "ipython3",
   "version": "3.12.4"
  }
 },
 "nbformat": 4,
 "nbformat_minor": 5
}
