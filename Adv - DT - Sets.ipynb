{
 "cells": [
  {
   "cell_type": "markdown",
   "id": "e2324b65-c3ba-4056-bf6e-97565e730cc8",
   "metadata": {},
   "source": [
    "# Python Sets"
   ]
  },
  {
   "cell_type": "markdown",
   "id": "d4f0073d-db07-448b-b7b7-78dfd6af63c2",
   "metadata": {},
   "source": [
    "- Sets are used to store multiple items in a single variable.\n",
    "- A set is an unordered collection of unique elements.\n",
    "- It's a data structure that doesn't allow duplicate values.\n",
    "- Sets are defined using curly braces `{}` or a `set()` constructor and seprated by comma`(,)`.\n",
    "- Sets provide a variety of methods for performing common set operations like Union, Intersection, Difference and more."
   ]
  },
  {
   "cell_type": "markdown",
   "id": "1eacf03a-a763-414c-902e-069490e24b31",
   "metadata": {},
   "source": [
    "### NOTE:"
   ]
  },
  {
   "cell_type": "markdown",
   "id": "cbb0d95d-8a16-4019-95fb-42ba5258cb88",
   "metadata": {},
   "source": [
    "1. Set items are unchangeable but we can remove items and add new items.\n",
    "2. Sets are unordered so we cannot be sure in which order the items will appear.\n",
    "3. Once a set is created we cannot change its item but we can remove items and add new items in it.\n",
    "4. In sets the value of True and 1 are consider the same value and are treated as duplicates.\n",
    "5. And same as the value of False and 0 are consider the same value and are treated as dupliactes."
   ]
  },
  {
   "cell_type": "markdown",
   "id": "14748de2-6ef0-4c44-9cf3-782bdf3ce85e",
   "metadata": {},
   "source": [
    "## Key Characteristics:"
   ]
  },
  {
   "cell_type": "markdown",
   "id": "3e11e6c7-ba0d-44db-bc78-1e8ac7838e46",
   "metadata": {},
   "source": [
    "1. `Unordered`: Elements in a set don't have a specific order.\n",
    "2. `Unique`: Each element can appear only once in a set.\n",
    "3. `Mutable`: Sets can be modified after creation by adding or removing elements.\n",
    "4. `Iterable`: You can iterate over the elements of a set using a `for` loop."
   ]
  },
  {
   "cell_type": "markdown",
   "id": "d9c3e566-025a-47cd-96cd-f65200c2f409",
   "metadata": {},
   "source": [
    "## Creating Sets "
   ]
  },
  {
   "cell_type": "code",
   "execution_count": 57,
   "id": "0b68b901-3f3d-4df6-82a1-8f38882bef77",
   "metadata": {},
   "outputs": [
    {
     "data": {
      "text/plain": [
       "{'BOI', 'IOB', 'RBL', 'SBI'}"
      ]
     },
     "execution_count": 57,
     "metadata": {},
     "output_type": "execute_result"
    }
   ],
   "source": [
    "banks = {\"SBI\", \"RBL\", \"IOB\", \"BOI\", \"RBL\"}\n",
    "banks"
   ]
  },
  {
   "cell_type": "code",
   "execution_count": 29,
   "id": "1e850bad-2a98-4b99-b336-20ffd9f53187",
   "metadata": {},
   "outputs": [
    {
     "data": {
      "text/plain": [
       "{'BOI', 'IOB', 'RBL', 'SBI'}"
      ]
     },
     "execution_count": 29,
     "metadata": {},
     "output_type": "execute_result"
    }
   ],
   "source": [
    "# Created a set by using () brackets called as - set() Constructor\n",
    "banks = set([\"SBI\", \"RBL\", \"IOB\", \"BOI\", \"RBL\"])\n",
    "banks"
   ]
  },
  {
   "cell_type": "code",
   "execution_count": 35,
   "id": "b65ba121-b71e-478f-942d-4a46dba7cc87",
   "metadata": {},
   "outputs": [
    {
     "data": {
      "text/plain": [
       "{'BOI', 'IOB', 'RBL', 'SBI', True}"
      ]
     },
     "execution_count": 35,
     "metadata": {},
     "output_type": "execute_result"
    }
   ],
   "source": [
    "# In this program set value of True and 1 are considerd as same so it gives output of either\n",
    "# True (or) 1\n",
    "banks = {\"SBI\", \"RBL\", \"IOB\", \"BOI\", \"RBL\", True , 1}\n",
    "banks"
   ]
  },
  {
   "cell_type": "code",
   "execution_count": 37,
   "id": "32647cd7-46d0-403c-a26a-707f19a5e424",
   "metadata": {},
   "outputs": [
    {
     "data": {
      "text/plain": [
       "{'BOI', False, 'IOB', 'RBL', 'SBI'}"
      ]
     },
     "execution_count": 37,
     "metadata": {},
     "output_type": "execute_result"
    }
   ],
   "source": [
    "# In this program set value of False and 0 are consider as same so it gives output of either\n",
    "# False (or) 0\n",
    "banks = {\"SBI\", \"RBL\", \"IOB\", \"BOI\", \"RBL\", False , 0}\n",
    "banks"
   ]
  },
  {
   "cell_type": "code",
   "execution_count": 75,
   "id": "44f1296d-223c-42c0-a5ea-42f69bb0e9e2",
   "metadata": {},
   "outputs": [
    {
     "data": {
      "text/plain": [
       "4"
      ]
     },
     "execution_count": 75,
     "metadata": {},
     "output_type": "execute_result"
    }
   ],
   "source": [
    "# Example program of using len() function\n",
    "banks = {\"SBI\", \"RBL\", \"IOB\", \"BOI\", \"RBL\"}\n",
    "len(banks)"
   ]
  },
  {
   "cell_type": "code",
   "execution_count": 49,
   "id": "17ec239c-f306-4e4f-befe-b7d74cfc9dad",
   "metadata": {},
   "outputs": [
    {
     "name": "stdout",
     "output_type": "stream",
     "text": [
      "<class 'set'>\n"
     ]
    }
   ],
   "source": [
    "# Example program of using type() function\n",
    "banks = {\"SBI\", \"RBL\", \"IOB\", \"BOI\", \"RBL\", True , 1}\n",
    "print(type(banks))"
   ]
  },
  {
   "cell_type": "markdown",
   "id": "e7c45b89-abb4-4af9-9d65-8f2fca58b590",
   "metadata": {},
   "source": [
    "## Set Operations:"
   ]
  },
  {
   "cell_type": "markdown",
   "id": "59535bf6-471f-414b-bbdc-f1df865a847b",
   "metadata": {},
   "source": [
    "- Python Set provides serveral operations for working with sets."
   ]
  },
  {
   "cell_type": "markdown",
   "id": "f5d9a1c7-3006-430f-a18f-5ed6eeecc396",
   "metadata": {},
   "source": [
    "### 1.`Union` Operation:"
   ]
  },
  {
   "cell_type": "markdown",
   "id": "8a79863b-e9f9-4f72-97e8-cdfbcc9f5571",
   "metadata": {},
   "source": [
    "- The Union operation will combine elements of sets by removing duplicates."
   ]
  },
  {
   "cell_type": "markdown",
   "id": "e3d81dc0-aae7-408a-864c-faa5f1c69a91",
   "metadata": {},
   "source": [
    "### Syntax"
   ]
  },
  {
   "cell_type": "code",
   "execution_count": null,
   "id": "9cd9ac97-1942-4cf8-8f4d-53e35322c192",
   "metadata": {},
   "outputs": [],
   "source": [
    "set1.union(set2) or set1 | set2"
   ]
  },
  {
   "cell_type": "code",
   "execution_count": 92,
   "id": "0f39b1f8-8993-47c9-a5e1-508d7aaa7d16",
   "metadata": {},
   "outputs": [
    {
     "name": "stdout",
     "output_type": "stream",
     "text": [
      "{'apple', 'mango', 'watermelon', 'kiwi', 'banana', 'orange'}\n",
      "{'apple', 'mango', 'watermelon', 'kiwi', 'banana', 'orange'}\n"
     ]
    }
   ],
   "source": [
    "fruits = {\"apple\", \"mango\", \"banana\", \"kiwi\"}\n",
    "fruits2 = {\"mango\", \"watermelon\", \"orange\"}\n",
    "\n",
    "a = fruits.union(fruits2)\n",
    "           #OR\n",
    "b = fruits | fruits2\n",
    "\n",
    "print(a)\n",
    "print(b)"
   ]
  },
  {
   "cell_type": "markdown",
   "id": "f7ea6a49-1733-42cd-bd0d-77de3dd8b362",
   "metadata": {},
   "source": [
    "### 2. `Intersection` Operation:"
   ]
  },
  {
   "cell_type": "markdown",
   "id": "b13f9f6e-0649-4101-bf30-71f5d800c21f",
   "metadata": {},
   "source": [
    "- The intersection operation will create a new set containing elements that are common to both sets."
   ]
  },
  {
   "cell_type": "markdown",
   "id": "6eee7eff-8c1e-4674-8335-0cff764fcbd5",
   "metadata": {},
   "source": [
    "### Syntax"
   ]
  },
  {
   "cell_type": "code",
   "execution_count": null,
   "id": "552b71ec-26d0-4f64-a188-c4dd1d8802bd",
   "metadata": {},
   "outputs": [],
   "source": [
    "set1.intersection(set2) or set1 & set2"
   ]
  },
  {
   "cell_type": "code",
   "execution_count": 258,
   "id": "f3454ef8-3efd-4f81-9ba6-8fc2d756b07c",
   "metadata": {},
   "outputs": [
    {
     "name": "stdout",
     "output_type": "stream",
     "text": [
      "{'mango'}\n",
      "{'mango'}\n"
     ]
    }
   ],
   "source": [
    "fruits = {\"apple\", \"mango\", \"banana\", \"kiwi\"}\n",
    "fruits2 = {\"mango\", \"watermelon\", \"orange\"}\n",
    "\n",
    "a = fruits.intersection(fruits2)\n",
    "           #OR\n",
    "b = fruits & fruits2\n",
    "\n",
    "print(a)\n",
    "print(b)"
   ]
  },
  {
   "cell_type": "markdown",
   "id": "1eed3263-2271-44cf-a0c9-4f15739e1646",
   "metadata": {},
   "source": [
    "### 3. `Difference` Operation:"
   ]
  },
  {
   "cell_type": "markdown",
   "id": "6414dbcd-ec05-452e-b6ee-fc596e87b83e",
   "metadata": {},
   "source": [
    "- In Difference Operation it will create a new set containing elements that are in the first set but not in the second."
   ]
  },
  {
   "cell_type": "markdown",
   "id": "cffcf41e-b2ed-44f9-a64c-bcc93391a22b",
   "metadata": {},
   "source": [
    "### Syntax"
   ]
  },
  {
   "cell_type": "code",
   "execution_count": null,
   "id": "e32a3ad8-bdce-413e-a9ec-f699a95c656d",
   "metadata": {},
   "outputs": [],
   "source": [
    "set1.difference(set2) or set1 - set2"
   ]
  },
  {
   "cell_type": "code",
   "execution_count": 156,
   "id": "af6da457-ba5c-4469-9212-7542eea798b9",
   "metadata": {},
   "outputs": [
    {
     "name": "stdout",
     "output_type": "stream",
     "text": [
      "{'kiwi', 'banana'}\n",
      "{'kiwi', 'banana'}\n",
      "{'orange', 'watermelon'}\n"
     ]
    }
   ],
   "source": [
    "fruits = {\"apple\", \"mango\", \"banana\", \"kiwi\"}\n",
    "fruits2 = {\"apple\", \"mango\", \"watermelon\", \"orange\"}\n",
    "\n",
    "a = fruits.difference(fruits2)\n",
    "           #OR\n",
    "b = fruits - fruits2\n",
    "\n",
    "c = fruits2 - fruits\n",
    "\n",
    "print(a)\n",
    "print(b)\n",
    "print(c)"
   ]
  },
  {
   "cell_type": "markdown",
   "id": "095f73c3-1410-4338-afc8-a51a3cc10db9",
   "metadata": {},
   "source": [
    "### 4.`Symmetric Difference` Operation:"
   ]
  },
  {
   "cell_type": "markdown",
   "id": "92960c54-a8c4-46b0-9d54-fcf99f01b9d4",
   "metadata": {},
   "source": [
    "- The symmetric difference operation will be create a new set containing elements that are in either set, but not in both."
   ]
  },
  {
   "cell_type": "markdown",
   "id": "cc927d45-b986-4f1a-a38c-34cd510d59c3",
   "metadata": {},
   "source": [
    "### Syntax"
   ]
  },
  {
   "cell_type": "code",
   "execution_count": null,
   "id": "17adb7e3-8821-4081-b927-ea86659ce098",
   "metadata": {},
   "outputs": [],
   "source": [
    "set1.symmetric_difference(set2) or set1 ^ set2"
   ]
  },
  {
   "cell_type": "code",
   "execution_count": 175,
   "id": "1ac52fa7-3839-4051-b9c5-4a7dfb73ac50",
   "metadata": {},
   "outputs": [
    {
     "name": "stdout",
     "output_type": "stream",
     "text": [
      "{'apple', 'orange', 'watermelon', 'kiwi', 'banana'}\n",
      "{'apple', 'orange', 'watermelon', 'kiwi', 'banana'}\n"
     ]
    }
   ],
   "source": [
    "fruits = {\"apple\", \"mango\", \"banana\", \"kiwi\"}\n",
    "fruits2 = {\"mango\", \"watermelon\", \"orange\"}\n",
    "\n",
    "a = fruits.symmetric_difference(fruits2)\n",
    "           #OR\n",
    "b = fruits ^ fruits2\n",
    "\n",
    "print(a)\n",
    "print(b)"
   ]
  },
  {
   "cell_type": "markdown",
   "id": "080a46fa-4fa7-4358-be13-68ea6fe3b777",
   "metadata": {},
   "source": [
    "## Set Methods"
   ]
  },
  {
   "cell_type": "markdown",
   "id": "69b0b6d6-fc3b-470c-bffe-ed0efb3701ab",
   "metadata": {},
   "source": [
    "- It has a set of built-in methods that we can use on sets."
   ]
  },
  {
   "cell_type": "markdown",
   "id": "52bf01a9-cb3f-4655-b32b-17f75dce9ef4",
   "metadata": {},
   "source": [
    "| Method | Shortcut | Description |\n",
    "|--------|----------|-------------|\n",
    "| add() | | Adds an elemnet to the set|\n",
    "| update() | I= |  Update the set with the union of this set and others |\n",
    "| clear() | | Removes all the elements from the set|\n",
    "| copy() | | Returns a copy of the set |\n",
    "| union() | I | Return a set contaning the union of stes|\n",
    "| difference() | - | Returns a set contaning the difference between two or more sets|\n",
    "| difference_update() | -= | Removes the items in this set that are also included in another specified set|\n",
    "| discard() | | Remove the specified item |\n",
    "| intersection() | & | Returns a set, that is the intersection of two other sets |\n",
    "| intersection_update() | &= | Removes the items in this set that are not present in other, specified set|\n",
    "| isdisjoint() | | Returns whether two sets have a intersection or not |\n",
    "| issubset() | <= | Returns whether another set contains this set or not |\n",
    "| | < | Returns whether all items in other specified set(s) is present in this set|\n",
    "| issuperset() | >= | Returns whether this set conatins another set or not|\n",
    "| | > | Returns whether all items in other, specified set(s) is present in this set.|\n",
    "| pop() | | Removes an element from the set|\n",
    "| remove() | | Removes the specified element |\n",
    "| symmetric_difference()| ^ | Returns a set with the symmetric difference of two sets|\n",
    "| symmetric_difference_update()| ^=| Inserts the symmetric difference from this set and another|\n"
   ]
  },
  {
   "cell_type": "markdown",
   "id": "3739795d-78a3-42d3-b20e-cafda71a5e8f",
   "metadata": {},
   "source": [
    "## 1.`add()`:"
   ]
  },
  {
   "cell_type": "markdown",
   "id": "b8655eb2-83e5-427e-b3ad-55005804b781",
   "metadata": {},
   "source": [
    "- The add() method adds an elemnet to the set."
   ]
  },
  {
   "cell_type": "markdown",
   "id": "e190a097-74bb-4de7-9b83-253f135af1d8",
   "metadata": {},
   "source": [
    "### Syntax"
   ]
  },
  {
   "cell_type": "code",
   "execution_count": null,
   "id": "770b9f2a-24a5-4488-8427-a954f18a7053",
   "metadata": {},
   "outputs": [],
   "source": [
    "set.add(elmnt)"
   ]
  },
  {
   "cell_type": "code",
   "execution_count": 165,
   "id": "81198796-6811-4c6f-8d28-9f717b625667",
   "metadata": {},
   "outputs": [
    {
     "data": {
      "text/plain": [
       "{'BOI', 'HDFC', 'IOB', 'RBL', 'SBI'}"
      ]
     },
     "execution_count": 165,
     "metadata": {},
     "output_type": "execute_result"
    }
   ],
   "source": [
    "banks = {\"SBI\", \"RBL\", \"IOB\", \"BOI\", \"RBL\"}\n",
    "banks.add(\"HDFC\")\n",
    "banks"
   ]
  },
  {
   "cell_type": "markdown",
   "id": "9d7f3e09-1277-431e-b007-b21ed241d6ac",
   "metadata": {},
   "source": [
    "### 2.`update()`:"
   ]
  },
  {
   "cell_type": "markdown",
   "id": "4f631416-ae7c-4ea3-a501-1a5b59c65092",
   "metadata": {},
   "source": [
    "- The update() method updates the current set, by adding items from another set (or any other iterable).\n",
    "- If an item is present in both sets, only one appearance of this item will be present in the updated set.\n",
    "- Shortcut `|=`"
   ]
  },
  {
   "cell_type": "code",
   "execution_count": 189,
   "id": "74f125c5-00a8-4640-849e-d9fbc1b02587",
   "metadata": {},
   "outputs": [
    {
     "name": "stdout",
     "output_type": "stream",
     "text": [
      "{'mango', 'apple', 'watermelon', 'kiwi', 'banana', 'orange'}\n"
     ]
    }
   ],
   "source": [
    "fruits = {\"apple\", \"mango\", \"banana\", \"kiwi\"}\n",
    "fruits2 = {\"mango\", \"watermelon\", \"orange\"}\n",
    "\n",
    "fruits2 |= fruits\n",
    "print(fruits2)\n",
    "\n"
   ]
  },
  {
   "cell_type": "markdown",
   "id": "0bdc39f0-e89b-43f8-b424-01e10b0257ba",
   "metadata": {},
   "source": [
    "## 3.`clear()`:"
   ]
  },
  {
   "cell_type": "markdown",
   "id": "f93876a4-87f2-4715-be9e-16478d2f6d6d",
   "metadata": {},
   "source": [
    "- The clear() method removes all elements in a set."
   ]
  },
  {
   "cell_type": "markdown",
   "id": "84969df9-8b81-4321-8532-fec748146595",
   "metadata": {},
   "source": [
    "### Syntax"
   ]
  },
  {
   "cell_type": "code",
   "execution_count": null,
   "id": "24872991-315a-4c86-932f-2b92a788bec3",
   "metadata": {},
   "outputs": [],
   "source": [
    "set.clear()"
   ]
  },
  {
   "cell_type": "code",
   "execution_count": 202,
   "id": "e198d528-0b2a-4eba-a283-c664734929f1",
   "metadata": {},
   "outputs": [
    {
     "data": {
      "text/plain": [
       "set()"
      ]
     },
     "execution_count": 202,
     "metadata": {},
     "output_type": "execute_result"
    }
   ],
   "source": [
    "fruits = {\"apple\", \"mango\", \"banana\", \"kiwi\"}\n",
    "fruits2 = {\"mango\", \"watermelon\", \"orange\"}\n",
    "\n",
    "fruits.clear()\n",
    "fruits2.clear()\n",
    "fruits\n",
    "fruits2"
   ]
  },
  {
   "cell_type": "markdown",
   "id": "41067770-caa4-40f7-b30b-b113fa406288",
   "metadata": {},
   "source": [
    "## 4.`copy()`:"
   ]
  },
  {
   "cell_type": "markdown",
   "id": "142e40e2-c21e-4c1c-8df9-254854de7e0f",
   "metadata": {},
   "source": [
    "- The copy() method copies the set."
   ]
  },
  {
   "cell_type": "markdown",
   "id": "05e353e4-3c30-4074-b313-c32aa5938944",
   "metadata": {},
   "source": [
    "### Syntax"
   ]
  },
  {
   "cell_type": "code",
   "execution_count": null,
   "id": "cc49bce8-32d8-49d9-be16-83a51a21fc97",
   "metadata": {},
   "outputs": [],
   "source": [
    "set.copy()"
   ]
  },
  {
   "cell_type": "code",
   "execution_count": 207,
   "id": "1c4b3160-9035-4f77-a314-734e871c8df7",
   "metadata": {},
   "outputs": [
    {
     "name": "stdout",
     "output_type": "stream",
     "text": [
      "{'kiwi', 'apple', 'mango', 'banana'}\n"
     ]
    }
   ],
   "source": [
    "fruits = {\"apple\", \"mango\", \"banana\", \"kiwi\"}\n",
    "fruits2 = fruits.copy()\n",
    "print(fruits2)"
   ]
  },
  {
   "cell_type": "markdown",
   "id": "11cf792f-0b99-4b38-aac8-ef53404ba6ed",
   "metadata": {},
   "source": [
    "## 5.`union()`:"
   ]
  },
  {
   "cell_type": "markdown",
   "id": "3305b8ed-b4f3-4270-9b61-93eb3a38b155",
   "metadata": {},
   "source": [
    "- The union() method returns a set that contains all items from the otiginal set, and all items from the specified set(s).\n",
    "- We can specify as many sets we want, separated by commas.\n",
    "- It does not have to be a set, it can be any iterable object.\n",
    "- If an item is present in more than one set the result will contain only one apperance of this item.\n",
    "- As a shortcut we can use the `|` operator."
   ]
  },
  {
   "cell_type": "markdown",
   "id": "6c4b2fd7-a47f-47e4-a762-e6faf8487ba5",
   "metadata": {},
   "source": [
    "### Syntax"
   ]
  },
  {
   "cell_type": "code",
   "execution_count": null,
   "id": "7901a5fd-a612-4cdb-bf96-172d2166d69e",
   "metadata": {},
   "outputs": [],
   "source": [
    "set.union(set1, set2...)"
   ]
  },
  {
   "cell_type": "code",
   "execution_count": 223,
   "id": "3bc7f85b-d14e-4c55-abb4-5e58b8268515",
   "metadata": {},
   "outputs": [
    {
     "data": {
      "text/plain": [
       "{'apple', 'banana', 'cherry', 'google', 'microsoft'}"
      ]
     },
     "execution_count": 223,
     "metadata": {},
     "output_type": "execute_result"
    }
   ],
   "source": [
    "fruits1 = {\"apple\", \"banana\", \"cherry\"}\n",
    "fruits2 = {\"google\", \"microsoft\", \"apple\"}\n",
    "fruits1 | fruits2"
   ]
  },
  {
   "cell_type": "markdown",
   "id": "eb86432b-c52e-413d-ae6b-3879509d06d7",
   "metadata": {},
   "source": [
    "## 6.`difference()`:"
   ]
  },
  {
   "cell_type": "markdown",
   "id": "b3207b35-c698-46db-9726-75e579554bce",
   "metadata": {},
   "source": [
    "- The difference() method returns a set that contains the difference between twe sets.\n",
    "- As a shortcut we cause use the `-` operator."
   ]
  },
  {
   "cell_type": "markdown",
   "id": "0b796d23-d2c3-455a-81ba-2be650d534a3",
   "metadata": {},
   "source": [
    "### Syntax"
   ]
  },
  {
   "cell_type": "code",
   "execution_count": null,
   "id": "d43c5c99-024a-4e0f-90da-0815e708f135",
   "metadata": {},
   "outputs": [],
   "source": [
    "set.difference(set1, set2...etc.)"
   ]
  },
  {
   "cell_type": "code",
   "execution_count": 233,
   "id": "98a197ef-8f5a-40b9-b7f4-584681b67c05",
   "metadata": {},
   "outputs": [
    {
     "data": {
      "text/plain": [
       "{'banana', 'cherry'}"
      ]
     },
     "execution_count": 233,
     "metadata": {},
     "output_type": "execute_result"
    }
   ],
   "source": [
    "fruits1 = {\"apple\", \"banana\", \"cherry\"}\n",
    "fruits2 = {\"google\", \"microsoft\", \"apple\"}\n",
    "fruits1 - fruits2"
   ]
  },
  {
   "cell_type": "markdown",
   "id": "99c93056-d8ad-4f76-9329-e793cc40c528",
   "metadata": {},
   "source": [
    "## 7.`difference_update()`:"
   ]
  },
  {
   "cell_type": "markdown",
   "id": "26ed186b-21f8-41eb-8b52-a1b4ce03c7e4",
   "metadata": {},
   "source": [
    "- The difference_update() method removes the items that exits in both sets.\n",
    "- As a shortcut, you can use the `-=` operator instead."
   ]
  },
  {
   "cell_type": "markdown",
   "id": "26a0d135-fcce-489e-b30e-bb13ec71ed4a",
   "metadata": {},
   "source": [
    "### Syntax"
   ]
  },
  {
   "cell_type": "code",
   "execution_count": null,
   "id": "8302f78a-de38-4f7b-b555-b259b7714e20",
   "metadata": {},
   "outputs": [],
   "source": [
    "set.difference_update(set1, set2... etc)"
   ]
  },
  {
   "cell_type": "code",
   "execution_count": 248,
   "id": "4718d7c9-43b1-4c0a-8902-23b8f7211a20",
   "metadata": {},
   "outputs": [
    {
     "name": "stdout",
     "output_type": "stream",
     "text": [
      "{'cherry', 'banana'}\n"
     ]
    }
   ],
   "source": [
    "fruits1 = {\"apple\", \"banana\", \"cherry\"}\n",
    "fruits2 = {\"google\", \"microsoft\", \"apple\"}\n",
    "fruits1 -= fruits2\n",
    "print(fruits1)"
   ]
  },
  {
   "cell_type": "markdown",
   "id": "70c2b512-e093-412c-8219-27d173f6c219",
   "metadata": {},
   "source": [
    "## 8.`discard()`:"
   ]
  },
  {
   "cell_type": "markdown",
   "id": "fb195d6b-1818-4052-ba1c-e5fdcb1e8715",
   "metadata": {},
   "source": [
    "- The `discard()` method remove the specified item from the set."
   ]
  },
  {
   "cell_type": "markdown",
   "id": "a056b01e-ee59-439d-bb1d-0e2bd7a0cbc3",
   "metadata": {},
   "source": [
    "### Syntax"
   ]
  },
  {
   "cell_type": "code",
   "execution_count": null,
   "id": "27ddd072-0248-4851-b93b-3fc3d03ffcf0",
   "metadata": {},
   "outputs": [],
   "source": [
    "set.discard(value)"
   ]
  },
  {
   "cell_type": "code",
   "execution_count": 320,
   "id": "03894c10-c7da-4e4d-a427-0a96cee523be",
   "metadata": {},
   "outputs": [
    {
     "name": "stdout",
     "output_type": "stream",
     "text": [
      "{'kiwi', 'mango', 'banana'}\n"
     ]
    }
   ],
   "source": [
    "fruits1 = {\"apple\", \"banana\", \"cherry\"}\n",
    "fruits.discard(\"apple\")\n",
    "print(fruits)"
   ]
  },
  {
   "cell_type": "markdown",
   "id": "66511e73-0b80-41c0-8d12-f5f6af7135f1",
   "metadata": {},
   "source": [
    "## 9.`intersection()`:"
   ]
  },
  {
   "cell_type": "markdown",
   "id": "76aeef78-3079-4028-b2d9-06c0784f0f09",
   "metadata": {},
   "source": [
    "- The `intersection()` method returns a set that contains the similarity between two or more sets.\n",
    "- As a shortcut we can use the `&` operator."
   ]
  },
  {
   "cell_type": "markdown",
   "id": "0d3eacc6-6f89-4482-b879-4bd18c1bd49d",
   "metadata": {},
   "source": [
    "### Syntax"
   ]
  },
  {
   "cell_type": "code",
   "execution_count": null,
   "id": "a9be105d-10dd-4864-9bd4-2374f09480e3",
   "metadata": {},
   "outputs": [],
   "source": [
    "set.intersection(set1, set2...etc)"
   ]
  },
  {
   "cell_type": "code",
   "execution_count": 314,
   "id": "d30d1a9d-ebae-4334-b07c-a0327cc069ae",
   "metadata": {},
   "outputs": [
    {
     "name": "stdout",
     "output_type": "stream",
     "text": [
      "{'mango'}\n",
      "{'mango'}\n"
     ]
    }
   ],
   "source": [
    "fruits = {\"apple\", \"mango\", \"banana\", \"kiwi\"}\n",
    "fruits2 = {\"mango\", \"watermelon\", \"orange\"}\n",
    "\n",
    "a = fruits.intersection(fruits2)\n",
    "           #OR\n",
    "b = fruits & fruits2\n",
    "\n",
    "print(a)\n",
    "print(b)"
   ]
  },
  {
   "cell_type": "markdown",
   "id": "ce976e4d-7554-45fd-b474-16c964931475",
   "metadata": {},
   "source": [
    "## 10. `intersection_update()`:"
   ]
  },
  {
   "cell_type": "markdown",
   "id": "db80e2e7-62e7-4c55-9148-c31c8c1e86fd",
   "metadata": {},
   "source": [
    "- The intersection_update() method removes the items that is not present in both sets.\n",
    "- As a shortcut we can use the `&=` operator."
   ]
  },
  {
   "cell_type": "markdown",
   "id": "27c77042-38c7-49b1-a976-384fb65cb318",
   "metadata": {},
   "source": [
    "### Syntax"
   ]
  },
  {
   "cell_type": "code",
   "execution_count": null,
   "id": "aeeb0ff9-823b-473e-ab66-48c083c33022",
   "metadata": {},
   "outputs": [],
   "source": [
    "set.intersection_update(set1, set2...etc)"
   ]
  },
  {
   "cell_type": "code",
   "execution_count": 270,
   "id": "f9409a87-78ce-461a-b6da-d3441a6292f1",
   "metadata": {},
   "outputs": [
    {
     "name": "stdout",
     "output_type": "stream",
     "text": [
      "{'mango'}\n"
     ]
    }
   ],
   "source": [
    "fruits = {\"apple\", \"mango\", \"banana\", \"kiwi\"}\n",
    "fruits2 = {\"mango\", \"watermelon\", \"orange\"}\n",
    "\n",
    "fruits &= fruits2\n",
    "\n",
    "print(fruits)"
   ]
  },
  {
   "cell_type": "markdown",
   "id": "887417bc-2183-4809-a9db-25828399f81e",
   "metadata": {},
   "source": [
    "## 11.`isdisjoint()`:"
   ]
  },
  {
   "cell_type": "markdown",
   "id": "b1e96c1f-1059-4f0d-943b-9d9eaa1a45f7",
   "metadata": {},
   "source": [
    "- The `isdisjoint()` method returns True if none of the items are present in both stes, otherwise it returns False."
   ]
  },
  {
   "cell_type": "markdown",
   "id": "c7c21fb0-e01f-4c54-9112-3b9d7d730da3",
   "metadata": {},
   "source": [
    "### Syntax"
   ]
  },
  {
   "cell_type": "code",
   "execution_count": null,
   "id": "dd89bb3b-4e64-458c-a2ab-95830fdf861b",
   "metadata": {},
   "outputs": [],
   "source": [
    "set.isdisjoint(set)"
   ]
  },
  {
   "cell_type": "code",
   "execution_count": 277,
   "id": "d0cd5f2d-4159-472f-bf75-36fed56e4c3c",
   "metadata": {},
   "outputs": [
    {
     "name": "stdout",
     "output_type": "stream",
     "text": [
      "False\n"
     ]
    }
   ],
   "source": [
    "fruits = {\"apple\", \"banana\", \"cherry\"}\n",
    "fruits2 = {\"google\", \"microsoft\", \"apple\"}\n",
    "fru = fruits.isdisjoint(fruits2)\n",
    "\n",
    "print(fru)"
   ]
  },
  {
   "cell_type": "markdown",
   "id": "9da2c516-c355-4430-9de4-6a53271c82f6",
   "metadata": {},
   "source": [
    "## 12.`issubset()`:"
   ]
  },
  {
   "cell_type": "markdown",
   "id": "babd53b5-f6dc-42ac-a557-f7a212398aec",
   "metadata": {},
   "source": [
    "- The `issubset()` method returns True if all items in the set exits in the specifid set otherwise it returns False.\n",
    "- As a shortcut we can use the `<=` operator."
   ]
  },
  {
   "cell_type": "markdown",
   "id": "c6238bf8-d17a-44ea-a83a-8484485b0200",
   "metadata": {},
   "source": [
    "### Syntax"
   ]
  },
  {
   "cell_type": "code",
   "execution_count": null,
   "id": "87eb4cd3-ee56-4837-a245-9b57f48db82a",
   "metadata": {},
   "outputs": [],
   "source": [
    "set.issubset(set1)"
   ]
  },
  {
   "cell_type": "code",
   "execution_count": 286,
   "id": "eeaf8324-ab7d-41f5-bd4c-28218b482247",
   "metadata": {},
   "outputs": [
    {
     "name": "stdout",
     "output_type": "stream",
     "text": [
      "True\n"
     ]
    }
   ],
   "source": [
    "x = {\"a\", \"b\", \"c\"}\n",
    "y = {\"f\", \"e\", \"d\", \"c\", \"b\", \"a\"}\n",
    "\n",
    "z = x <= y\n",
    "print(z)"
   ]
  },
  {
   "cell_type": "markdown",
   "id": "2bce25ad-55ed-447e-8058-760b67c0c1f4",
   "metadata": {},
   "source": [
    "## 13.`pop()`:"
   ]
  },
  {
   "cell_type": "markdown",
   "id": "d6d95fe9-5840-4df2-a4d4-fac8582e96d6",
   "metadata": {},
   "source": [
    "- The `pop()` method removes a random item from the set.\n",
    "- This method returns the removed item."
   ]
  },
  {
   "cell_type": "markdown",
   "id": "3e4f6d70-137e-44fb-a98a-71a3b92852a0",
   "metadata": {},
   "source": [
    "### Syntax"
   ]
  },
  {
   "cell_type": "code",
   "execution_count": null,
   "id": "be71aad9-12a3-44f3-94a4-8c153464684f",
   "metadata": {},
   "outputs": [],
   "source": [
    "set.pop()"
   ]
  },
  {
   "cell_type": "code",
   "execution_count": 291,
   "id": "c03fdf81-79fb-4dd9-a410-271a1e249085",
   "metadata": {},
   "outputs": [
    {
     "name": "stdout",
     "output_type": "stream",
     "text": [
      "cherry\n"
     ]
    }
   ],
   "source": [
    "fruits = {\"apple\", \"banana\", \"cherry\"}\n",
    "\n",
    "x = fruits.pop() \n",
    "\n",
    "print(x)"
   ]
  },
  {
   "cell_type": "markdown",
   "id": "68518910-5acf-4cdc-8118-885116ad299e",
   "metadata": {},
   "source": [
    "## 14.`symmetric_difference()`:"
   ]
  },
  {
   "cell_type": "markdown",
   "id": "c81c6d9c-d288-415e-8257-9c10f51e8089",
   "metadata": {},
   "source": [
    "- The `symmetric_difference()` method returns a set that contain all items from both set, but not the items that are present in both sets.\n",
    "- As a shortcut we can use the `^` operator."
   ]
  },
  {
   "cell_type": "markdown",
   "id": "91ac4463-e6e8-4ce8-bcd7-91c033f5e27c",
   "metadata": {},
   "source": [
    "### Syntax"
   ]
  },
  {
   "cell_type": "code",
   "execution_count": null,
   "id": "fa237893-a0e0-498d-af13-61151723645d",
   "metadata": {},
   "outputs": [],
   "source": [
    "set.symmetric_difference(set1)"
   ]
  },
  {
   "cell_type": "code",
   "execution_count": 301,
   "id": "3cb84eaf-25bf-4d9a-95e8-4901249e6ae3",
   "metadata": {},
   "outputs": [
    {
     "name": "stdout",
     "output_type": "stream",
     "text": [
      "{'cherry', 'google', 'microsoft', 'banana'}\n"
     ]
    }
   ],
   "source": [
    "x = {\"apple\", \"banana\", \"cherry\"}\n",
    "y = {\"google\", \"microsoft\", \"apple\"}\n",
    "\n",
    "z = x ^ y\n",
    "\n",
    "print(z)"
   ]
  },
  {
   "cell_type": "markdown",
   "id": "22195532-f06e-4c19-9f6c-afe884d99e6c",
   "metadata": {},
   "source": [
    "## 15.`symmetric_difference_update()`:"
   ]
  },
  {
   "cell_type": "markdown",
   "id": "9846f9ea-208f-4082-8f5a-3a56418ac908",
   "metadata": {},
   "source": [
    "- The `symmetric_difference_update()` method updates the original set by removing items that are present in both sets, and inserting the other items.\n",
    "- As a shortcut we can use the `^=` operator."
   ]
  },
  {
   "cell_type": "markdown",
   "id": "10d52bc2-3e39-4207-9908-adadaf0b7c2e",
   "metadata": {},
   "source": [
    "### Syntax"
   ]
  },
  {
   "cell_type": "code",
   "execution_count": null,
   "id": "64631b99-4a27-4674-8ff4-fe6b146faddd",
   "metadata": {},
   "outputs": [],
   "source": [
    "set.symmetric_difference_update(set1)"
   ]
  },
  {
   "cell_type": "code",
   "execution_count": 308,
   "id": "a2645fcf-e2e9-4a89-8e64-64cd7db9f759",
   "metadata": {},
   "outputs": [
    {
     "name": "stdout",
     "output_type": "stream",
     "text": [
      "{'cherry', 'google', 'microsoft', 'banana'}\n"
     ]
    }
   ],
   "source": [
    "x = {\"apple\", \"banana\", \"cherry\"}\n",
    "y = {\"google\", \"microsoft\", \"apple\"}\n",
    "\n",
    "x ^= y\n",
    "\n",
    "print(x)"
   ]
  },
  {
   "cell_type": "markdown",
   "id": "cf406f53-55a2-4067-8c8d-bf1e5fcd6713",
   "metadata": {},
   "source": [
    "## 16.`remove()`:"
   ]
  },
  {
   "cell_type": "markdown",
   "id": "603a649b-5420-42ca-b48b-b397994339ce",
   "metadata": {},
   "source": [
    "- The `remove()` method removes the specified element from the set. "
   ]
  },
  {
   "cell_type": "markdown",
   "id": "2c3ab286-1c8c-48d4-b45d-72ac6f304d8f",
   "metadata": {},
   "source": [
    "### Syntax"
   ]
  },
  {
   "cell_type": "code",
   "execution_count": null,
   "id": "648dca37-463e-4c5d-ac97-baf6c8dbb522",
   "metadata": {},
   "outputs": [],
   "source": [
    "set.remove(item)"
   ]
  },
  {
   "cell_type": "code",
   "execution_count": 324,
   "id": "841e26de-5647-406e-927f-0a4df9505dd1",
   "metadata": {},
   "outputs": [
    {
     "name": "stdout",
     "output_type": "stream",
     "text": [
      "{'kiwi', 'mango', 'banana'}\n"
     ]
    }
   ],
   "source": [
    "fruits1 = {\"apple\", \"banana\", \"cherry\"}\n",
    "fruits1.remove(\"apple\")\n",
    "print(fruits)"
   ]
  }
 ],
 "metadata": {
  "kernelspec": {
   "display_name": "Python 3 (ipykernel)",
   "language": "python",
   "name": "python3"
  },
  "language_info": {
   "codemirror_mode": {
    "name": "ipython",
    "version": 3
   },
   "file_extension": ".py",
   "mimetype": "text/x-python",
   "name": "python",
   "nbconvert_exporter": "python",
   "pygments_lexer": "ipython3",
   "version": "3.12.4"
  }
 },
 "nbformat": 4,
 "nbformat_minor": 5
}
