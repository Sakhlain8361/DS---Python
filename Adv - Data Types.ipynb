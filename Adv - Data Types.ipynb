{
 "cells": [
  {
   "cell_type": "markdown",
   "id": "91e05126-f4c5-4fb8-be4b-c7c06697fe0f",
   "metadata": {},
   "source": [
    "# Python - List"
   ]
  },
  {
   "cell_type": "markdown",
   "id": "360d9e71-1572-4c4c-b601-532e63f5b245",
   "metadata": {},
   "source": [
    "- List are used to store mutiple items in a single variable.\n",
    "- Lists are created using square brackets and seprated by commo's.\n",
    "- Lists are used to store collections of item's, and these items can be of any type including numbers, strings or even other lists.\n",
    "- If we add any new items to a list, the new items will be placed at the end of the list.\n",
    "- Lits items are orderd, changeable and allow duplicate values.\n",
    "- List items are indexed, the first item had index [0], the second item has index [1] etc."
   ]
  },
  {
   "cell_type": "markdown",
   "id": "bb871d3e-e24e-4b99-96c7-f7b7d1fa14d5",
   "metadata": {},
   "source": [
    "### Create a List"
   ]
  },
  {
   "cell_type": "code",
   "execution_count": 261,
   "id": "61d9dcee-09d7-4d74-b3a5-9cabe2390868",
   "metadata": {},
   "outputs": [
    {
     "name": "stdout",
     "output_type": "stream",
     "text": [
      "['Teks', 'academy', 'hi-tech']\n",
      "<class 'list'>\n"
     ]
    }
   ],
   "source": [
    "list = [\"Teks\", \"academy\", \"hi-tech\"]\n",
    "print(list)\n",
    "print(type(list))"
   ]
  },
  {
   "cell_type": "markdown",
   "id": "5b27e69b-7c10-4a45-b622-6356a364a072",
   "metadata": {},
   "source": [
    "## Access List Items"
   ]
  },
  {
   "cell_type": "markdown",
   "id": "bc201652-2135-4d9d-b90a-de69eb85c423",
   "metadata": {},
   "source": [
    "- In python lists are ordered and each item in a list is associated with a number.\n",
    "- The number is known as list index\n",
    "- The index of the first element is 0, second element 1 and so on.\n",
    "- Genreally the index count was start from LHS to RHS."
   ]
  },
  {
   "cell_type": "code",
   "execution_count": 265,
   "id": "495c2f49-2948-4c84-b5c4-bc90c6d65e69",
   "metadata": {},
   "outputs": [
    {
     "name": "stdout",
     "output_type": "stream",
     "text": [
      "watermelon\n"
     ]
    }
   ],
   "source": [
    "# Example \n",
    "list = [\"app\",\"bana\",\"watermelon\"]\n",
    "print(list[2])"
   ]
  },
  {
   "cell_type": "markdown",
   "id": "973fafc4-968a-4a00-a595-47cd9d57e49a",
   "metadata": {},
   "source": [
    "### Negative Indexing"
   ]
  },
  {
   "cell_type": "markdown",
   "id": "66b11acb-04ef-401d-b8a5-e5d57a7a6ea0",
   "metadata": {},
   "source": [
    "- Negative indexing means start from the end\n",
    "- -1 refers to the last item, -2 refers to the second last item etc."
   ]
  },
  {
   "cell_type": "code",
   "execution_count": 269,
   "id": "51b29fc8-1c95-4b40-91ea-afc9464972f0",
   "metadata": {},
   "outputs": [
    {
     "name": "stdout",
     "output_type": "stream",
     "text": [
      "app\n"
     ]
    }
   ],
   "source": [
    "# Example\n",
    "list = [\"app\",\"bana\",\"watermelon\"]\n",
    "print(list[-3])"
   ]
  },
  {
   "cell_type": "markdown",
   "id": "544ae398-f031-438c-a802-466819f3a9c8",
   "metadata": {},
   "source": [
    "## Slicing of a List"
   ]
  },
  {
   "cell_type": "markdown",
   "id": "7e255c48-b6ad-45ee-9f98-ba11676a7cdf",
   "metadata": {},
   "source": [
    "- Slicing is also called as Range of Indexes\n",
    "- In python, it is possible to access a portion of a list using the slicing operators.\n",
    "-  We can specify a range of indexes by specifying where to start and where to end the range.\n",
    "-  When specifying a range, the return value will be a new list with the specified items."
   ]
  },
  {
   "cell_type": "code",
   "execution_count": 273,
   "id": "54c8df9d-8b67-4d61-82ea-1401aa9d61cb",
   "metadata": {},
   "outputs": [
    {
     "name": "stdout",
     "output_type": "stream",
     "text": [
      "['cherry', 'orange', 'kiwi']\n",
      "['apple', 'banana', 'cherry', 'orange']\n",
      "['apple', 'banana', 'cherry', 'orange', 'kiwi', 'melon', 'mango']\n",
      "['orange', 'kiwi', 'melon']\n"
     ]
    }
   ],
   "source": [
    "# Example \n",
    "fruits = [\"apple\", \"banana\", \"cherry\", \"orange\", \"kiwi\", \"melon\", \"mango\"]\n",
    "print(fruits[2:5])\n",
    "print(fruits[:4])\n",
    "print(fruits[:])\n",
    "print(fruits[-4:-1])"
   ]
  },
  {
   "cell_type": "markdown",
   "id": "e94e2826-ed42-464b-ba7b-8e5d41300643",
   "metadata": {},
   "source": [
    "## List Operations"
   ]
  },
  {
   "cell_type": "markdown",
   "id": "2005d0dd-7ef9-4f18-87ac-759b28d4c4fd",
   "metadata": {},
   "source": [
    "1. Concatenation\n",
    "2. Repetation"
   ]
  },
  {
   "cell_type": "code",
   "execution_count": 277,
   "id": "23e51fd8-1cc7-4a73-8296-ab5ab9d2b03e",
   "metadata": {},
   "outputs": [
    {
     "name": "stdout",
     "output_type": "stream",
     "text": [
      "['apple', 'mango', 'cherry', 'carrot', 'tomato', 'beens']\n"
     ]
    }
   ],
   "source": [
    "# Example on Concatenation\n",
    "fruits = [\"apple\",\"mango\",\"cherry\"]\n",
    "vegitables = [\"carrot\",\"tomato\",\"beens\"]\n",
    "concatinate = fruits + vegitables\n",
    "print(concatinate)"
   ]
  },
  {
   "cell_type": "code",
   "execution_count": 279,
   "id": "7d4aa5a3-25f1-4b56-8f86-b153f66f7d58",
   "metadata": {},
   "outputs": [
    {
     "name": "stdout",
     "output_type": "stream",
     "text": [
      "[10, 20, 30, 10, 20, 30]\n"
     ]
    }
   ],
   "source": [
    "# Example on Repetation\n",
    "num = [10,20,30]\n",
    "rep = num * 2\n",
    "print(rep)"
   ]
  },
  {
   "cell_type": "markdown",
   "id": "aca76c29-bb59-4cf9-8bd3-a9ef53b1c53d",
   "metadata": {},
   "source": [
    "## Change List Items"
   ]
  },
  {
   "cell_type": "markdown",
   "id": "2c34f06c-2a07-4037-b97d-b3eb9b7469c7",
   "metadata": {},
   "source": [
    "- Changing a list refers to modifying the elemnets within a list data structure after its creation. This involves altering existing values, adding new elemnets, or removing elements from the list.\n",
    "- To change the value of a specific item, refer to the index number"
   ]
  },
  {
   "cell_type": "code",
   "execution_count": 283,
   "id": "f850f1c0-afa4-47d1-a688-7b451f5fbd00",
   "metadata": {},
   "outputs": [
    {
     "name": "stdout",
     "output_type": "stream",
     "text": [
      "['sakku', 'drlg', 'deva']\n"
     ]
    }
   ],
   "source": [
    "# Example of change list item\n",
    "names = [\"sakku\",\"gopal\",\"deva\"]\n",
    "names[1] = \"drlg\"\n",
    "print(names)"
   ]
  },
  {
   "cell_type": "markdown",
   "id": "9e41b00e-9143-497d-9569-fac69a2d353c",
   "metadata": {},
   "source": [
    "## Change a Range of item Values"
   ]
  },
  {
   "cell_type": "markdown",
   "id": "d0d557c5-1f55-444d-8ff0-7b8db9e65e3b",
   "metadata": {},
   "source": [
    "- To Change the values of items within a specific range, define a list with the new values, and refer to the range of index numbers where you want to insert the new vales."
   ]
  },
  {
   "cell_type": "code",
   "execution_count": 55,
   "id": "e59d5953-388d-4e86-a1ef-a579bd75af74",
   "metadata": {},
   "outputs": [
    {
     "name": "stdout",
     "output_type": "stream",
     "text": [
      "['apple', 'blackcurrant', 'watermelon', 'cherry', 'kiwi', 'mango']\n"
     ]
    }
   ],
   "source": [
    "# Example program\n",
    "fruits = [\"apple\", \"banana\", \"cherry\", \"orange\", \"kiwi\", \"mango\"]\n",
    "fruits[1:4] = [\"blackcurrant\", \"watermelon\",\"cherry\"]\n",
    "print(fruits)"
   ]
  },
  {
   "cell_type": "markdown",
   "id": "3986acb9-f5af-4984-b0d2-763d83ffe558",
   "metadata": {},
   "source": [
    "## List Methods"
   ]
  },
  {
   "cell_type": "markdown",
   "id": "d1058d86-04c5-4085-b249-a425176b1b73",
   "metadata": {},
   "source": [
    "- Python has a set of built-in methods that you can use on list."
   ]
  },
  {
   "cell_type": "markdown",
   "id": "d9dbf1fe-73e5-460e-acbd-05de39ce7b19",
   "metadata": {},
   "source": [
    "| Methods| Description |\n",
    "|--------|-------------|\n",
    "| append()| Adds an element at the end of the list|\n",
    "| extend()| Add the elements of a list to the end of the current list|\n",
    "| insert()| Adds an element at the specified position|\n",
    "| remove()| Removes the item with the specified value|\n",
    "|pop()| Remove the element at the specified position|\n",
    "| index()| Returns the index of the first element with the specified value|\n",
    "| count()| Returns the numbetr of elements with the specified value|\n",
    "| sort()| It can sort the list in ascending order|\n",
    "| reverse()| Reverse the order of element in the list|\n"
   ]
  },
  {
   "cell_type": "code",
   "execution_count": 247,
   "id": "32d7ffff-9fcf-45d4-9c75-d33559752448",
   "metadata": {},
   "outputs": [
    {
     "name": "stdout",
     "output_type": "stream",
     "text": [
      "[1, 2, 3, 25]\n",
      "['apple', 'mango', 'banana', 'cherry', 'water']\n",
      "['Ali', 'Sakku', 'drlg', 'deva', 'gopal']\n",
      "[-1, -2, 5, 6]\n",
      "['sakku', 'gopal', 'deva', 'balu']\n",
      "drlg\n",
      "2\n",
      "2\n",
      "['A', 'B', 'C', 'a', 'b', 'c', 'd']\n",
      "[' World', 'Hello']\n"
     ]
    }
   ],
   "source": [
    "# Example on append() - Method\n",
    "num = [1,2,3]\n",
    "num.append(25)\n",
    "print(num)\n",
    "\n",
    "# Example on extend() - Method\n",
    "fruits = [\"apple\",\"mango\",\"banana\"]\n",
    "add = (\"cherry\",\"water\")\n",
    "fruits.extend(add)\n",
    "print(fruits)\n",
    "\n",
    "# Example on insert() - Method\n",
    "names = [\"Ali\", \"Sakku\",\"deva\",\"gopal\"]\n",
    "names.insert(2,\"drlg\")\n",
    "print(names)\n",
    "\n",
    "# Examples on remove() - Method\n",
    "num = [-1, -2, 5 ,6 , 6]\n",
    "num.remove(6)\n",
    "print(num)\n",
    "\n",
    "# Examples on pop() - Method\n",
    "names = [\"sakku\",\"gopal\",\"deva\",\"balu\",\"drlg\"]\n",
    "elements = names.pop()\n",
    "print(names)\n",
    "print(elements)\n",
    "\n",
    "# Examples on index() - Method\n",
    "movies  = [\"kgh\",\"og\",\"arjun reddy\", \"stri\"]\n",
    "index = movies. index(\"arjun reddy\")\n",
    "print(index)\n",
    "\n",
    "# Example on count() - Method\n",
    "names = [\"sakku\",\"gopal\",\"deva\",\"balu\",\"drlg\",\"drlg\"]\n",
    "elements = names.count(\"drlg\")\n",
    "print(elements)\n",
    "\n",
    "# Example on sort() - Method\n",
    "words = [\"a\",\"b\",\"c\",\"d\",\"A\",\"B\",\"C\",]\n",
    "words.sort()\n",
    "print(words)\n",
    "\n",
    "# Example on reverse() - Method\n",
    "string = [\"Hello\",\" World\"]\n",
    "reverse = string.reverse()\n",
    "print(string)\n",
    "\n"
   ]
  },
  {
   "cell_type": "markdown",
   "id": "818c16be-9516-471a-aec1-dcbe17d718e6",
   "metadata": {},
   "source": [
    "### New Methods in List"
   ]
  },
  {
   "cell_type": "markdown",
   "id": "7bc89a89-12b5-458d-af00-ba9cf9977e7e",
   "metadata": {},
   "source": [
    "- There are some new methods in list "
   ]
  },
  {
   "cell_type": "markdown",
   "id": "a2fab001-8465-4260-939b-f47b0908d256",
   "metadata": {},
   "source": [
    "| Methods| Description |\n",
    "|--------|-------------|\n",
    "| clear()| Removes all the elements from the list|\n",
    "| copy()| Returns a copy of the list |\n",
    "| del()| The del keyword also removes the specified index|"
   ]
  },
  {
   "cell_type": "code",
   "execution_count": 185,
   "id": "dc8aa9bb-0cee-4ba6-b95d-0aa1399130ab",
   "metadata": {},
   "outputs": [
    {
     "name": "stdout",
     "output_type": "stream",
     "text": [
      "[]\n",
      "[1, 2, 3, 5]\n",
      "['apple', 'banana', 'mango']\n"
     ]
    }
   ],
   "source": [
    "# Example on clear() - Method\n",
    "fruits = [\"apple\", \"banana\", \"cherry\"]\n",
    "fruits.clear()\n",
    "print(fruits)\n",
    "\n",
    "# Example on copy() - Method\n",
    "list = [1, 2, 3, 5]\n",
    "list2 = list.copy()\n",
    "print(list2)\n",
    "\n",
    "# Example on del() - Method\n",
    "fruits = [\"apple\", \"banana\", \"cherry\",\"mango\"]\n",
    "del fruits[2]\n",
    "print(fruits)\n"
   ]
  },
  {
   "cell_type": "markdown",
   "id": "fa63cd4a-7d15-4338-ba55-e1e9b1968af5",
   "metadata": {},
   "source": [
    "# Python Tuple"
   ]
  },
  {
   "cell_type": "markdown",
   "id": "e915708b-5efa-442f-9725-965994cb45f5",
   "metadata": {},
   "source": [
    "- Tuples are used to store multiple items in a single variable.\n",
    "- A tuple is a collection which is ordered and Unchangeable.\n",
    "- Tuples are written with round brackets ( ) and separated by commas.\n",
    "- Tuples are ordered,unchangeable and allow duplicate values.\n",
    "- Tuple items are indexed the first item has index [0] and the second item has index [1] and so..on ."
   ]
  },
  {
   "cell_type": "markdown",
   "id": "23b2a55f-3db3-480c-a35a-6c9805b726f6",
   "metadata": {},
   "source": [
    "## Feacture's of Tuples"
   ]
  },
  {
   "cell_type": "markdown",
   "id": "3296331d-e738-43c0-bb04-8bc610b01674",
   "metadata": {},
   "source": [
    "1. Orderd : When we say that tuples are orderd it means that the items have a defined order and the order will not change.\n",
    "2. Unchangeable : Tuples are unchangeable meaning that we cannot change, add or remove items after the tuple has been created.\n",
    "3. Allow Duplicates : Since tuples are indexed they can have items with the same value."
   ]
  },
  {
   "cell_type": "markdown",
   "id": "0f309e24-3870-4aed-b0a7-7e55d2e50cb2",
   "metadata": {},
   "source": [
    "## Tuple creation"
   ]
  },
  {
   "cell_type": "code",
   "execution_count": 200,
   "id": "32377202-c34e-44b4-9bce-2f68e936e3a7",
   "metadata": {},
   "outputs": [
    {
     "name": "stdout",
     "output_type": "stream",
     "text": [
      "('apple', 1, True, 10.5)\n"
     ]
    }
   ],
   "source": [
    "tuple = (\"apple\",1,True,10.5)\n",
    "print(tuple)"
   ]
  },
  {
   "cell_type": "markdown",
   "id": "69cc8f02-4a51-464b-9a3a-7e16a73bf102",
   "metadata": {},
   "source": [
    "### Access Tuple items"
   ]
  },
  {
   "cell_type": "markdown",
   "id": "15348a45-1871-44a6-8440-de556dc2a7ac",
   "metadata": {},
   "source": [
    "- We can access tuple items by referring to the index number and inside square brackets.\n",
    "- Tuples support indexing and slicing just like a list. Here in this indexing we will have +ve and -ve indexing.\n",
    "- Where the +ve  indexing was from LHS to RHS\n",
    "- And the -ve  indexing from RHS to LHS."
   ]
  },
  {
   "cell_type": "code",
   "execution_count": 218,
   "id": "f56562ca-3f5e-4bf6-800f-ad579c7aba8e",
   "metadata": {},
   "outputs": [
    {
     "name": "stdout",
     "output_type": "stream",
     "text": [
      "cherry\n",
      "banana\n"
     ]
    }
   ],
   "source": [
    "# Examples on +ve and -ve indexing\n",
    "fruits = (\"apple\", \"banana\", \"cherry\")\n",
    "print(fruits[-1]) #-ve \n",
    "print(fruits[1])  #+ve"
   ]
  },
  {
   "cell_type": "markdown",
   "id": "0c29f956-ab34-4dce-b8ba-aa1971a99324",
   "metadata": {},
   "source": [
    "## Slicing of a Tuple\n",
    "- We can specify a range of indexes by specifying where to start and where to end the range.\n",
    "- When specifying a range the return value will be a new tuple with the specified items."
   ]
  },
  {
   "cell_type": "code",
   "execution_count": 215,
   "id": "c6ced394-9d89-4065-ac64-9cdc950548aa",
   "metadata": {},
   "outputs": [
    {
     "name": "stdout",
     "output_type": "stream",
     "text": [
      "('cherry', 'orange', 'kiwi', 'melon')\n"
     ]
    }
   ],
   "source": [
    "# Example \n",
    "fruits = (\"apple\", \"banana\", \"cherry\", \"orange\", \"kiwi\", \"melon\", \"mango\")\n",
    "print(fruits[2:6])"
   ]
  },
  {
   "cell_type": "markdown",
   "id": "3858f2b6-805e-47fb-88ea-a5194bd6d6e2",
   "metadata": {},
   "source": [
    "### Immutability"
   ]
  },
  {
   "cell_type": "markdown",
   "id": "078625af-490d-4987-9bd2-81034e679f97",
   "metadata": {},
   "source": [
    " - Once a tuple is created we cannot change its elements or add/remove elements "
   ]
  },
  {
   "cell_type": "code",
   "execution_count": 222,
   "id": "e4cd80a4-df60-4f7b-81b2-b90fbd1a30d7",
   "metadata": {},
   "outputs": [
    {
     "ename": "TypeError",
     "evalue": "'tuple' object does not support item assignment",
     "output_type": "error",
     "traceback": [
      "\u001b[1;31m---------------------------------------------------------------------------\u001b[0m",
      "\u001b[1;31mTypeError\u001b[0m                                 Traceback (most recent call last)",
      "Cell \u001b[1;32mIn[222], line 3\u001b[0m\n\u001b[0;32m      1\u001b[0m \u001b[38;5;66;03m# Example\u001b[39;00m\n\u001b[0;32m      2\u001b[0m fruits \u001b[38;5;241m=\u001b[39m (\u001b[38;5;124m\"\u001b[39m\u001b[38;5;124mmango\u001b[39m\u001b[38;5;124m\"\u001b[39m,\u001b[38;5;124m\"\u001b[39m\u001b[38;5;124mkiwi\u001b[39m\u001b[38;5;124m\"\u001b[39m,\u001b[38;5;124m\"\u001b[39m\u001b[38;5;124mgrapes\u001b[39m\u001b[38;5;124m\"\u001b[39m)\n\u001b[1;32m----> 3\u001b[0m fruits[\u001b[38;5;241m1\u001b[39m] \u001b[38;5;241m=\u001b[39m \u001b[38;5;124m\"\u001b[39m\u001b[38;5;124mwatermelon\u001b[39m\u001b[38;5;124m\"\u001b[39m\n\u001b[0;32m      4\u001b[0m \u001b[38;5;28mprint\u001b[39m(fruits)\n",
      "\u001b[1;31mTypeError\u001b[0m: 'tuple' object does not support item assignment"
     ]
    }
   ],
   "source": [
    "# Example\n",
    "fruits = (\"mango\",\"kiwi\",\"grapes\")\n",
    "fruits[1] = \"watermelon\"\n",
    "print(fruits)"
   ]
  },
  {
   "cell_type": "markdown",
   "id": "6f1529b4-de50-4af2-b779-8601fff421de",
   "metadata": {},
   "source": [
    "## Tuple operations"
   ]
  },
  {
   "cell_type": "markdown",
   "id": "1dfa76f3-4a68-4184-b1e0-aba6f9d4c84f",
   "metadata": {},
   "source": [
    "- Same as a list we will have operations on tuple also.\n",
    "1. Concatenation\n",
    "2. Repetation"
   ]
  },
  {
   "cell_type": "code",
   "execution_count": 236,
   "id": "f53e1962-b079-4c26-aa87-c9790492c0c0",
   "metadata": {},
   "outputs": [
    {
     "name": "stdout",
     "output_type": "stream",
     "text": [
      "(1, 2, 3, 4, 5, 6)\n",
      "(4, 5, 6, 4, 5, 6, 4, 5, 6)\n"
     ]
    }
   ],
   "source": [
    "# Example program on Concatenation\n",
    "tuple1 = (4,5,6)\n",
    "tuple2 = (1,2,3)\n",
    "print(tuple2 + tuple1)\n",
    "\n",
    "# Example program on Repetiton\n",
    "tuple1 = (4,5,6)\n",
    "print(tuple1 * 3)"
   ]
  },
  {
   "cell_type": "markdown",
   "id": "b948f2ad-9acf-4e76-880d-ccadb4cba6df",
   "metadata": {},
   "source": [
    "## Tuple Methods"
   ]
  },
  {
   "cell_type": "markdown",
   "id": "4a7f0689-d512-4093-9a98-7545c32894ba",
   "metadata": {},
   "source": [
    "- Tuple have limited methods compared to list due to their immutability.\n",
    "- It has two built-in methods that we can use on tuples."
   ]
  },
  {
   "cell_type": "markdown",
   "id": "4c97d0f0-c070-444a-a039-5d020ea27438",
   "metadata": {},
   "source": [
    "| Methods| Description |\n",
    "|--------|-------------|\n",
    "| count()| Returns the number of times a specified value occurs in a tuple|\n",
    "| index()| Searches the tuple for a specified value and return the position of where it was found|"
   ]
  },
  {
   "cell_type": "code",
   "execution_count": 249,
   "id": "82c9356a-2de8-4353-a2c3-fcb7bddb42bd",
   "metadata": {},
   "outputs": [
    {
     "name": "stdout",
     "output_type": "stream",
     "text": [
      "2\n",
      "2\n"
     ]
    }
   ],
   "source": [
    "# Example on count() -  Method\n",
    "names = (\"sakku\",\"gopal\",\"deva\",\"balu\",\"drlg\",\"drlg\")\n",
    "elements = names.count(\"drlg\")\n",
    "print(elements)\n",
    "\n",
    "# Examples on index() - Method\n",
    "movies  = (\"kgh\",\"og\",\"arjun reddy\", \"stri\")\n",
    "index = movies. index(\"arjun reddy\")\n",
    "print(index)\n"
   ]
  }
 ],
 "metadata": {
  "kernelspec": {
   "display_name": "Python 3 (ipykernel)",
   "language": "python",
   "name": "python3"
  },
  "language_info": {
   "codemirror_mode": {
    "name": "ipython",
    "version": 3
   },
   "file_extension": ".py",
   "mimetype": "text/x-python",
   "name": "python",
   "nbconvert_exporter": "python",
   "pygments_lexer": "ipython3",
   "version": "3.12.4"
  }
 },
 "nbformat": 4,
 "nbformat_minor": 5
}
