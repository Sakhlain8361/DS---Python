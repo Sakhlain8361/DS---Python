{
 "cells": [
  {
   "cell_type": "markdown",
   "id": "a638b254-8276-4061-a1cf-87b99902618a",
   "metadata": {},
   "source": [
    "## Python Data Types"
   ]
  },
  {
   "cell_type": "markdown",
   "id": "5a4167ca-04be-4117-a331-acdafe50227d",
   "metadata": {},
   "source": [
    "- Data types in Python define the kind of value a variable can hold and the operations that can be performed on it.\n",
    "- Variables can store data of different types, and different types can do different things.\n",
    "- Pyhton has various Built-in data types."
   ]
  },
  {
   "cell_type": "markdown",
   "id": "7f5143a7-2fa1-465f-bae4-b27da5dd6b2f",
   "metadata": {},
   "source": [
    "### Data Type Examples"
   ]
  },
  {
   "cell_type": "markdown",
   "id": "aa89f48b-0340-4248-b3a7-ab429d677c8b",
   "metadata": {},
   "source": [
    "- Text Type     :\tstr\r",
    "- \n",
    "Numeric Type s:\tint, float, complex- \r\n",
    "Sequence Types:\tlist, tuple, rang- e\r\n",
    "Mapping T  ype:\tdi- ct\r\n",
    "Set T     ypes:\tset, frozen- set\r\n",
    "Boolean   Type:oneType"
   ]
  },
  {
   "cell_type": "markdown",
   "id": "0d1cdc36-0f31-452d-939e-118b3a047948",
   "metadata": {},
   "source": [
    "## Python Numbers"
   ]
  },
  {
   "cell_type": "markdown",
   "id": "b9583aae-1066-4c56-9df0-a022b02d2835",
   "metadata": {},
   "source": [
    "- Numbers in Python represent numerical values used for mathematical operations and calculations.\n",
    "- They are a fundamental data type that forms the backbone of many Python programs.\n",
    "- Python supports three primary number types:\n",
    "1. Integers (int) : Whole numbers without decimal points, such as -2, 0, 5, 100.\n",
    "2. Floating-point numbers (float) : Real numbers with decimal points, like 3.14, -2.5, 0.0.\n",
    "3. Complex numbers : Numbers with both real and imaginary parts, represented as a + bj, where a and b are floats, and j is the imaginary unit."
   ]
  },
  {
   "cell_type": "code",
   "execution_count": 169,
   "id": "86fa0759-de5a-48d5-adf5-2a7ab834eee9",
   "metadata": {},
   "outputs": [
    {
     "name": "stdout",
     "output_type": "stream",
     "text": [
      "10\n",
      "21\n",
      "583\n",
      "-25\n",
      "2024\n",
      "<class 'int'>\n",
      "<class 'int'>\n",
      "<class 'int'>\n",
      "<class 'int'>\n",
      "<class 'int'>\n"
     ]
    }
   ],
   "source": [
    "#Eaxmples for Python Numbers - int, float & complex\n",
    "\n",
    "# 5 examples on int \n",
    "\n",
    "x = 10\n",
    "Age = 21\n",
    "student_roll_number = 583\n",
    "tempecture = -25\n",
    "year_month= 2024\n",
    "\n",
    "print(x)\n",
    "print(Age)\n",
    "print(student_roll_number)\n",
    "print(tempecture)\n",
    "print(year_month)\n",
    "\n",
    "print(type(x))\n",
    "print(type(Age))\n",
    "print(type(student_roll_number))\n",
    "print(type(tempecture))\n",
    "print(type(year_month))\n",
    "\n"
   ]
  },
  {
   "cell_type": "code",
   "execution_count": 42,
   "id": "8da61ab0-85b9-4d11-8730-c4e3d2de411e",
   "metadata": {},
   "outputs": [
    {
     "name": "stdout",
     "output_type": "stream",
     "text": [
      "7.23\n",
      "-25.4\n",
      "67.8\n",
      "0.0\n",
      "3.4\n",
      "<class 'float'>\n",
      "<class 'float'>\n",
      "<class 'float'>\n",
      "<class 'float'>\n",
      "<class 'float'>\n"
     ]
    }
   ],
   "source": [
    "## 5 Examples on float\n",
    "\n",
    "Cgpa = 7.23\n",
    "tempecture = -25.4\n",
    "weight = 67.8\n",
    "account_balance = 0.0 \n",
    "hstl_teks_kilometers = 3.4\n",
    "\n",
    "print(Cgpa)\n",
    "print(tempecture)\n",
    "print(weight)\n",
    "print(account_balance)\n",
    "print(hstl_teks_kilometers)\n",
    "\n",
    "print(type(Cgpa))\n",
    "print(type(tempecture))\n",
    "print(type(weight))\n",
    "print(type(account_balance))\n",
    "print(type(hstl_teks_kilometers))"
   ]
  },
  {
   "cell_type": "code",
   "execution_count": 66,
   "id": "0dae77ba-0e76-43ac-91e1-1b3067bbd5a3",
   "metadata": {},
   "outputs": [
    {
     "name": "stdout",
     "output_type": "stream",
     "text": [
      "7j\n",
      "(5-2j)\n",
      "(-2+8j)\n",
      "50j\n",
      "-5j\n",
      "<class 'complex'>\n",
      "<class 'complex'>\n",
      "<class 'complex'>\n",
      "<class 'complex'>\n",
      "<class 'complex'>\n"
     ]
    }
   ],
   "source": [
    "## 5 Examples on complex\n",
    "\n",
    "x1 = 7j\n",
    "x2 = 5 - 2j\n",
    "y3 = -2 + 8j\n",
    "y4 = 10 * 5j\n",
    "z5 = 10 / 2j\n",
    "\n",
    "print(x1)\n",
    "print(x2)\n",
    "print(y3)\n",
    "print(y4)\n",
    "print(z5)\n",
    "\n",
    "print(type(x1))\n",
    "print(type(x2))\n",
    "print(type(y3))\n",
    "print(type(y4))\n",
    "print(type(z5))"
   ]
  },
  {
   "cell_type": "markdown",
   "id": "dbecc22a-d893-4222-a025-8f64984e872b",
   "metadata": {},
   "source": [
    "## Type Conversion's "
   ]
  },
  {
   "cell_type": "markdown",
   "id": "f5c7049e-0f31-44bf-9280-3152efd0fec0",
   "metadata": {},
   "source": [
    "- It refer to the process of converting one data type into another.\n",
    "- In this Type Conversion there are 2 types of conversion's\n",
    "1. Implicit Conversion\n",
    "2. Explicit Conversion\n",
    "- NOTE : We can not convert complex number's into another numbers.\n"
   ]
  },
  {
   "cell_type": "code",
   "execution_count": 86,
   "id": "2ccce0a2-0ab1-473d-ab49-30297e8df444",
   "metadata": {},
   "outputs": [
    {
     "name": "stdout",
     "output_type": "stream",
     "text": [
      "10.0\n",
      "21.0\n",
      "583.0\n",
      "-25.0\n",
      "2024.0\n",
      "7702729267.0\n",
      "0.0\n",
      "22.0\n",
      "7.0\n",
      "522403.0\n",
      "<class 'float'>\n",
      "<class 'float'>\n",
      "<class 'float'>\n",
      "<class 'float'>\n",
      "<class 'float'>\n",
      "<class 'float'>\n",
      "<class 'float'>\n",
      "<class 'float'>\n",
      "<class 'float'>\n",
      "<class 'float'>\n"
     ]
    }
   ],
   "source": [
    "# 10 Examples of Converting int - float \n",
    "\n",
    "x = float(10)\n",
    "Age = float(21)\n",
    "student_roll_number = float(583)\n",
    "tempecture = float(-25)\n",
    "year_month = float(2024)\n",
    "mobile_number = float(7702729267)\n",
    "zero = float(0)\n",
    "num = float(22)\n",
    "kphb_phase = float(7)\n",
    "_pin_code = float(522403)\n",
    "\n",
    "print(x)\n",
    "print(Age)\n",
    "print(student_roll_number)\n",
    "print(tempecture)\n",
    "print(year_month)\n",
    "print(mobile_number)\n",
    "print(zero)\n",
    "print(num)\n",
    "print(kphb_phase)\n",
    "print(_pin_code)\n",
    "\n",
    "print(type(x))\n",
    "print(type(Age))\n",
    "print(type(student_roll_number))\n",
    "print(type(tempecture))\n",
    "print(type(year_month))\n",
    "print(type(mobile_number))\n",
    "print(type(zero))\n",
    "print(type(num))\n",
    "print(type(kphb_phase))\n",
    "print(type(_pin_code))\n",
    "\n",
    "\n",
    "\n"
   ]
  },
  {
   "cell_type": "code",
   "execution_count": 94,
   "id": "440a1c32-1bd2-4bce-a30b-68e16fd14a7e",
   "metadata": {},
   "outputs": [
    {
     "name": "stdout",
     "output_type": "stream",
     "text": [
      "7\n",
      "-25\n",
      "67\n",
      "0\n",
      "3\n",
      "10\n",
      "5\n",
      "583\n",
      "-25\n",
      "2024\n",
      "<class 'int'>\n",
      "<class 'int'>\n",
      "<class 'int'>\n",
      "<class 'int'>\n",
      "<class 'int'>\n",
      "<class 'int'>\n",
      "<class 'int'>\n",
      "<class 'int'>\n",
      "<class 'int'>\n",
      "<class 'int'>\n"
     ]
    }
   ],
   "source": [
    "# 10 Examples of Converting float - int\n",
    "\n",
    "Cgpa = int(7.23)\n",
    "tempecture = int(-25.4)\n",
    "weight = int(67.8)\n",
    "account_balance = int(0.0)\n",
    "hstl_teks_kilometers = int(3.4)\n",
    "x = int(10.5)\n",
    "height = int(5.7)\n",
    "decimal_number = int(583.20)\n",
    "tempecture = int(-25.54)\n",
    "floating_point = int(2024.8)\n",
    "\n",
    "print(Cgpa)\n",
    "print(tempecture)\n",
    "print(weight)\n",
    "print(account_balance )\n",
    "print(hstl_teks_kilometers)\n",
    "print(x)\n",
    "print(height)\n",
    "print(decimal_number)\n",
    "print(tempecture)\n",
    "print(floating_point)\n",
    "\n",
    "print(type(Cgpa))\n",
    "print(type(tempecture))\n",
    "print(type(weight))\n",
    "print(type(account_balance ))\n",
    "print(type(hstl_teks_kilometers))\n",
    "print(type(x))\n",
    "print(type(height))\n",
    "print(type(decimal_number))\n",
    "print(type(tempecture))\n",
    "print(type(floating_point))"
   ]
  },
  {
   "cell_type": "markdown",
   "id": "25955779-58b7-4dc0-bf0b-a36347467498",
   "metadata": {},
   "source": [
    "## Python Boolean's "
   ]
  },
  {
   "cell_type": "markdown",
   "id": "81c959d1-a625-4596-87ea-fe7174e659ff",
   "metadata": {},
   "source": [
    "- Booleans in Python are a data type that represents one of two values : True or False.\n",
    "- They are fundamental for decision-making and controlling the flow of your program."
   ]
  },
  {
   "cell_type": "markdown",
   "id": "866699fb-83d8-45b0-9a4d-8380bc12ca5b",
   "metadata": {},
   "source": [
    "### Key Points"
   ]
  },
  {
   "cell_type": "markdown",
   "id": "208beea6-4c5a-414c-84e9-2a703aa88ce1",
   "metadata": {},
   "source": [
    "1. Values: There are only two possible Boolean values: True and False.\n",
    "2. Case-sensitive: True and False must be capitalized.\n",
    "3. Usage: Booleans are used in conditional statements (like if and else), loops, and logical operations.\n",
    "4. Conversion: Other data types can be converted to Booleans using the bool() function."
   ]
  },
  {
   "cell_type": "code",
   "execution_count": 122,
   "id": "7b912eef-4334-4a62-a316-f42808e3e840",
   "metadata": {},
   "outputs": [
    {
     "name": "stdout",
     "output_type": "stream",
     "text": [
      "True\n",
      "False\n",
      "True\n",
      "False\n",
      "False\n",
      "<class 'bool'>\n",
      "<class 'bool'>\n",
      "<class 'bool'>\n",
      "<class 'bool'>\n",
      "<class 'bool'>\n"
     ]
    }
   ],
   "source": [
    "x = (15 > 9)\n",
    "y = (13 == 1)\n",
    "z = (1 >= 1)\n",
    "p = (15 <= 10)\n",
    "q = (12 < 7)\n",
    "\n",
    "print(x)\n",
    "print(y)\n",
    "print(z)\n",
    "print(p)\n",
    "print(q)\n",
    "\n",
    "print(type(x))\n",
    "print(type(y))\n",
    "print(type(z))\n",
    "print(type(p))\n",
    "print(type(q))"
   ]
  },
  {
   "cell_type": "markdown",
   "id": "6915ead1-3f69-4548-8d33-03c9def7d2fd",
   "metadata": {},
   "source": [
    "### bool() - Function\n"
   ]
  },
  {
   "cell_type": "markdown",
   "id": "433583bc-7f9f-4e77-91ba-5d4b4516e4d2",
   "metadata": {},
   "source": [
    "- The bool() function in Python is used to convert a value into a Boolean value, which can be either True or False."
   ]
  },
  {
   "cell_type": "code",
   "execution_count": 160,
   "id": "0d7a8a74-7388-453a-822a-54d9cd1bf503",
   "metadata": {},
   "outputs": [
    {
     "name": "stdout",
     "output_type": "stream",
     "text": [
      "False\n",
      "True\n",
      "False\n",
      "True\n",
      "True\n",
      "True\n",
      "True\n",
      "True\n",
      "True\n",
      "True\n",
      "<class 'bool'>\n",
      "<class 'bool'>\n",
      "<class 'bool'>\n",
      "<class 'bool'>\n",
      "<class 'bool'>\n",
      "<class 'bool'>\n",
      "<class 'bool'>\n",
      "<class 'bool'>\n",
      "<class 'bool'>\n",
      "<class 'bool'>\n"
     ]
    }
   ],
   "source": [
    "# Examples on bool() - Function\n",
    "b = (0)\n",
    "o1 = (83,61)\n",
    "o2 = (0.0)\n",
    "l = (-56,17)\n",
    "f = (10.5, 5.5)\n",
    "u= (7036989234, 7702729267)\n",
    "n = (2*3, 44)\n",
    "c = (4/4 , 5>5)\n",
    "t = (5.5)\n",
    "i = (2.3,323.23,23.23)\n",
    "\n",
    "print(bool(b))\n",
    "print(bool(o1))\n",
    "print(bool(o2))\n",
    "print(bool(l))\n",
    "print(bool(f))\n",
    "print(bool(u))\n",
    "print(bool(n))\n",
    "print(bool(c))\n",
    "print(bool(t))\n",
    "print(bool(i))\n",
    "\n",
    "print(type(bool(b)))\n",
    "print(type(bool(o1)))\n",
    "print(type(bool(o2)))\n",
    "print(type(bool(l)))\n",
    "print(type(bool(f)))\n",
    "print(type(bool(u)))\n",
    "print(type(bool(n)))\n",
    "print(type(bool(c)))\n",
    "print(type(bool(t)))\n",
    "print(type(bool(i)))"
   ]
  }
 ],
 "metadata": {
  "kernelspec": {
   "display_name": "Python 3 (ipykernel)",
   "language": "python",
   "name": "python3"
  },
  "language_info": {
   "codemirror_mode": {
    "name": "ipython",
    "version": 3
   },
   "file_extension": ".py",
   "mimetype": "text/x-python",
   "name": "python",
   "nbconvert_exporter": "python",
   "pygments_lexer": "ipython3",
   "version": "3.12.4"
  }
 },
 "nbformat": 4,
 "nbformat_minor": 5
}
