{
 "cells": [
  {
   "cell_type": "markdown",
   "id": "d95a13e1-4eb8-4926-a51d-aafcceeb9ddf",
   "metadata": {},
   "source": [
    "# Control Statements"
   ]
  },
  {
   "cell_type": "markdown",
   "id": "954e7f57-d2ca-440b-9512-596075b5c3ed",
   "metadata": {},
   "source": [
    "- In python, `pass`, `break` and `continue` are control flow statements used within loops.\n",
    "- They provide way's to control the execution of a loop (or) to handel certain situation's."
   ]
  },
  {
   "cell_type": "markdown",
   "id": "81993fa7-4e2d-4d2b-a212-2ef2afe4f5c4",
   "metadata": {},
   "source": [
    "## 1.`pass:`"
   ]
  },
  {
   "cell_type": "markdown",
   "id": "39326811-9a6f-4a8d-9bbf-8062cbc328e1",
   "metadata": {},
   "source": [
    "- The `pass` statement in python is a placeholder that dose nothing.\n",
    "- It is often used when a statement is required but we don't want to execute any code.\n",
    "- The `pass` statement is a `no - operation` statement."
   ]
  },
  {
   "cell_type": "code",
   "execution_count": 7,
   "id": "a5c3caeb-b6ad-4225-bcfb-7ae30ad1a9ff",
   "metadata": {},
   "outputs": [
    {
     "name": "stdout",
     "output_type": "stream",
     "text": [
      "0\n",
      "1\n",
      "2\n",
      "3\n",
      "4\n",
      "5\n",
      "7\n",
      "8\n"
     ]
    }
   ],
   "source": [
    "# Example Program - 1\n",
    "\n",
    "for i in range(10):\n",
    "    if i == 6 or i ==9:\n",
    "        pass\n",
    "    else:\n",
    "        print(i)"
   ]
  },
  {
   "cell_type": "code",
   "execution_count": 19,
   "id": "b61bcc64-4b45-4345-b9ba-3a64d27d17f2",
   "metadata": {},
   "outputs": [],
   "source": [
    "# Example Program - 2\n",
    "\n",
    "for fruit in [\"apple\", \"banana\", \"orange\"]:\n",
    "    pass"
   ]
  },
  {
   "cell_type": "code",
   "execution_count": 23,
   "id": "76d8955a-d293-46d4-9211-8054faedd53f",
   "metadata": {},
   "outputs": [],
   "source": [
    "# Example Program - 3\n",
    "\n",
    "coordinates = (83,61)\n",
    "for coord in coordinates:\n",
    "    pass"
   ]
  },
  {
   "cell_type": "markdown",
   "id": "7482a3b6-4844-4dbf-bb15-1add35d2784d",
   "metadata": {},
   "source": [
    "## 2.`break:`"
   ]
  },
  {
   "cell_type": "markdown",
   "id": "e9148289-9140-43cf-a379-d4c028bcac64",
   "metadata": {},
   "source": [
    "- The break statement is used to exit a loop permentaly.\n",
    "- When a break statement is encountered the loop terminates immediately and the control is transferred to the statement immediatly following the loop.\n",
    "- With the `break` statement we can stop the loop before it has looped though all the items. "
   ]
  },
  {
   "cell_type": "code",
   "execution_count": 38,
   "id": "635a78b8-39f9-4ff9-93ba-e02800c0101a",
   "metadata": {},
   "outputs": [
    {
     "name": "stdout",
     "output_type": "stream",
     "text": [
      "0\n",
      "1\n",
      "2\n",
      "3\n",
      "4\n",
      "5\n",
      "6\n",
      "8\n",
      "9\n",
      "10\n",
      "11\n",
      "12\n",
      "13\n",
      "14\n",
      "15\n",
      "16\n"
     ]
    }
   ],
   "source": [
    "# Example Program - 1\n",
    "\n",
    "for i in range (20):\n",
    "    if i == 7:\n",
    "        pass\n",
    "    elif i == 17:\n",
    "        break\n",
    "    else:\n",
    "        print(i)"
   ]
  },
  {
   "cell_type": "code",
   "execution_count": 48,
   "id": "e60cfd0a-62ed-4940-96f1-0eb96b63af26",
   "metadata": {},
   "outputs": [
    {
     "name": "stdout",
     "output_type": "stream",
     "text": [
      "apple\n",
      "banana\n"
     ]
    }
   ],
   "source": [
    "# Example Program - 2\n",
    "\n",
    "fruits = ['apple', 'banana', 'mango']\n",
    "for x in fruits:\n",
    "    print(x)\n",
    "    if x == 'banana':\n",
    "        break"
   ]
  },
  {
   "cell_type": "markdown",
   "id": "553de330-c9d6-48a5-b6cb-c82ed5d467b9",
   "metadata": {},
   "source": [
    "## 3.`continue:` "
   ]
  },
  {
   "cell_type": "markdown",
   "id": "370a53c2-f383-4ed9-8d2b-939131d77d97",
   "metadata": {},
   "source": [
    "- The `continue` statement is used to skip the rest of the code inside a loop for the current iteration and move to the next iteration."
   ]
  },
  {
   "cell_type": "code",
   "execution_count": 71,
   "id": "a6480f81-6805-4ae9-b404-3f3f6be4c37e",
   "metadata": {},
   "outputs": [
    {
     "name": "stdout",
     "output_type": "stream",
     "text": [
      "apple\n",
      "mango\n",
      "cherry\n"
     ]
    }
   ],
   "source": [
    "# Example Program \n",
    "\n",
    "for i in ['apple', 'mango', 'banana', 'cherry']:\n",
    "    if i == 'banana':\n",
    "        continue\n",
    "    print(i)"
   ]
  }
 ],
 "metadata": {
  "kernelspec": {
   "display_name": "Python 3 (ipykernel)",
   "language": "python",
   "name": "python3"
  },
  "language_info": {
   "codemirror_mode": {
    "name": "ipython",
    "version": 3
   },
   "file_extension": ".py",
   "mimetype": "text/x-python",
   "name": "python",
   "nbconvert_exporter": "python",
   "pygments_lexer": "ipython3",
   "version": "3.12.4"
  }
 },
 "nbformat": 4,
 "nbformat_minor": 5
}
