{
 "cells": [
  {
   "cell_type": "markdown",
   "id": "c18c6ff3-ecba-43bf-8b26-b8abb80c9e34",
   "metadata": {},
   "source": [
    "# Loop Statements"
   ]
  },
  {
   "cell_type": "markdown",
   "id": "56dd92a9-262d-4489-9d7d-6bc24910f69d",
   "metadata": {},
   "source": [
    "- In Python, loop statements are used to repeatedly execute a block of code until a certain condition is met.\n",
    "-  This can be very useful for tasks that involve iteration over a sequence of values or performing a specific action multiple times.\n",
    "-  There are two main types of loop statements in Python:\n",
    "  1. for loop\n",
    "  2. while loop\n",
    "     "
   ]
  },
  {
   "cell_type": "markdown",
   "id": "eb0a6183-3f80-4487-9b63-2fb39b6c3c51",
   "metadata": {},
   "source": [
    "## 1.`for loop:`"
   ]
  },
  {
   "cell_type": "markdown",
   "id": "1e7cff7f-6f83-4708-aeab-fa20bb44c44d",
   "metadata": {},
   "source": [
    "- Used to iterate over a sequence of elements (like lists, tuples, strings, or ranges).\n",
    "- The loop variable takes on the value of each element in the sequence during each iteration."
   ]
  },
  {
   "cell_type": "markdown",
   "id": "108729af-ae0b-4c17-9d85-32cede046730",
   "metadata": {},
   "source": [
    "### Syntax"
   ]
  },
  {
   "cell_type": "code",
   "execution_count": null,
   "id": "16cfe0ee-ce2a-416c-9b7c-45f920217e3f",
   "metadata": {},
   "outputs": [],
   "source": [
    "for element in iterable:\n",
    "    # Code to be executed for each element"
   ]
  },
  {
   "cell_type": "markdown",
   "id": "2ce8fe2c-f51e-43ad-b559-3506eb7b4214",
   "metadata": {},
   "source": [
    "- `element` : A variable that takes on the value of each element in the iterable during each iteration.\n",
    "- `iterable` : Any object that can be iterated over, such as a list, tuple, string, dictionary, or range."
   ]
  },
  {
   "cell_type": "code",
   "execution_count": 9,
   "id": "9ac3b851-4800-4e52-8f88-bdc8b424b631",
   "metadata": {},
   "outputs": [
    {
     "name": "stdout",
     "output_type": "stream",
     "text": [
      "apple\n",
      "banana\n",
      "orange\n"
     ]
    }
   ],
   "source": [
    "# Example program - 1\n",
    "# iterating over list:\n",
    "\n",
    "fruits = [\"apple\", \"banana\", \"orange\"]\n",
    "for fruit in fruits:\n",
    "    print(fruit)"
   ]
  },
  {
   "cell_type": "code",
   "execution_count": 12,
   "id": "17e84caf-7b68-469e-bf39-c8339e14d8f7",
   "metadata": {},
   "outputs": [
    {
     "name": "stdout",
     "output_type": "stream",
     "text": [
      "10\n",
      "20\n"
     ]
    }
   ],
   "source": [
    "# Example Program - 2\n",
    "# iterating over tuple:\n",
    "\n",
    "coordinates = (10,20)\n",
    "for coord in coordinates:\n",
    "    print(coord)\n",
    "\n"
   ]
  },
  {
   "cell_type": "code",
   "execution_count": 14,
   "id": "47c171f8-8717-47ed-b07f-b8e24214a524",
   "metadata": {},
   "outputs": [
    {
     "name": "stdout",
     "output_type": "stream",
     "text": [
      "S\n",
      "a\n",
      "k\n",
      "k\n",
      "u\n"
     ]
    }
   ],
   "source": [
    "# Example Program - 3\n",
    "# iterating over string:\n",
    "\n",
    "txt = \"Sakku\"\n",
    "for t in txt:\n",
    "    print(t)"
   ]
  },
  {
   "cell_type": "code",
   "execution_count": 45,
   "id": "8055460b-a30e-4ea4-bdfd-d123df3186e9",
   "metadata": {},
   "outputs": [
    {
     "name": "stdout",
     "output_type": "stream",
     "text": [
      " my name is Sakku \n",
      " my age is 21 \n"
     ]
    }
   ],
   "source": [
    "# Example Program - 4\n",
    "# iterating over dictionaries:\n",
    "\n",
    "person = {\"name\":\"Sakku\", \"age\":21}\n",
    "for key, value in person.items():\n",
    "    print(f\" my {key} is {value} \")"
   ]
  },
  {
   "cell_type": "markdown",
   "id": "22199c0f-2365-483c-b789-9d74ddc14bd6",
   "metadata": {},
   "source": [
    "## 2.`while loop:`"
   ]
  },
  {
   "cell_type": "markdown",
   "id": "27ccd98d-cb85-4f52-9ae9-d47991ddc980",
   "metadata": {},
   "source": [
    "- Python while loop is used to run a block code until a certain condition is met.\n",
    "- Used to execute a block of code as long as a specified condition remains true.\n",
    "- The condition is checked befor each iteration, and the loop continues as long as the condition met."
   ]
  },
  {
   "cell_type": "markdown",
   "id": "bf87c40c-9b41-40ab-84d0-badcc6634617",
   "metadata": {},
   "source": [
    "### Syntax"
   ]
  },
  {
   "cell_type": "code",
   "execution_count": null,
   "id": "aa39f196-9ac2-406f-8812-3097a8150ecf",
   "metadata": {},
   "outputs": [],
   "source": [
    "while condition:\n",
    "    # Code to be executed as long as the condition is true"
   ]
  },
  {
   "cell_type": "markdown",
   "id": "8b9e092d-63f1-4b48-9193-b30d628d8955",
   "metadata": {},
   "source": [
    "- `condition` : An expression that evaluates to either True or False. The loop continues to execute as long as the condition remains True.\n",
    "- `Usage`: Repeating code until a specific condition is met."
   ]
  },
  {
   "cell_type": "code",
   "execution_count": 3,
   "id": "94c10977-af02-42ef-aa87-adf925636f36",
   "metadata": {},
   "outputs": [
    {
     "name": "stdout",
     "output_type": "stream",
     "text": [
      "0\n",
      "1\n",
      "2\n",
      "3\n",
      "4\n"
     ]
    }
   ],
   "source": [
    "# Example Program\n",
    "\n",
    "count = 0\n",
    "while count < 5:\n",
    "    print(count)\n",
    "    count = count + 1"
   ]
  },
  {
   "cell_type": "code",
   "execution_count": 7,
   "id": "e0aa8b36-d0d5-4662-883e-fc9e8e245183",
   "metadata": {},
   "outputs": [
    {
     "name": "stdin",
     "output_type": "stream",
     "text": [
      "Enter a number:  5\n"
     ]
    },
    {
     "name": "stdout",
     "output_type": "stream",
     "text": [
      "Factorial: 120\n"
     ]
    }
   ],
   "source": [
    "# Example Program on Factorial Calculation:\n",
    "\n",
    "num = int(input(\"Enter a number: \"))\n",
    "factorial = 1\n",
    "while num > 0:\n",
    "    factorial = factorial * num\n",
    "    num -= 1\n",
    "print(\"Factorial:\", factorial)"
   ]
  },
  {
   "cell_type": "code",
   "execution_count": null,
   "id": "ac16d817-6b76-41fb-80a9-937ac8054bc1",
   "metadata": {},
   "outputs": [],
   "source": []
  }
 ],
 "metadata": {
  "kernelspec": {
   "display_name": "Python 3 (ipykernel)",
   "language": "python",
   "name": "python3"
  },
  "language_info": {
   "codemirror_mode": {
    "name": "ipython",
    "version": 3
   },
   "file_extension": ".py",
   "mimetype": "text/x-python",
   "name": "python",
   "nbconvert_exporter": "python",
   "pygments_lexer": "ipython3",
   "version": "3.12.4"
  }
 },
 "nbformat": 4,
 "nbformat_minor": 5
}
