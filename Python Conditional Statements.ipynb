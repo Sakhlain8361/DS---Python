{
 "cells": [
  {
   "cell_type": "markdown",
   "id": "570fca22-9747-4fd9-855d-e262c6870a2f",
   "metadata": {},
   "source": [
    "# Python Condition's Statements"
   ]
  },
  {
   "cell_type": "markdown",
   "id": "0b251c27-758e-4fee-9a7b-b96c7d6a3dd6",
   "metadata": {},
   "source": [
    "- In python conditional statements are used to control the flow of a program based on certain conditions.\n",
    "- The if,else and elif this keyword's are used for creating conditional structure."
   ]
  },
  {
   "cell_type": "markdown",
   "id": "b1f78646-948f-42ce-b591-803d1d0d6e1c",
   "metadata": {},
   "source": [
    "## 1. `Python if - statement:`"
   ]
  },
  {
   "cell_type": "markdown",
   "id": "6314bf68-7c1b-4e26-96fc-0dc501f09371",
   "metadata": {},
   "source": [
    "- The if conditional statement in python used to make decisions in your code only the specific condition it true.\n",
    "- This is essential for creating programs that can respond dynamically to different inputs or situations.\n",
    "- By using the if - statement we can make `Decision Making`.\n",
    "- We can control the flow of the program.\n",
    "- An if - statement was written by using the `if` keyword."
   ]
  },
  {
   "cell_type": "markdown",
   "id": "16f32435-27ff-4aa3-9060-f5370948f88e",
   "metadata": {},
   "source": [
    "### Syntax"
   ]
  },
  {
   "cell_type": "code",
   "execution_count": null,
   "id": "eef96d4c-179b-4912-9085-58a56ff1a46f",
   "metadata": {},
   "outputs": [],
   "source": [
    "if condition:"
   ]
  },
  {
   "cell_type": "markdown",
   "id": "f17c4a7a-c421-41f8-b6bd-2934e7cca730",
   "metadata": {},
   "source": [
    "- Here, if the condition of the if - statement is:\n",
    "- True = then only the body of the if - statement executes.\n",
    "- False = the body of the statement is skipped from the execution."
   ]
  },
  {
   "cell_type": "code",
   "execution_count": 41,
   "id": "8d5f5f29-63f1-4c5b-9963-66d835189a78",
   "metadata": {},
   "outputs": [
    {
     "name": "stdout",
     "output_type": "stream",
     "text": [
      "Number Is Prime\n"
     ]
    }
   ],
   "source": [
    "## Example on if - statement\n",
    "\n",
    "num = 43\n",
    "if num > 0:\n",
    "    print(\"Number Is Prime\")\n",
    "\n",
    "## Program 2\n"
   ]
  },
  {
   "cell_type": "markdown",
   "id": "50ce993e-2130-4ba3-9231-7234dcb2fccb",
   "metadata": {},
   "source": [
    "## 2. `Python else - statement:`"
   ]
  },
  {
   "cell_type": "markdown",
   "id": "8f406536-ade5-4acc-bc11-84de069f4407",
   "metadata": {},
   "source": [
    "- The `else` statement in Python is used to provide an alternative block of code to execute when the condition in an `if` statement is false.\n",
    "- It allows you to create conditional logic that performs different actions based on whether a specific condition is met or not.\n",
    "- The `else` keyword catches anything which isn't caught by the preceding conditions."
   ]
  },
  {
   "cell_type": "markdown",
   "id": "9e19c4e1-079b-4a3a-bc59-918c8e806ecd",
   "metadata": {},
   "source": [
    "## Here's a breakdown of how the else statement works:"
   ]
  },
  {
   "cell_type": "markdown",
   "id": "0ebf6555-11a2-4329-a5dd-06d990453574",
   "metadata": {},
   "source": [
    "- `if Condition:` The if statement evaluates a condition.\n",
    "- If the condition is `true`, the code inside the if block is executed.\n",
    "- `else Block:` If the condition in the if statement is false, the code inside the else block is executed."
   ]
  },
  {
   "cell_type": "markdown",
   "id": "942a73c7-09f0-426e-ad63-41c1c6d7e8f0",
   "metadata": {},
   "source": [
    "### Syntax"
   ]
  },
  {
   "cell_type": "code",
   "execution_count": null,
   "id": "dc278edb-d4b1-4ffd-b579-f5067d37ab06",
   "metadata": {},
   "outputs": [],
   "source": [
    "if condition:\n",
    "    # Code to execute if the condition is true\n",
    "else:\n",
    "    # Code to execute if the condition is false   "
   ]
  },
  {
   "cell_type": "code",
   "execution_count": 29,
   "id": "a56aa3a3-5433-43ca-81ab-4654e6eee600",
   "metadata": {},
   "outputs": [
    {
     "name": "stdout",
     "output_type": "stream",
     "text": [
      "TRUE\n"
     ]
    }
   ],
   "source": [
    "## Example Program\n",
    "\n",
    "num = 100\n",
    "if num == 100:\n",
    "    print(\"TRUE\")\n",
    "else:\n",
    "    print(\"FALSE\")"
   ]
  },
  {
   "cell_type": "markdown",
   "id": "0235bab9-156f-4103-91ab-cd05b52abb7a",
   "metadata": {},
   "source": [
    "## 3. `Python elif statement:`"
   ]
  },
  {
   "cell_type": "markdown",
   "id": "efaf3d44-d74d-481c-ab96-36f9ea12affc",
   "metadata": {},
   "source": [
    "- The `elif` statement is a combination of \"else if.\"\n",
    "- It provides a way to check multiple conditions in a sequential manner.\n",
    "-  If the initial `if` condition is false, the `elif` conditions are evaluated one by one until one of them is true.\n",
    "-  If none of the conditions are true, the else block (if present) is executed."
   ]
  },
  {
   "cell_type": "markdown",
   "id": "61375fa6-4c28-4aad-a162-608acb12a8d3",
   "metadata": {},
   "source": [
    "### Syntax"
   ]
  },
  {
   "cell_type": "code",
   "execution_count": null,
   "id": "684e978d-8508-4275-9245-996647ab4e2c",
   "metadata": {},
   "outputs": [],
   "source": [
    "if condition1:\n",
    "    # Code to execute if condition1 is true\n",
    "elif condition2:\n",
    "    # Code to execute if condition2 is true\n",
    "else:\n",
    "    # Code to execute if none of the conditions are true"
   ]
  },
  {
   "cell_type": "markdown",
   "id": "60e65a8a-a8d4-4a68-84d2-55f80ed100f7",
   "metadata": {},
   "source": [
    "- `if condition1:` : The initial `if` statement checks the first condition.   \n",
    "- `elif condition2:`: If the first condition is false, the `elif` statement checks the second condition.\n",
    "- `else:` : If none of the previous conditions are true, the `else` block is executed."
   ]
  },
  {
   "cell_type": "code",
   "execution_count": 48,
   "id": "28df66bc-6df5-4d36-85c5-ce13506d18c2",
   "metadata": {},
   "outputs": [
    {
     "name": "stdout",
     "output_type": "stream",
     "text": [
      "Grade B\n"
     ]
    }
   ],
   "source": [
    "## Example Program\n",
    "\n",
    "grade = 85\n",
    "\n",
    "if grade >= 90:\n",
    "    print(\"Grade A\")\n",
    "elif grade >= 80:\n",
    "    print(\"Grade B\")\n",
    "else:\n",
    "    print(\"Grade F\")\n"
   ]
  },
  {
   "cell_type": "markdown",
   "id": "7f77c9d4-33bb-41b8-9b2b-96b35cdc6863",
   "metadata": {},
   "source": [
    "## 4. `Python Nested if statement:`"
   ]
  },
  {
   "cell_type": "markdown",
   "id": "93367fe4-5c52-4ad9-82d9-0753300b05ea",
   "metadata": {},
   "source": [
    "- Nested `if` statements in Python allow us to create more complex conditional logic by placing one `if` statement within another.\n",
    "- This enables us to check multiple conditions and execute different code blocks based on various combinations of these conditions."
   ]
  },
  {
   "cell_type": "markdown",
   "id": "0054b132-1964-4d21-b772-3fd0478f59a5",
   "metadata": {},
   "source": [
    "### Syntax"
   ]
  },
  {
   "cell_type": "code",
   "execution_count": null,
   "id": "2bc7bf27-ca09-4b8c-8a00-fc124e67a456",
   "metadata": {},
   "outputs": [],
   "source": [
    "if condition1:\n",
    "    # Code to execute if condition1 is true\n",
    "    if condition2:\n",
    "        # Code to execute if both condition1 and condition2 are true\n",
    "    else:\n",
    "        # Code to execute if condition1 is true but condition2 is false\n",
    "else:\n",
    "    # Code to execute if condition1 is false"
   ]
  },
  {
   "cell_type": "markdown",
   "id": "5dd9a918-393a-4801-8fc6-0acc5f6215f1",
   "metadata": {},
   "source": [
    "### Explanation:"
   ]
  },
  {
   "cell_type": "markdown",
   "id": "59f80677-dd4a-4a01-9cc0-56d3d0b173c0",
   "metadata": {},
   "source": [
    "- `if condition1:` : The outer `if` statement checks the first condition.\n",
    "- `Code to execute if condition1 is true:` : If the first condition is true, this code block is executed.\n",
    "- `if condition2:` : Inside the outer if block, the inner if statement checks the second condition.\n",
    "- `Code to execute if both condition1 and condition2 are true:` : If both conditions are true, this code block is executed.\n",
    "- `else:` : The `else` block within the outer `if` statement is executed if the first condition is true but the second condition is false.\n",
    "- `Code to execute if condition1 is false:` : The `else` block of the outer `if` statement is executed if the first condition is false.\n"
   ]
  },
  {
   "cell_type": "code",
   "execution_count": 62,
   "id": "13d6d3b2-c5b0-4e9d-9950-c7d5f738c7ed",
   "metadata": {},
   "outputs": [
    {
     "name": "stdout",
     "output_type": "stream",
     "text": [
      "You are an adult you can drink alochol.\n"
     ]
    }
   ],
   "source": [
    "## Example program\n",
    "\n",
    "age = 25\n",
    "if age >=18:\n",
    "    if age < 21:\n",
    "        print(\"You are an adult but can't drink alocohol.\")\n",
    "    else:\n",
    "        print(\"You are an adult you can drink alochol.\")\n",
    "else:\n",
    "    print(\"You are a minor.\")\n"
   ]
  },
  {
   "cell_type": "markdown",
   "id": "143ae3dc-b034-49b9-bd98-e0dbf186e5d6",
   "metadata": {},
   "source": [
    "## Example Program Based On All Conditional Statements"
   ]
  },
  {
   "cell_type": "code",
   "execution_count": 70,
   "id": "532a5430-1ced-4a54-b0c4-5b848ff1031a",
   "metadata": {},
   "outputs": [
    {
     "name": "stdin",
     "output_type": "stream",
     "text": [
      "Enter The Month:- Feb\n"
     ]
    },
    {
     "name": "stdout",
     "output_type": "stream",
     "text": [
      "28 days\n"
     ]
    }
   ],
   "source": [
    "## Pragram - 3\n",
    "# We have to create a program - in a year we have 12 months now the prblm is about we have to know in which month how many days are there.\n",
    "# Now we have to slove this prblm by using Conditional Statement.\n",
    "month = input(\"Enter The Month:-\")\n",
    "days_31_ = [\"January\", \"March\", \"May\", \"July\", \"August\", \"October\", \"December\"]\n",
    "days_30_ = [\"April\", \"June\", \"September\", \"November\"]\n",
    "_28_days = [\"Feb\"]\n",
    "if month in days_31_:\n",
    "    print(\"31 days\")\n",
    "elif month in days_30_:\n",
    "    print(\"30 days\")\n",
    "elif month in _28_days:\n",
    "    print(\"28 days\")\n",
    "else:\n",
    "    print(\"INVALID\")"
   ]
  },
  {
   "cell_type": "code",
   "execution_count": null,
   "id": "5cf39b0e-4182-44bd-9dc6-ddd311dc6558",
   "metadata": {},
   "outputs": [],
   "source": []
  }
 ],
 "metadata": {
  "kernelspec": {
   "display_name": "Python 3 (ipykernel)",
   "language": "python",
   "name": "python3"
  },
  "language_info": {
   "codemirror_mode": {
    "name": "ipython",
    "version": 3
   },
   "file_extension": ".py",
   "mimetype": "text/x-python",
   "name": "python",
   "nbconvert_exporter": "python",
   "pygments_lexer": "ipython3",
   "version": "3.12.4"
  }
 },
 "nbformat": 4,
 "nbformat_minor": 5
}
